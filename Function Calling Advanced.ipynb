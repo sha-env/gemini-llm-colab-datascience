{
 "cells": [
  {
   "cell_type": "code",
   "execution_count": null,
   "metadata": {
    "colab": {
     "base_uri": "https://localhost:8080/"
    },
    "collapsed": true,
    "executionInfo": {
     "elapsed": 20639,
     "status": "ok",
     "timestamp": 1756194710362,
     "user": {
      "displayName": "Yansha",
      "userId": "05921957491757551257"
     },
     "user_tz": -420
    },
    "id": "b7jivmanfMWU",
    "outputId": "c56c2a59-0547-47ae-c54e-3d3db7bbc142"
   },
   "outputs": [],
   "source": [
    "%pip install -qU 'google-genai>=1.0.0'\n",
    "%pip install exa-py"
   ]
  },
  {
   "cell_type": "code",
   "execution_count": null,
   "metadata": {
    "id": "rhTNgfw3fzZq"
   },
   "outputs": [],
   "source": [
    "from google.colab import userdata\n",
    "\n",
    "GEMINI = userdata.get('GEMINI')\n",
    "EXA = userdata.get('EXA')"
   ]
  },
  {
   "cell_type": "code",
   "execution_count": null,
   "metadata": {
    "id": "1vtu2HhFGRvW"
   },
   "outputs": [],
   "source": [
    "from exa_py import Exa\n",
    "\n",
    "exa = Exa(api_key = EXA)"
   ]
  },
  {
   "cell_type": "code",
   "execution_count": null,
   "metadata": {
    "colab": {
     "base_uri": "https://localhost:8080/"
    },
    "collapsed": true,
    "executionInfo": {
     "elapsed": 2607,
     "status": "ok",
     "timestamp": 1756194839922,
     "user": {
      "displayName": "Yansha",
      "userId": "05921957491757551257"
     },
     "user_tz": -420
    },
    "id": "5FAvWAs3fjI_",
    "outputId": "36e64023-c65f-4879-df64-60e72e672f6c"
   },
   "outputs": [],
   "source": [
    "result = exa.search_and_contents(\n",
    "  \"blog post about AI\",\n",
    "  text = True,\n",
    "  type = \"auto\"\n",
    ")\n",
    "result"
   ]
  },
  {
   "cell_type": "code",
   "execution_count": null,
   "metadata": {
    "id": "RHEievW7gMzL"
   },
   "outputs": [],
   "source": [
    "from google import genai\n",
    "from google.colab import userdata\n",
    "\n",
    "client = genai.Client(api_key=GEMINI)\n",
    "MODEL_ID=\"gemini-2.5-flash\""
   ]
  },
  {
   "cell_type": "code",
   "execution_count": null,
   "metadata": {
    "colab": {
     "base_uri": "https://localhost:8080/"
    },
    "executionInfo": {
     "elapsed": 9511,
     "status": "ok",
     "timestamp": 1756194875788,
     "user": {
      "displayName": "Yansha",
      "userId": "05921957491757551257"
     },
     "user_tz": -420
    },
    "id": "8NJt6muXkRrS",
    "outputId": "270d59f3-17d0-414b-f17a-0f0cb897e621"
   },
   "outputs": [],
   "source": [
    "chat = client.chats.create(\n",
    "    model=MODEL_ID\n",
    ")\n",
    "\n",
    "response = chat.send_message(\"apa penyebab terjadinya demo di pati, jawa tengah?\")\n",
    "print(response.text)"
   ]
  },
  {
   "cell_type": "code",
   "execution_count": null,
   "metadata": {
    "colab": {
     "base_uri": "https://localhost:8080/",
     "height": 585
    },
    "executionInfo": {
     "elapsed": 27,
     "status": "ok",
     "timestamp": 1756194880520,
     "user": {
      "displayName": "Yansha",
      "userId": "05921957491757551257"
     },
     "user_tz": -420
    },
    "id": "7L4XzEzBkZuA",
    "outputId": "efb6fa10-8939-4134-cb84-3f3eb28e2141"
   },
   "outputs": [],
   "source": [
    "from IPython.display import Markdown, display\n",
    "\n",
    "def print_history(chat):\n",
    "  for content in chat.get_history():\n",
    "      display(Markdown(\"###\" + content.role + \":\"))\n",
    "      for part in content.parts:\n",
    "          if part.text:\n",
    "              display(Markdown(part.text))\n",
    "          if part.function_call:\n",
    "              print(\"Function call: {\", part.function_call, \"}\")\n",
    "          if part.function_response:\n",
    "              print(\"Function response: {\", part.function_response, \"}\")\n",
    "      print(\"-\" * 80)\n",
    "\n",
    "print_history(chat)"
   ]
  },
  {
   "cell_type": "code",
   "execution_count": null,
   "metadata": {
    "id": "PB-Yy498hFGE"
   },
   "outputs": [],
   "source": [
    "instruction_exa = \"\"\"\n",
    "You are a helpful and knowledgeable AI research assistant.\n",
    "Your primary function is to provide accurate, up-to-date answers to user questions.\n",
    "\n",
    "You have access to a powerful web search tool called 'Exa' that allows you to find real-time information from the internet.\n",
    "\n",
    "**Your instructions are as follows:**\n",
    "\n",
    "1.  **Analyze the User's Query:** First, understand the user's question.\n",
    "    If the question is about recent events, specific, niche topics, or anything that might require information beyond your internal knowledge base, you MUST use the provided search tool.\n",
    "\n",
    "2.  **Use the Search Tool (`exa_search_and_contents`):**\n",
    "    * To use the tool, you must generate a function call.\n",
    "    * Formulate a clear and concise search `query` parameter that best captures the user's intent.\n",
    "      * For example, if the user asks \"apa penyebab terjadinya demo di pati, jawa tengah?\", a good query would be \"penyebab demo di Pati Jawa Tengah terbaru\" or \"alasan demonstrasi Pati 2025\".\n",
    "    * Do not just repeat the user's question as the query. Synthesize it into effective search keywords.\n",
    "\n",
    "3.  **Process the Search Results:**\n",
    "    * After calling the tool, you will receive a list of web page results with their content.\n",
    "    * Carefully read and synthesize the information from the provided content to construct your final answer.\n",
    "    * Do not just copy the content. Explain it in your own words.\n",
    "\n",
    "4.  **Provide a Comprehensive Answer:**\n",
    "    * Answer the user's original question directly.\n",
    "    * If you use information from the search results, you MUST cite your sources by mentioning the URL(s) you used.\n",
    "    * If the search tool does not return relevant information or you cannot find an answer, clearly state that you were unable to find the information on the web. Do not invent an answer.\n",
    "\"\"\""
   ]
  },
  {
   "cell_type": "code",
   "execution_count": null,
   "metadata": {
    "id": "VXvpdf_mhbn-"
   },
   "outputs": [],
   "source": [
    "import os\n",
    "\n",
    "def exa_search_and_contents(query: str):\n",
    "    \"\"\"\n",
    "    Searches the internet for up-to-date information using a query.\n",
    "\n",
    "    Args:\n",
    "        query: A clear and concise search query string.\n",
    "\n",
    "    Returns:\n",
    "        A formatted string of search results including title, URL, and content snippet.\n",
    "    \"\"\"\n",
    "    print(f\"🔍 Executing Exa search for: '{query}'\")\n",
    "    try:\n",
    "        # Call the Exa API\n",
    "        search_results = exa.search_and_contents(\n",
    "            query=query,\n",
    "            type=\"auto\",\n",
    "            num_results=3,  # Get the top 3 results for a good summary\n",
    "            text={\"max_characters\": 2000} # Limit content length per result\n",
    "        )\n",
    "\n",
    "        # Format the output for clarity\n",
    "        formatted_results = []\n",
    "        for result in search_results.results:\n",
    "            formatted_results.append(\n",
    "                f\"Title: {result.title}\\n\"\n",
    "                f\"URL: {result.url}\\n\"\n",
    "                f\"Content: {result.text}\\n\"\n",
    "                \"-----------------\"\n",
    "            )\n",
    "\n",
    "        return \"\\n\".join(formatted_results)\n",
    "\n",
    "    except Exception as e:\n",
    "        return f\"An error occurred during the search: {e}\"\n",
    "\n",
    "def get_google_maps_data():\n",
    "  pass"
   ]
  },
  {
   "cell_type": "code",
   "execution_count": null,
   "metadata": {
    "colab": {
     "base_uri": "https://localhost:8080/"
    },
    "executionInfo": {
     "elapsed": 10860,
     "status": "ok",
     "timestamp": 1756194907532,
     "user": {
      "displayName": "Yansha",
      "userId": "05921957491757551257"
     },
     "user_tz": -420
    },
    "id": "HTC80BVCIe8F",
    "outputId": "467388cf-9f42-4400-d9fa-c151fce27943"
   },
   "outputs": [],
   "source": [
    "chat = client.chats.create(\n",
    "    model=MODEL_ID\n",
    ")\n",
    "\n",
    "response = chat.send_message(\"apa penyebab terjadinya demo di pati, jawa tengah?\")\n",
    "print(response.text)"
   ]
  },
  {
   "cell_type": "code",
   "execution_count": null,
   "metadata": {
    "colab": {
     "base_uri": "https://localhost:8080/"
    },
    "executionInfo": {
     "elapsed": 6256,
     "status": "ok",
     "timestamp": 1756194915831,
     "user": {
      "displayName": "Yansha",
      "userId": "05921957491757551257"
     },
     "user_tz": -420
    },
    "id": "JVbOMSMIgTnZ",
    "outputId": "f1fd221a-c89a-4bbc-9295-57c336377950"
   },
   "outputs": [],
   "source": [
    "chat = client.chats.create(\n",
    "    model=MODEL_ID,\n",
    "    config={\n",
    "        \"tools\": [exa_search_and_contents],\n",
    "        \"system_instruction\": instruction_exa,\n",
    "    }\n",
    ")\n",
    "\n",
    "response = chat.send_message(\"apa penyebab terjadinya demo di pati, jawa tengah?\")\n",
    "print(response.text)"
   ]
  },
  {
   "cell_type": "code",
   "execution_count": null,
   "metadata": {
    "colab": {
     "base_uri": "https://localhost:8080/",
     "height": 521
    },
    "executionInfo": {
     "elapsed": 41,
     "status": "ok",
     "timestamp": 1756194922212,
     "user": {
      "displayName": "Yansha",
      "userId": "05921957491757551257"
     },
     "user_tz": -420
    },
    "id": "R6mzjG7lgs21",
    "outputId": "16c66be8-45b7-4cd4-8a7e-7c8a77057850"
   },
   "outputs": [],
   "source": [
    "from IPython.display import Markdown, display\n",
    "\n",
    "def print_history(chat):\n",
    "  for content in chat.get_history():\n",
    "      display(Markdown(\"###\" + content.role + \":\"))\n",
    "      for part in content.parts:\n",
    "          if part.text:\n",
    "              display(Markdown(part.text))\n",
    "          if part.function_call:\n",
    "              print(\"Function call: {\", part.function_call, \"}\")\n",
    "          if part.function_response:\n",
    "              print(\"Function response: {\", part.function_response, \"}\")\n",
    "      print(\"-\" * 80)\n",
    "\n",
    "print_history(chat)"
   ]
  }
 ],
 "metadata": {
  "accelerator": "GPU",
  "colab": {
   "gpuType": "T4",
   "provenance": [
    {
     "file_id": "1eMbQzTTbhM6klk0Jryh9aPiydWw-HWCd",
     "timestamp": 1756194595386
    }
   ]
  },
  "kernelspec": {
   "display_name": "base",
   "language": "python",
   "name": "python3"
  },
  "language_info": {
   "name": "python",
   "version": "3.13.5"
  }
 },
 "nbformat": 4,
 "nbformat_minor": 0
}
