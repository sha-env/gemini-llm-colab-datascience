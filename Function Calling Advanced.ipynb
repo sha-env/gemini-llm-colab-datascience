{
 "cells": [
  {
   "cell_type": "code",
   "execution_count": null,
   "metadata": {
    "colab": {
     "base_uri": "https://localhost:8080/"
    },
    "collapsed": true,
    "executionInfo": {
     "elapsed": 20639,
     "status": "ok",
     "timestamp": 1756194710362,
     "user": {
      "displayName": "Yansha",
      "userId": "05921957491757551257"
     },
     "user_tz": -420
    },
    "id": "b7jivmanfMWU",
    "outputId": "c56c2a59-0547-47ae-c54e-3d3db7bbc142"
   },
   "outputs": [
    {
     "ename": "",
     "evalue": "",
     "output_type": "error",
     "traceback": [
      "\u001b[1;31mRunning cells with 'base (Python 3.13.5)' requires the ipykernel package.\n",
      "\u001b[1;31m<a href='command:jupyter.createPythonEnvAndSelectController'>Create a Python Environment</a> with the required packages.\n",
      "\u001b[1;31mOr install 'ipykernel' using the command: 'conda install -n base ipykernel --update-deps --force-reinstall'"
     ]
    }
   ],
   "source": [
    "%pip install -qU 'google-genai>=1.0.0'\n",
    "%pip install exa-py"
   ]
  },
  {
   "cell_type": "code",
   "execution_count": null,
   "metadata": {
    "id": "rhTNgfw3fzZq"
   },
   "outputs": [],
   "source": [
    "from google.colab import userdata\n",
    "\n",
    "GEMINI = userdata.get('GEMINI')\n",
    "EXA = userdata.get('EXA')"
   ]
  },
  {
   "cell_type": "code",
   "execution_count": null,
   "metadata": {
    "id": "1vtu2HhFGRvW"
   },
   "outputs": [],
   "source": [
    "from exa_py import Exa\n",
    "\n",
    "exa = Exa(api_key = EXA)"
   ]
  },
  {
   "cell_type": "code",
   "execution_count": null,
   "metadata": {
    "colab": {
     "base_uri": "https://localhost:8080/"
    },
    "collapsed": true,
    "executionInfo": {
     "elapsed": 2607,
     "status": "ok",
     "timestamp": 1756194839922,
     "user": {
      "displayName": "Yansha",
      "userId": "05921957491757551257"
     },
     "user_tz": -420
    },
    "id": "5FAvWAs3fjI_",
    "outputId": "36e64023-c65f-4879-df64-60e72e672f6c"
   },
   "outputs": [
    {
     "data": {
      "text/plain": [
       "SearchResponse(results=[Result(url='https://onlinedegrees.sandiego.edu/ai-blogs/', id='https://onlinedegrees.sandiego.edu/ai-blogs/', title='12 AI Blogs You Should Be Reading, Now', score=None, published_date='2024-10-03T18:49:55.000Z', author='Administrator', image='https://onlinedegrees.sandiego.edu/wp-content/uploads/2024/08/ai-blogs.jpg', favicon=None, subpages=None, extras=None, text='[Skip to content](https://onlinedegrees.sandiego.edu/onlinedegrees.sandiego.edu#main)\\n\\n[Back to Blog](https://onlinedegrees.sandiego.edu/blog/business-entrepreneurship/)\\n\\n- [Business & Entrepreneurship](https://onlinedegrees.sandiego.edu/area-of-study/business-entrepreneurship/)\\n- [Computer Science](https://onlinedegrees.sandiego.edu/area-of-study/computer-science/)\\n- [Engineering](https://onlinedegrees.sandiego.edu/area-of-study/engineering/)\\n- [Technology](https://onlinedegrees.sandiego.edu/area-of-study/technology/)\\n\\n# The 12 Best AI Blogs You Should Be Following\\n\\n10 min read\\n\\nOn This Page\\n\\n- [OpenAI Blog](https://onlinedegrees.sandiego.edu/onlinedegrees.sandiego.edu#openai-blog)\\n- [Machine Learning Mastery](https://onlinedegrees.sandiego.edu/onlinedegrees.sandiego.edu#machine-learning-mastery)\\n- [AWS Machine Learning Blog](https://onlinedegrees.sandiego.edu/onlinedegrees.sandiego.edu#aws-machine-learning-blog)\\n- [The Berkeley Artificial Intelligence Research Blog](https://onlinedegrees.sandiego.edu/onlinedegrees.sandiego.edu#the-berkeley-artificial-intelligence-research-blog)\\n- [Google Research Blog](https://onlinedegrees.sandiego.edu/onlinedegrees.sandiego.edu#google-research-blog)\\n- [Google DeepMind Blog](https://onlinedegrees.sandiego.edu/onlinedegrees.sandiego.edu#google-deepmind-blog)\\n- [MIT News - Artificial Intelligence](https://onlinedegrees.sandiego.edu/onlinedegrees.sandiego.edu#mit-news-artificial-intelligence)\\n- [KDnuggets](https://onlinedegrees.sandiego.edu/onlinedegrees.sandiego.edu#kdnuggets)\\n- [MarkTechPost](https://onlinedegrees.sandiego.edu/onlinedegrees.sandiego.edu#marktechpost)\\n- [Towards AI](https://onlinedegrees.sandiego.edu/onlinedegrees.sandiego.edu#towards-ai)\\n- [Apple Machine Learning Research](https://onlinedegrees.sandiego.edu/onlinedegrees.sandiego.edu#apple-machine-learning-research)\\n- [TOPBOTS](https://onlinedegrees.sandiego.edu/onlinedegrees.sandiego.edu#topbots)\\n- [Stay Informed with AI Blogs](https://onlinedegrees.sandiego.edu/onlinedegrees.sandiego.edu#stay-informed-with-ai-blogs)\\n- [FAQs](https://onlinedegrees.sandiego.edu/onlinedegrees.sandiego.edu#frequently-asked-questions)\\n\\n[free ms-aai brochure](https://onlinedegrees.sandiego.edu/resources/free-ms-aai-program-brochure/)\\n\\nFor artificial intelligence (AI) professionals and students, staying current with the latest advancements is vital. AI blogs play a pivotal role by offering accessible insights into complex AI developments. These resources deliver several advantages, including real-time industry updates, clear explanations of advanced AI concepts for students and skill enhancement for professionals in a rapidly evolving field.\\n\\nIn this article, we highlight the following top AI blogs, exploring their different topics, relevance to different AI segments and actionable insights:\\n\\n- OpenAI Blog\\n- Machine Learning Mastery\\n- AWS Machine Learning Blog\\n- The Berkeley Artificial Intelligence Research Blog\\n- Google Research Blog\\n- Google DeepMind Blog\\n- MIT News – Artificial Intelligence\\n- KDnuggets\\n- MarkTechPost\\n- Towards AI\\n- Apple Machine Learning Research\\n- TopBots\\n\\nWe encourage readers to keep this page bookmarked as a go-to resource for continuous learning and staying informed about the AI industry.\\n\\n## [OpenAI Blog](https://openai.com/blog)\\n\\nThe OpenAI Blog is a primary source of information on the research and projects undertaken by OpenAI. It covers a broad spectrum of topics within AI, ranging from deep learning techniques to advancements in AI safety and ethics.\\n\\n### Author/Organization\\n\\nThe content is curated by OpenAI, an AI research lab consisting of some of the most prominent researchers in the field. Their work not only focuses on advancing AI technology but also on ensuring its safe and ethical use.\\n\\n### Why Read It?\\n\\nThis blog is essential for those interested in the forefront of AI research and development. OpenAI is known for its pioneering work in the field, and its blog provides direct insights into these cutting-edge developments. It is particularly beneficial for readers seeking to understand the future trajectory of AI and its potential impact across various sectors.\\n\\n### Recommended Posts\\n\\n[How OpenAI is approaching 2024 worldwide elections](https://openai.com/blog/how-openai-is-approaching-2024-worldwide-elections)\\n\\n[ChatGPT can now see, hear, and speak](https://openai.com/blog/chatgpt-can-now-see-hear-and-speak)\\n\\n[Teaching with AI](https://openai.com/blog/teaching-with-ai)\\n\\n## [Machine Learning Mastery](https://machinelearningmastery.com/blog/)\\n\\nMachine Learning Mastery is a highly practical and accessible resource. The blog offers detailed advice, tutorials and guides on various aspects of machine learning. It caters to both beginners and experienced practitioners, focusing on delivering actionable insights.\\n\\n### Author/Organization\\n\\nJason Brownlee, PhD, is the driving force behind this blog. His expertise in machine learning (ML) is evident in the quality and clarity of the content, making it a trusted resource for learners at all levels.\\n\\n### Why Read It?\\n\\nThis blog is ideal for those seeking hands-on content that breaks down machine learning. Whether it’s through step-by-step tutorials or in-depth guides, readers gain practical skills they can apply in real-world scenarios. Its straightforward and clear approach makes complex topics easily digestible, enabling a deeper understanding of machine learning processes.\\n\\n### Recommended Posts\\n\\n[Revealing the Invisible: Visualizing Missing Values in Ames Housing](https://machinelearningmastery.com/revealing_the_invisible/)\\n\\n[How to Transform Images and Create Video with OpenCV](https://machinelearningmastery.com/how-to-transform-images-and-create-video-with-opencv/)\\n\\n[A Gentle Introduction to Using R Markdown](https://machinelearningmastery.com/a-gentle-introduction-to-using-r-markdown/)\\n\\n## [AWS Machine Learning Blog](https://aws.amazon.com/blogs/machine-learning/)\\n\\nThe AWS Machine Learning Blog is a key source for the latest news and innovations in machine learning, particularly from the perspective of Amazon Web Services (AWS). It encompasses a wide range of topics, from advancements in cloud-based machine learning technologies to practical implementations in various industries.\\n\\n### Author/Organization\\n\\nAuthored by experts at Amazon Web Services, the blog reflects the knowledge and expertise of one of the foremost companies in cloud computing and machine learning. The posts are informed by AWS’s extensive experience in implementing ML solutions across a wide array of applications.\\n\\n### Why Read It?\\n\\nThis blog is particularly valuable for those interested in understanding how machine learning is integrated into cloud services. AWS, as a leading provider of cloud computing, offers unique insights into how machine learning technologies are developed and deployed at scale. The blog is a resource for learning about new ML features and capabilities within the AWS ecosystem.\\n\\n### Recommended Posts\\n\\n[Welcome to a New Era of Building in the Cloud with Generative AI on AWS](https://aws.amazon.com/blogs/machine-learning/welcome-to-a-new-era-of-building-in-the-cloud-with-generative-ai-on-aws/)\\n\\n[Build a vaccination verification solution using the Queries feature in Amazon Textract](https://aws.amazon.com/blogs/machine-learning/build-a-vaccination-verification-solution-using-the-queries-feature-in-amazon-textract/)\\n\\n[ISO 42001: A new foundational global standard to advance responsible AI](https://aws.amazon.com/blogs/machine-learning/iso-42001-a-new-foundational-global-standard-to-advance-responsible-ai/)\\n\\n## [The Berkeley Artificial Intelligence Research Blog](https://bair.berkeley.edu/blog/)\\n\\nThe Berkeley Artificial Intelligence Research (BAIR) Blog is a window into the forefront of academic AI research, presenting developments and insights from the University of California, Berkeley. This blog covers a wide spectrum of AI research topics, including deep learning, robotics and human-AI interaction.\\n\\n### Author/Organization\\n\\nThe blog is managed and contributed to by researchers and faculty members from UC Berkeley, one of the leading institutions in AI research. Their expertise and groundbreaking work in the field lend credibility and depth to the content presented.\\n\\n### Why Read It?\\n\\nFor those interested in the academic and theoretical side of AI, this blog is invaluable. It offers a glimpse into cutting-edge research and emerging ideas in the field of AI. The blog is a rich source of information on how current research is pushing the boundaries of AI technology and understanding.\\n\\n### Recommended Posts\\n\\n[Ghostbuster: Detecting Text Ghostwritten by Large Language Models](https://bair.berkeley.edu/blog/2023/11/14/ghostbuster/)\\n\\n[Training Diffusion Models with Reinforcement Learning](https://bair.berkeley.edu/blog/2023/07/14/ddpo/)\\n\\n[Interactive Fleet Learning](https://bair.berkeley.edu/blog/2023/04/06/ifl/)\\n\\n## [Google Research Blog](https://blog.research.google/)\\n\\nThe Google Research Blog offers insights into the extensive AI research and applications underway at Google. It encompasses a range of topics, from advancements in machine learning algorithms to the application of AI in various Google products and services. The blog provides an overview of how AI is being integrated and evolved within one of the world’s leading tech companies.\\n\\n### Author/Organization\\n\\nAuthored by researchers and developers at Google, the blog reflects the cutting-edge work and expertise of one of the most influential companies in the field of AI. The contributors are often leading experts in their specific areas of AI research and development.\\n\\n### Why Read It?\\n\\nThis blog is a valuable resource for those who want to stay informed about the latest AI innovations from a global technology leader. It provides an inside look at how Google is leveraging AI in areas like natural language processing, computer vision and more. Readers gain an understanding of how AI technologies are being developed and applied at a large scale.\\n\\n### Recommended Posts\\n\\n[Introducing ASPIRE for selective prediction in LLMs](https://blog.research.google/2024/01/introducing-aspire-for-selective.html)\\n\\n[AMIE: A research AI system for diagnostic medical reasoning and conversations](https://blog.research.google/2024/01/amie-research-ai-system-for-diagnostic_12.html)\\n\\n[VideoPoet: A large language model for zero-shot video generation](https://blog.research.google/2023/12/videopoet-large-language-model-for-zero.html)\\n\\n## [Google DeepMind Blog](https://deepmind.google/discover/blog/)\\n\\nThe Google DeepMind Blog delves into the advancements and research spearheaded by Google DeepMind. Known for its significant contributions to the AI field, this blog covers a wide array of topics, including breakthroughs in deep learning, reinforcement learning and the application of AI in solving complex scientific problems.\\n\\n### Author/Organization\\n\\nThe content is created by the team at Google DeepMind, which includes some of the world’s foremost researchers in AI. Their work is at the forefront of the field, pushing the boundaries of what AI can achieve.\\n\\n### Why Read It?\\n\\nThis blog is a showcase of some of the most groundbreaking work in AI. It is particularly notable for its coverage of AI breakthroughs that have practical implications across various domains, such as healthcare, energy efficiency and more. Readers interested in cutting-edge AI research and its real-world applications will find this blog extremely informative.\\n\\n### Recommended Posts\\n\\n[Shaping the future of advanced robotics](https://deepmind.google/discover/blog/shaping-the-future-of-advanced-robotics/)\\n\\n[Millions of new materials discovered with deep learning](https://deepmind.google/discover/blog/millions-of-new-materials-discovered-with-deep-learning/)\\n\\n[Transforming the future of music creation](https://deepmind.google/discover/blog/transforming-the-future-of-music-creation/)\\n\\n## [MIT News – Artificial Intelligence](https://news.mit.edu/topic/artificial-intelligence2)\\n\\nMIT News – Artificial Intelligence is an authoritative source for AI-related news and research coming from the Massachusetts Institute of Technology (MIT). This platform covers a broad spectrum of AI topics, ranging from advancements in machine learning to innovations in AI ethics and policy. The content reflects the pioneering research and thought leadership of MIT in the realm of AI.\\n\\n### Author/Organization\\n\\nThe blog is maintained by MIT, featuring content written by researchers and faculty members renowned in the field of AI. Their expertise and groundbreaking research contributions add significant value and credibility to the articles.\\n\\n### Why Read It?\\n\\nReaders seeking a comprehensive view of AI across various disciplines will find this source exceptionally worthwhile. It offers notable details of the latest research and developments from one of the world’s most prestigious institutions. The breadth and depth of topics covered ensure a rich understanding of AI’s impact and potential across different sectors.\\n\\n### Recommended Posts\\n\\n[New hope for early pancreatic cancer intervention via AI-based risk prediction](https://news.mit.edu/2024/new-hope-early-pancreatic-cancer-intervention-ai-based-risk-prediction-0118)\\n\\n[Complex, unfamiliar sentences make the brain’s language network work harder](https://news.mit.edu/2024/complex-unfamiliar-sentences-brains-language-network-0103)\\n\\n[A flexible solution to help artists improve animation](https://news.mit.edu/2023/flexible-solution-help-artists-improve-animation-1220)\\n\\n## [KDnuggets](https://www.kdnuggets.com/)\\n\\nKDnuggets is a prominent blog focusing on business analytics, big data, data mining, data science and machine learning. It provides a comprehensive look at these fields, blending technical knowledge with practical business applications. The content ranges from in-depth tutorials and guides to industry news and analysis, catering to a wide audience interested in the intersection of data science and business.\\n\\n### Author/Organization\\n\\nKDnuggets is run by a team of experts in data science and machine learning, with contributions from industry professionals and academics. Their collective expertise ensures that the content is both authoritative and relevant to current industry trends.\\n\\n### Why Read It?\\n\\nThis blog is especially beneficial for readers who seek to understand the practical business applications of machine learning and data science. KDnuggets excels in presenting complex topics in an accessible manner, offering information that is valuable both to technical professionals and business strategists. Its blend of technical detail and business context makes it a unique resource in the field.\\n\\n### Recommended Posts\\n\\n[Powering Up with Predictive GenAI](https://www.kdnuggets.com/2024/01/pecan-powering-predictive-genai)\\n\\n[AI Prompt Engineers are Making $300k/y](https://www.kdnuggets.com/ai-prompt-engineers-are-making-300ky)\\n\\n[5 Coding Tasks ChatGPT Can’t Do](https://www.kdnuggets.com/5-coding-tasks-chatgpt-cant-do)\\n\\n## [MarkTechPost](https://www.marktechpost.com/)\\n\\nMarkTechPost is a specialized blog focusing on the latest technological trends, with a particular emphasis on artificial intelligence and machine learning. It covers a wide range of topics, from technical advancements in AI and ML to their application and influence in various industries. The blog provides up-to-date insights into how these technologies are shaping the future of different sectors.\\n\\n### Author/Organization\\n\\nMarkTechPost is managed by a team of tech enthusiasts and professionals who bring their knowledge and expertise into the rapidly evolving world of technology. Their backgrounds contribute to a rich and varied coverage of AI and ML topics.\\n\\n### Why Read It?\\n\\nThis blog is an essential resource for anyone interested in understanding the practical impact of AI and ML across various industries. It offers a comprehensive view of how these technologies are being integrated into and transforming different business sectors, from healthcare to finance. The content is both informative and thought-provoking, providing a clear perspective on the role of AI and ML in the current technological landscape.\\n\\n### Recommended Posts\\n\\n[Researchers from CMU, Bosch, and Google Unite to Transform AI Security: Simplifying Adversarial Robustness in a Groundbreaking Achievement](https://www.marktechpost.com/2024/01/22/researchers-from-cmu-bosch-and-google-unite-to-transform-ai-security-simplifying-adversarial-robustness-in-a-groundbreaking-achievement/)\\n\\n[Best Image Annotation Tools in 2024](https://www.marktechpost.com/2024/01/22/best-image-annotation-tools-in-2023/)\\n\\n[Stanford Researchers Introduce PEPSI: A New Artificial Intelligence Method to Identify Tumor-Immune Cell Interactions from Tissue Imaging](https://www.marktechpost.com/2024/01/22/stanford-researchers-introduce-pepsi-a-new-artificial-intelligence-method-to-identify-tumor-immune-cell-interactions-from-tissue-imaging/)\\n\\n## [Towards AI](https://towardsai.net/p)\\n\\nTowards AI serves as a comprehensive platform discussing a wide selection of topics related to artificial intelligence, machine learning and data science. The blog addresses both fundamental and advanced aspects of these fields, catering to a wide audience ranging from beginners to seasoned experts. Its content spans from detailed technical articles to discussions on the broader implications and trends in AI.\\n\\n### Author/Organization\\n\\nTowards AI is created and managed by a team of experts and contributors who specialize in various areas of AI and data science. Their collective expertise delivers authoritative content that is relevant to current and emerging trends in these fields.\\n\\n### Why Read It?\\n\\nThis blog is a go-to resource for anyone looking to gain a holistic understanding of AI trends and information. It stands out for its ability to cover a wide spectrum of AI-related topics, offering deep insights into both the technical and ethical aspects of AI and data science. The range and depth of the content make it a valuable resource for continuous learning in the field.\\n\\n### Recommended Posts\\n\\n[The GPT Store: Is the Hype Justified?](https://towardsai.net/p/machine-learning/the-gpt-store-is-the-hype-justified)\\n\\n[Mastering GPT-4 Code Prompts With Guardrails and Custom Instructions](https://towardsai.net/p/machine-learning/mastering-gpt-4-code-prompts-with-guardrails-and-custom-instructions)\\n\\n[7 Mistakes Beginner ML Students Make Every Year](https://towardsai.net/p/machine-learning/7-mistakes-beginner-ml-students-make-every-year)\\n\\n## [Apple Machine Learning Research](https://machinelearning.apple.com/research)\\n\\nThe Apple Machine Learning Research offers a unique behind-the-scenes perspective on machine learning at Apple. This resource delves into how machine learning technologies are being developed and integrated into Apple’s range of products and services. The journal discusses various aspects of machine learning, from the technical intricacies of algorithm development to the practical applications in everyday devices.\\n\\n### Author/Organization\\n\\nAuthored by experts and researchers at Apple, the journal reflects the company’s commitment to innovation and excellence in the field of machine learning. The content is informed by Apple’s extensive experience and leadership in integrating advanced technology into consumer products.\\n\\n### Why Read It?\\n\\nFor those curious about the practical application of machine learning in consumer technology, this journal is a treasure trove of information. It provides exclusive insights into how a leading technology company like Apple is harnessing machine learning to enhance user experience and functionality in its products. The journal also sheds light on the challenges and innovations in implementing ML in a wide range of applications.\\n\\n### Recommended Posts\\n\\n[Hybrid Model Learning for Cardiovascular Biomarkers Inference](https://machinelearning.apple.com/research/hybrid-model-learning)\\n\\n[Controllable Music Production with Diffusion Models and Guidance Gradients](https://machinelearning.apple.com/research/controllable-music)\\n\\n[Automating Behavioral Testing in Machine Translation](https://machinelearning.apple.com/research/automating-behavioral-testing)\\n\\n## [TOPBOTS](https://www.topbots.com/)\\n\\nTOPBOTS is dedicated to exploring the practical applications of Artificial Intelligence in business and technology. This blog offers a focused look at how AI is integrated and utilized across various industries. It covers a range of topics, including AI strategy, implementation in business processes and the impact of AI on different technological sectors.\\n\\n### Author/Organization\\n\\nTOPBOTS is managed by a team of AI experts and industry professionals. Their expertise in AI and machine learning strategy and research comes through in content that is both informative and applicable to current industry needs.\\n\\n### Why Read It?\\n\\nThis blog is a valuable resource for professionals and business leaders seeking to understand how AI can be effectively applied in their industries. It provides insights into real-world AI integration, showcasing how AI transforms business operations and creates new opportunities. The content is tailored to offer practical guidance and case studies, making AI accessible and relevant to business applications.\\n\\n### Recommended Posts\\n\\n[Top 10 Influential AI Research Papers in 2023 from Google, Meta, Microsoft, and More](https://www.topbots.com/top-ai-research-papers-2023/)\\n\\n[Code Smarter, Not Harder: Streamline Software Development with Generative AI](https://www.topbots.com/ai-for-software-development/)\\n\\n[AI In HR: A Guide For Business And HR Leaders](https://www.topbots.com/ai-in-hr-guide/)\\n\\n## Stay Informed with AI Blogs\\n\\nThis collection of AI blogs presents a comprehensive guide for those eager to deepen their understanding of artificial intelligence. Each blog brings a unique perspective, covering the spectrum from technical advancements to ethical considerations. For professionals and students in AI, these blogs are more than just sources of information; they are essential tools for continuous learning and professional development.\\n\\nTo further enhance your journey in AI, the eBook, 8 Questions to Ask Before Selecting an Applied Artificial Intelligence Master’s Program, offers detailed guidance. It’s an impressive resource for making informed decisions about your education and career in the field of AI.\\n\\n[Access the eBook here](https://onlinedegrees.sandiego.edu/resources/8-questions-artificial-intelligence-masters-ebook/) for a deeper exploration into the world of AI.\\n\\n## Frequently Asked Questions\\n\\nExpand All\\n\\n#### What are the top AI sites?\\n\\nThe top AI sites encompass a wide spectrum of resources, catering to different needs. For AI research and innovation, explore OpenAI Blog and Google DeepMind Blog. For practical applications, consider KDnuggets and MarkTechPost. To stay informed about AI ethics and societal impacts, visit Wisdom Works Blog.\\n\\n#### What is the best source of AI news?\\n\\nThe best source of AI news varies depending on your interests. Google Research Blog provides insights into cutting-edge research. MIT News – Artificial Intelligence covers diverse AI topics from a prestigious institution. Apple Machine Learning Research offers a unique look at AI integration into consumer technology.\\n\\n#### What is the best AI in the world right now?\\n\\nDetermining the “best” AI depends on specific criteria. OpenAI is renowned for its research and influential models like GPT-3. Google DeepMind has achieved breakthroughs in deep learning. Both are among many prominent players in the AI field.\\n\\n#### What is the smartest AI right now?\\n\\nThe notion of the “smartest” AI is subjective. Advanced models, like GPT-4, which excel in natural language understanding, are considered highly capable. However, AI capabilities vary across domains, so the smartest AI depends on the context.\\n\\n[View All FAQs](https://onlinedegrees.sandiego.edu/onlinedegrees.sandiego.edu)\\n\\n### Be Sure To Share This Article\\n\\n- [Share on Twitter](https://twitter.com/intent/tweet/?url=https%3A%2F%2Fonlinedegrees.sandiego.edu%2Fai-blogs%2F&text=The+12+Best+AI+Blogs+You+Should+Be+Following&via=uofsandiego)\\n- [Share on Facebook](https://www.facebook.com/sharer/sharer.php?u=https%3A%2F%2Fonlinedegrees.sandiego.edu%2Fai-blogs%2F)\\n- [Share on LinkedIn](https://www.linkedin.com/shareArticle?mini=true&url=https%3A%2F%2Fonlinedegrees.sandiego.edu%2Fai-blogs%2F&title=The+12+Best+AI+Blogs+You+Should+Be+Following&summary=For+artificial+intelligence+%28AI%29+professionals+and+students%2C+staying+current+with+the+latest+advancements+is+vital.+AI+blogs+play+a+pivotal+role+by+offering+accessible+insights+into+complex+AI+developments.&source=University+of+San+Diego+Online+Degrees)\\n\\n## Considering a Master’s in Artificial Intelligence?\\n\\nFree checklist to help you compare programs and select one that’s ideal for you.\\n\\n[download the checklist](https://onlinedegrees.sandiego.edu/resources/8-questions-artificial-intelligence-masters-ebook/)\\n\\nProgram(s) covered in this article:\\n\\n- [Master of Science in Applied Artificial Intelligence](https://onlinedegrees.sandiego.edu/masters-applied-artificial-intelligence/)\\n\\n## Related Posts\\n\\n[Technology\\\\\\n\\\\\\nTop 12 Computer Science Jobs\\\\\\n\\\\\\nRead More\\\\\\n\\\\\\n7 min read](https://onlinedegrees.sandiego.edu/best-computer-science-jobs/) [Technology\\\\\\n\\\\\\n16 Best Data Science Degrees \\\\[Undergraduate & Graduate\\\\]\\\\\\n\\\\\\nRead More\\\\\\n\\\\\\n7 min read](https://onlinedegrees.sandiego.edu/best-degrees-data-science/) [Technology\\\\\\n\\\\\\nThe Top 100 AI Companies of 2024\\\\\\n\\\\\\nRead More\\\\\\n\\\\\\n16 min read](https://onlinedegrees.sandiego.edu/top-artificial-intelligence-companies-startups/)', highlights=None, highlight_scores=None, summary=None), Result(url='https://www.microsoft.com/en-us/ai/blog/', id='https://www.microsoft.com/en-us/ai/blog/', title='Microsoft AI Blogs | Artificial Intelligence News and Updates', score=None, published_date='2025-08-25T00:00:00.000Z', author='', image='https://www.microsoft.com/en-us/ai/blog/wp-content/uploads/2024/01/Microsoft-logo_rgb_c-gray_950.webp', favicon='https://c.s-microsoft.com/favicon.ico', subpages=None, extras=None, text='We use optional cookies to improve your experience on our websites, such as through social media connections, and to display personalized advertising based on your online activity. If you reject optional cookies, only cookies necessary to provide you the services will be used. You may change your selection by clicking “Manage Cookies” at the bottom of the page. [Privacy Statement](https://go.microsoft.com/fwlink/?LinkId=521839) [Third-Party Cookies](https://aka.ms/3rdpartycookies)\\n\\nAcceptRejectManage cookies\\n\\nBring ideas to life with CopilotCreate images from text, find writing inspiration, and get help with your questions.\\n\\nNo, thanks [Ask Copilot](https://copilot.microsoft.com/?prompt=Tell+me+how+Copilot+can+help+me+brainstorm+ideas+for&form=MY02P2&OCID=MY02P2&ICID=DSM_Promo_Copilot)\\n\\n[Skip to main content](javascript:void(0))\\n\\n# Microsoft AI Blogs\\n\\nNavigate blog by Navigate blog by:\\n\\nSearch the site\\n\\nSearch\\n\\nAugust 21, 2025\\n\\n·\\n\\n6 min read\\n\\n## [Microsoft is a Leader in the 2025 Gartner® Magic Quadrant™ for Cloud-Native\\xa0Application Platforms](https://azure.microsoft.com/en-us/blog/microsoft-is-a-leader-in-the-2025-gartner-magic-quadrant-for-cloud-native-application-platforms/)\\n\\nWe’re\\xa0proud to announce that Microsoft has been named a Leader in the\\xa02025 Gartner® Magic Quadrant™ for Cloud-Native Application Platforms\\xa0for a second year in a row, and the\\xa0furthest\\xa0to the right in Completeness\\xa0of Vision.\\n\\nMicrosoft Azure Blog\\n\\nPublishedAug 20\\n\\n•\\n\\n8 min read\\n\\n### [‘It’s going to be a big deal’: The NFL and Microsoft expand their partnership and introduce sideline technology using AI innovation](https://www.microsoft.com/en-us/microsoft-cloud/blog/2025/08/20/its-going-to-be-a-big-deal-the-nfl-and-microsoft-expand-their-partnership-and-introduce-sideline-technology-using-ai-innovation/)\\n\\nToday, the NFL and Microsoft announced a multi-year strategic partnership extension to help usher in a new era of AI innovation throughout the league.\\n\\nMicrosoft Cloud Blog\\n\\nPublishedAug 20\\n\\n•\\n\\n6 min read\\n\\n### [AI in Education Report: Insights to support teaching and learning](https://www.microsoft.com/en-us/education/blog/2025/08/ai-in-education-report-insights-to-support-teaching-and-learning/)\\n\\nRead the 2025 AI in Education Report from Microsoft for insights on learning, teaching, workforce readiness, and institutional innovation with AI.\\n\\nMicrosoft Education Blog\\n\\nPublishedAug 19\\n\\n•\\n\\n4 min read\\n\\n### [Unlocking the potential of manufacturing with cloud modernization](https://www.microsoft.com/en-us/industry/blog/manufacturing-and-mobility/manufacturing/2025/08/19/unlocking-the-potential-of-manufacturing-with-cloud-modernization/)\\n\\nLearn how BMW, Aurobay, Denso, and others use AI to modernize their manufacturing processes.\\n\\nMicrosoft Industry Blogs\\n\\nPublishedAug 14\\n\\n•\\n\\n1 min read\\n\\n### [Build and deploy a single-page application in Power Pages using GitHub Spark and Codespaces](https://www.microsoft.com/en-us/power-platform/blog/power-pages/build-and-deploy-a-single-page-application-in-power-pages-using-github-spark-and-codespaces/)\\n\\nMicrosoft Power Pages has transformed the way organizations build secure, data-driven business websites. Traditionally, site creation has been a low-code, design-first experience. However, the new code-first approach gives developers greater flexibility: you can create, customize, and manage Power Pages sites entirely in source code.\\nWith the recent release of the GitHub Spark, developers can now prototype a site, edit it directly in a GitHub Codespace, and they can deploy it to a Power Pages environment all without leaving their browser.\\nThis tutorial walks you through the complete workflow.\\n\\nMicrosoft Power Platform Blog\\n\\n## Microsoft AI\\n\\nMicrosoft’s advancements in AI are grounded in our company’s mission to help every person and organization on the planet to achieve more — from helping people be more productive to helping solve society’s most pressing problems.\\n\\nPublishedAug 13\\n\\n•\\n\\n6 min read\\n\\n### [Agent Factory: The new era of agentic AI—common use cases and design patterns](https://azure.microsoft.com/en-us/blog/agent-factory-the-new-era-of-agentic-ai-common-use-cases-and-design-patterns/)\\n\\nInstead of simply delivering information, agents reason, act, and collaborate—bridging the gap between knowledge and outcomes. Read more about agentic AI in Azure AI Foundry.\\n\\nMicrosoft Azure Blog\\n\\nPublishedAug 7\\n\\n•\\n\\n4 min read\\n\\n### [Available today: GPT-5 in Microsoft 365 Copilot](https://www.microsoft.com/en-us/microsoft-365/blog/2025/08/07/available-today-gpt-5-in-microsoft-365-copilot/)\\n\\nWe’re excited to announce that GPT‑5—OpenAI’s best AI system to-date—is rolling out today in Microsoft 365 Copilot and Microsoft Copilot Studio across the world.\\n\\nMicrosoft 365 Blog\\n\\nPublishedAug 7\\n\\n•\\n\\n6 min read\\n\\n### [GPT-5 in Azure AI Foundry: The future of AI apps and agents starts here](https://azure.microsoft.com/en-us/blog/gpt-5-in-azure-ai-foundry-the-future-of-ai-apps-and-agents-starts-here/)\\n\\nToday,\\xa0we’re\\xa0announcing\\xa0general\\xa0availability of\\xa0OpenAI’s\\xa0new flagship,\\xa0GPT-5,\\xa0in Azure AI Foundry. This is more than a new model release; it\\xa0is the most powerful large language model (LLM)\\xa0ever\\xa0released across key benchmarks.\\n\\nMicrosoft Azure Blog\\n\\nPublishedAug 7\\n\\n•\\n\\n6 min read\\n\\n### [Microsoft recognized as a Leader in the 2025 Gartner® Magic Quadrant™ for Enterprise Low-Code Application Platforms](https://www.microsoft.com/en-us/power-platform/blog/power-apps/microsoft-recognized-as-a-leader-in-the-2025-gartner-magic-quadrant-for-enterprise-low-code-application-platforms/)\\n\\nMicrosoft has been named a Leader again—empowering developers with AI-powered low-code tools for scalable, secure enterprise innovation.\\n\\nMicrosoft Power Platform Blog\\n\\nPublishedAug 7\\n\\n•\\n\\n3 min read\\n\\n### [Microsoft incorporates OpenAI’s GPT-5 into consumer, developer and enterprise offerings](https://news.microsoft.com/source/features/ai/openai-gpt-5/)\\n\\nCategory: AI August 7, 2025 Microsoft incorporates OpenAI’s GPT-5 into consumer, developer and enterprise offerings By Elliott Smith Today Microsoft is incorporating GPT-5, OpenAI’s best AI system to date, into a wide variety of its products, to bring new reasoning capabilities and improvements to coding and chat across its platforms. GPT-5, which was trained on\\n\\nMicrosoft Source\\n\\nPublishedAug 7\\n\\n•\\n\\n4 min read\\n\\n### [Embracing AI-powered operations: A maturity path for manufacturers](https://www.microsoft.com/en-us/industry/blog/manufacturing-and-mobility/manufacturing/2025/08/07/embracing-ai-powered-operations-a-maturity-path-for-manufacturers/)\\n\\nAI is redefining manufacturing—transforming operations, empowering workers, and accelerating innovation through data-driven decisions.\\n\\nMicrosoft Industry Blogs\\n\\nPublishedAug 6\\n\\n•\\n\\n5 min read\\n\\n### [How Fulton County Schools use Copilot Chat to empower student innovation](https://www.microsoft.com/en-us/education/blog/2025/08/how-fulton-county-schools-use-copilot-chat-to-empower-student-innovation/)\\n\\nFulton County Schools uses Copilot Chat in the classroom to support learning, reduce admin tasks, and build career readiness. Read the case study.\\n\\nMicrosoft Education Blog\\n\\nPublishedAug 5\\n\\n•\\n\\n5 min read\\n\\n### [OpenAI’s open‑source model: gpt‑oss on Azure AI Foundry and Windows AI Foundry](https://azure.microsoft.com/en-us/blog/openais-open%e2%80%91source-model-gpt%e2%80%91oss-on-azure-ai-foundry-and-windows-ai-foundry/)\\n\\nWith the launch of OpenAI’s gpt‑oss models—its first open-weight release since GPT‑2—we’re giving developers and enterprises unprecedented ability to run, adapt, and deploy OpenAI models entirely on their own terms.\\n\\nMicrosoft Azure Blog\\n\\nNotifications', highlights=None, highlight_scores=None, summary=None), Result(url='https://blog.google/technology/ai/', id='https://blog.google/technology/ai/', title='Official Google AI news and updates', score=None, published_date='2025-04-17T17:00:00.000Z', author='', image='https://blog.google/static/blogv2/images/google-200x200.png?version=pr20250424-1642', favicon=None, subpages=None, extras=None, text=\"# AI\\n\\nThe work we're doing to make AI helpful for everyone.\\n\\n[AI](https://blog.google/technology/ai/)\\n\\n[**Ask a Techspert: What is inference?** \\\\\\nLearn more about AI and inference from Google experts.](https://blog.google/technology/ai/ask-a-techspert-what-is-inference/)\\n\\n## Gemini App\\n\\n[**Gemini Live: A more helpful, natural and visual assistant**](https://blog.google/products/gemini/gemini-live-updates-august-2025/)\\n\\n[**Catch up on the newest features in August’s Gemini Drop.**](https://blog.google/products/gemini/gemini-drop-august-2025/)\\n\\n[**Gemini adds Temporary Chats and new personalization features**](https://blog.google/products/gemini/temporary-chats-privacy-controls/)\\n\\n## Research\\n\\n[**Check out the first images of wildfires detected by FireSat** \\\\\\nToday, in partnership with the Earth Fire Alliance and Muon Space, we shared the first images of wildfires detected by FireSat, a revolutionary new satellite constellati…](https://blog.google/technology/research/first-firesat-images/)\\n\\n[**How we built one of the most ambitious datasets in brain activity research**](https://blog.google/technology/research/zapbench-zebrafish-brain-mapping/)\\n\\n[**Google Beam: Our AI-first 3D video communication platform**](https://blog.google/technology/research/project-starline-google-beam-update/)\\n\\n[View more from Research](https://blog.google/technology/research/)\\n\\n## Developers\\n\\n[**Meet your new AI coding teammate: Gemini CLI GitHub Actions**](https://blog.google/technology/developers/introducing-gemini-cli-github-actions/)\\n\\n[**We’re updating our plans for goo.gl links.** \\\\\\nWhile we previously announced discontinuing support for all goo.gl URLs after August 25, 2025, we've adjusted our approach in order to preserve actively used links.We un…](https://blog.google/technology/developers/googl-link-shortening-update/)\\n\\n[**New in Gemini Code Assist: Agent Mode and IDE enhancements**](https://blog.google/technology/developers/gemini-code-assist-updates-july-2025/)\\n\\n[View more from Developers](https://blog.google/technology/developers/)\\n\\n## All the Latest\\n\\nLet’s stay in touch. Get the latest news from Google in your inbox.\\n\\n[Subscribe](https://blog.google/newsletter-subscribe/) No thanks\", highlights=None, highlight_scores=None, summary=None), Result(url='https://ai.meta.com/blog/', id='https://ai.meta.com/blog/', title='AI at Meta Blog', score=None, published_date='2025-08-14T00:00:00.000Z', author='', image='https://scontent-lhr8-2.xx.fbcdn.net/v/t39.2365-6/384127954_1010009116964035_2906046058102555347_n.jpg?_nc_cat=101&ccb=1-7&_nc_sid=e280be&_nc_ohc=mE1MhrKclw8Q7kNvwHmo0qV&_nc_oc=AdldVYcvEkLdFmi_h4TezQP54lCHYeGfqkTdBur-1_0EW0Rjlnor37-MZH2R1qAkOFY&_nc_zt=14&_nc_ht=scontent-lhr8-2.xx&_nc_gid=vZbApIlEvH9ElgV7ZRgc4A&oh=00_AfVM46BXRiRu3kGqJsh-jCe4aSLXzoMaVaBzJyWr3E2gbQ&oe=68C79F85', favicon='https://static.xx.fbcdn.net/rsrc.php/v4/y4/r/WUJbsVI4ruF.png', subpages=None, extras=None, text=\"[Our approach](https://ai.meta.com/ai.meta.com)\\n[Research](https://ai.meta.com/ai.meta.com)\\n[Meta AI](https://ai.meta.com/ai.meta.com)\\n[Llama](https://www.llama.com/)\\n[Blog](https://ai.meta.com/blog/)\\n[Try Meta AI](https://www.meta.ai/?utm_source=ai_meta_site&utm_medium=web&utm_content=AI_nav&utm_campaign=06112025_moment)\\n\\nThe latest AI news from Meta\\n\\n[FEATURED](https://ai.meta.com/blog/dinov3-self-supervised-vision-model/)\\n\\nOpen Source\\n\\n[DINOv3: Self-supervised learning for vision at unprecedented scale](https://ai.meta.com/blog/dinov3-self-supervised-vision-model/)\\n\\nDINOv3 scales self-supervised learning for images to create universal vision backbones that achieve absolute state-of-the-art performance across diverse domains, including web and satellite imagery.\\n\\nAugust 14, 2025\\n\\nLatest News\\n\\nOpen Source\\n\\n[Small robots, mighty vision: NASA Jet Propulsion Laboratory's DINOv2-enabled robot rovers and the future of planetary exploration](https://ai.meta.com/blog/nasa-jpl-dino-robot-explorers/)\\n\\nAug 14, 2025\\n\\nOpen Source\\n\\n[How DINOv3 is helping World Resources Institute restore forests and farms globally](https://ai.meta.com/blog/world-resources-institute-dinov3/)\\n\\nAug 14, 2025\\n\\nOpen Source\\n\\n[How Llama helps Biofy Technologies in the fight against antibiotic resistance](https://ai.meta.com/blog/llama-helps-biofy-fight-antibiotic-resistance/)\\n\\nAug 7, 2025\\n\\nOpen Source\\n\\n[How Upwork helps freelancers win more work with Llama](https://ai.meta.com/blog/upwork-helps-freelancers-with-llama/)\\n\\nJul 31, 2025\\n\\nGet the latest from AI at Meta in your inbox\\n\\n[Sign up](https://ai.meta.com/subscribe/)\\n\\n[Our approach](https://ai.meta.com/about)\\n\\n[About AI at Meta](https://ai.meta.com/about)\\n\\n[People](https://ai.meta.com/results/?content_types%5B0%5D=person&sort_by=random)\\n\\n[Careers](https://www.metacareers.com/jobs/?is_leadership=0&sub_teams[0]=Artificial%20Intelligence&is_in_page=0)\\n\\n[Research](https://ai.meta.com/research)\\n\\n[Infrastructure](https://ai.meta.com/infrastructure)\\n\\n[Resources](https://ai.meta.com/resources)\\n\\n[Demos](https://aidemos.meta.com/)\\n\\n[Meta AI](https://ai.meta.com/meta-ai/)\\n\\n[Explore Meta AI](https://ai.meta.com/meta-ai/)\\n\\n[Get Meta AI](https://ai.meta.com/get-meta-ai/)\\n\\n[AI Studio](https://ai.meta.com/ai-studio/)\\n\\n[Latest news](https://ai.meta.com/blog)\\n\\n[Blog](https://ai.meta.com/blog)\\n\\n[Newsletter](https://ai.meta.com/subscribe)\\n\\nFoundational models\\n\\n[Llama](https://www.llama.com/)\\n\\nOur approach\\n\\n[Our approach](https://ai.meta.com/about) [About AI at Meta](https://ai.meta.com/about) [People](https://ai.meta.com/results/?content_types%5B0%5D=person&sort_by=random) [Careers](https://www.metacareers.com/jobs/?is_leadership=0&sub_teams[0]=Artificial%20Intelligence&is_in_page=0)\\n\\nResearch\\n\\n[Research](https://ai.meta.com/research) [Infrastructure](https://ai.meta.com/infrastructure) [Resources](https://ai.meta.com/resources) [Demos](https://aidemos.meta.com/)\\n\\nMeta AI\\n\\n[Meta AI](https://ai.meta.com/meta-ai/) [Explore Meta AI](https://ai.meta.com/meta-ai/) [Get Meta AI](https://ai.meta.com/get-meta-ai/) [AI Studio](https://ai.meta.com/ai-studio/)\\n\\nLatest news\\n\\n[Latest news](https://ai.meta.com/blog) [Blog](https://ai.meta.com/blog) [Newsletter](https://ai.meta.com/subscribe)\\n\\nFoundational models\\n\\n[Llama](https://www.llama.com/)\\n\\n[Privacy Policy](https://www.facebook.com/about/privacy/)\\n\\n[Terms](https://www.facebook.com/policies/)\\n\\n[Cookies](https://www.facebook.com/policies/cookies/)\\n\\nMeta © 2025\", highlights=None, highlight_scores=None, summary=None), Result(url='https://www.uipath.com/blog/ai', id='https://www.uipath.com/blog/ai', title='AI Blog - Artificial Intelligence Trends - UiPath', score=None, published_date='2025-05-05T00:00:00.000Z', author='UiPath Inc.', image='https://images.ctfassets.net/5965pury2lcm/2h5kIQ2TCEtVKXbCZSjoXl/50f94a712876f3173db64f2b1083e36d/uipath-og-image.png', favicon=None, subpages=None, extras=None, text=\"[Missed DevCon Online?\\\\\\n\\\\\\nCatch up now](https://www.uipath.com/events/devcon)\\n\\nUiPath Blog\\n\\n[UiPath Blog](https://www.uipath.com/blog)\\n\\n[Automation](https://www.uipath.com/blog/automation)\\n\\n[Digital Transformation](https://www.uipath.com/blog/digital-transformation)\\n\\n[AI](https://www.uipath.com/blog/ai)\\n\\n[Industry Solutions](https://www.uipath.com/blog/industry-solutions)\\n\\n[Product](https://www.uipath.com/blog/product-and-updates)\\n\\n[RPA](https://www.uipath.com/blog/rpa)\\n\\nMore\\n\\n[Community Blog](https://www.uipath.com/community-blog) [Resource Center](https://www.uipath.com/resources/all) [Newsroom](https://www.uipath.com/newsroom)\\n\\nSubscribe\\n\\n[Blog](https://www.uipath.com/blog)\\n\\nArtificial Intelligence (AI)\\n\\n# Artificial Intelligence (AI)\\n\\nStay up to date on all things artificial intelligence (AI): latest trends, how AI is automating complex business processes, maximizing AI benefits across the enterprise, and more.\\n\\n[ai\\\\\\n\\\\\\nAugust 6, 2025\\\\\\n\\\\\\n**Why AI agents need intelligent document processing** \\\\\\n\\\\\\nRead how UiPath IXP brings reliable, scalable document processing to AI agents—combining LLM flexibility with IDP accuracy, control, and enterprise readiness.](https://www.uipath.com/blog/ai/why-ai-agents-need-idp) [ai\\\\\\n\\\\\\nJuly 28, 2025\\\\\\n\\\\\\n**An OS for the enterprise: AI that orchestrates everything** \\\\\\n\\\\\\nRead how agentic orchestration acts as an enterprise OS—bridging AI, automation, and workflows to eliminate inefficiencies and unlock end-to-end process intelligence.](https://www.uipath.com/blog/ai/os-for-enterprise-ai-that-orchestrates-everything) [ai\\\\\\n\\\\\\nJune 11, 2025\\\\\\n\\\\\\n**AI agents took center stage at Microsoft Build** \\\\\\n\\\\\\nMissed Microsoft Build 2025? Get the key takeaways from UiPath on how agentic AI is driving real results with people, robots, and AI agents working together.](https://www.uipath.com/blog/ai/microsoft-build-2025-uipath-insights) [ai\\\\\\n\\\\\\nMay 20, 2025\\\\\\n\\\\\\n**Technical Tuesday: why orchestration matters** \\\\\\n\\\\\\nDiscover why agentic orchestration is essential for deploying AI agents at scale—and how to overcome the most common pitfalls.](https://www.uipath.com/blog/ai/common-challenges-deploying-ai-agents-and-solutions-why-orchestration) [ai\\\\\\n\\\\\\nMay 5, 2025\\\\\\n\\\\\\n**Intelligent document processing: To build or to buy?** \\\\\\n\\\\\\nYour guide to the pros and cons of building your own IDP system vs. buying an existing solution (and which approach offers the fastest time to value).](https://www.uipath.com/blog/ai/idp-build-or-buy) [ai\\\\\\n\\\\\\nMarch 27, 2025\\\\\\n\\\\\\n**Agentic AI Summit recap: Embracing AI transformation enterprise-wide** \\\\\\n\\\\\\nExplore top highlights from the UiPath Agentic AI Summit, including Agent Builder, Maestro, IXP, and Test Cloud—real tools delivering real enterprise results.](https://www.uipath.com/blog/ai/agentic-ai-summit-highlights) [ai\\\\\\n\\\\\\nMarch 10, 2025\\\\\\n\\\\\\n**Agentic orchestration: Reliable, responsible, and visible agentic impact** \\\\\\n\\\\\\nExplore how agentic orchestration can transform complex business processes by coordinating AI agents, robots, and people for seamless and efficient operations.](https://www.uipath.com/blog/ai/agentic-orchestration) [ai\\\\\\n\\\\\\nFebruary 25, 2025\\\\\\n\\\\\\n**Make the leap to light speed with agentic automation** \\\\\\n\\\\\\nDiscover how enterprises are unlocking unprecedented efficiency by leveraging agentic automation to tackle complex workflows from end to end.](https://www.uipath.com/blog/ai/agentic-automation-reinventing-workflows) [ai\\\\\\n\\\\\\nJanuary 30, 2025\\\\\\n\\\\\\n**AI’s Sputnik moment? Embracing an open, flexible, and trustworthy approach** \\\\\\n\\\\\\nUiPath Chief Technology Officer shares his thoughts on the release of DeepSeek R1 and how UiPath supports its customers in adopting cutting-edge AI safely and effectively.](https://www.uipath.com/blog/ai/need-open-flexible-trustworthy-ai-approach) [ai\\\\\\n\\\\\\nJanuary 24, 2025\\\\\\n\\\\\\n**Empowering UK talent and industry: Our response to the UK Government's AI strategy** \\\\\\n\\\\\\nThe UK Government's 2025 AI Opportunities Action Plan marks a significant acknowledgment from the Government of the opportunity that AI offers to the UK economy.](https://www.uipath.com/blog/ai/uipath-response-to-uk-government-ai-strategy) [ai\\\\\\n\\\\\\nDecember 11, 2024\\\\\\n\\\\\\n**Agentic automation: The path to an orchestrated enterprise** \\\\\\n\\\\\\nTake a deeper dive into the UiPath vision of how all the pieces of agentic automation fit together.](https://www.uipath.com/blog/ai/agentic-automation-path-to-orchestrated-enterprise) [ai\\\\\\n\\\\\\nOctober 14, 2024\\\\\\n\\\\\\n**Slow and steady won’t win the race to build enterprise AI** \\\\\\n\\\\\\nThis blog post offers two approaches to custom AI model development that shorten time to value while maximizing performance and accuracy. See which one is right for your organization.](https://www.uipath.com/blog/ai/slow-and-steady-wont-win-the-race-to-build-enterprise-ai) [ai\\\\\\n\\\\\\nOctober 10, 2024\\\\\\n\\\\\\n**AI’s next act is agentic: It’s not just thinking—it’s doing** \\\\\\n\\\\\\nDiscover how agentic automation, a fusion of AI, automation, and orchestration, is set to revolutionize business operations. Learn more about it from experts who were part of our recent UiPath Live show.](https://www.uipath.com/blog/ai/agentic-automation-not-just-thinking-its-doing) [ai\\\\\\n\\\\\\nOctober 1, 2024\\\\\\n\\\\\\n**Latte: Latent attention for linear time Transformers** \\\\\\n\\\\\\nLatte is a new linear time and memory replacement for standard attention, which achieves a comparable performance to Transformers while being more efficient during training and inference.](https://www.uipath.com/blog/ai/latte-latent-attention-linear-time-transformers)\\n\\n##### Get articles from automation experts in your inbox\\n\\nSubscribe\\n\\n##### Get articles from automation experts\\n\\nIn your inbox every Friday with links to our latest articles.\\n\\nSubscribe\\n\\n[1](https://www.uipath.com/blog/ai) [2](https://www.uipath.com/blog/ai/2)\\n\\n...\\n\\n[6](https://www.uipath.com/blog/ai/6) [Next>](https://www.uipath.com/blog/ai/2)\\n\\n##### Get articles from automation experts in your inbox\\n\\nSign up today and we'll email you the newest articles every week.\\n\\n### Thank you for subscribing!\\n\\nThank you for subscribing! Each week, we'll send the best automation blog posts straight to your inbox.\\n\\nAsk AI about...\", highlights=None, highlight_scores=None, summary=None), Result(url='https://www.artificial-intelligence.blog/', id='https://www.artificial-intelligence.blog/', title='AI Blog - Artificial Intelligence Blog', score=None, published_date='2016-01-01T00:00:00.000Z', author='Free Local RAG Scraper for Custom GPTs and Assistants', image='http://static1.squarespace.com/static/62ec2bc76a27db7b37a2b32f/t/6345e9faab753e3dab411edf/1665526266717/ai-blog-avatar-min.png?format=1500w', favicon=None, subpages=None, extras=None, text='[0](https://www.artificial-intelligence.blog/cart)\\n\\n# The AI Blog\\n\\nWe love A.I. and welcome you to our **AI blog**. There is so much going on in the field of AI, and our goal is to keep you up-to-date in innovative, informative, and entertaining ways. We see this website as a form of digital art, as **all images and text were generated by** [**artificial intelligence**](https://www.artificial-intelligence.blog/terminology/artificial-intelligence) (with a little bit of human help).\\n\\n[We Live in an AI-First World](https://www.artificial-intelligence.blog/ai-news/we-live-in-an-ai-first-world)\\n\\nWe are already living in an AI-first world where search, work, creativity, communication, health, and education are being quietly but radically transformed.\\n\\n[Vibe Coding is Shoot-and-Forget Coding](https://www.artificial-intelligence.blog/ai-news/vibe-coding-is-shoot-and-forget-coding)\\n\\nVibe coding delivers quick wins, then leaves you stranded, because maintainable software still demands real engineering.\\n\\n[How to Become Immortal Using AI?](https://www.artificial-intelligence.blog/ai-news/how-to-become-immortal-using-ai)\\n\\nTo achieve digital immortality, begin compiling a rich dataset of your personal writings, voice recordings, and videos to enable AI to recreate your personality and presence for future interactions.\\n\\n[Everyone Has Given Up on AI Safety, Now What?](https://www.artificial-intelligence.blog/ai-news/everyone-has-given-up-on-ai-safety-now-what)\\n\\nAI companies have abandoned safety concerns in favor of rapid advancement, leading to cheaper AI, increased misuse by bad actors, and widespread job displacement.\\n\\n[Why AI Needs Large Numerical Models (LNMs) for Mathematical Mastery](https://www.artificial-intelligence.blog/ai-news/why-ai-needs-large-numerical-models-lnms-for-mathematical-mastery)\\n\\nThis blog post explores the concept of Large Numerical Models (LNMs), their potential to revolutionize AI\\'s ability to solve mathematical problems, and their integration with LLMs for advanced reasoning.\\n\\n[The Intelligence Age by Sam Altman](https://www.artificial-intelligence.blog/ai-news/the-intelligence-age)\\n\\nExplore Sam Altman’s vision for AI in \"The Intelligence Age\", including its impact on human capability, prosperity, jobs, and deep learning advancements.\\n\\n[The Future of Portrait Photography: Real Faces or AI Creations?](https://www.artificial-intelligence.blog/ai-news/the-future-of-portrait-photography-real-faces-or-ai-creations)\\n\\nExplore how AI-generated images challenge traditional portrait photography, redefine beauty standards, and impact the future of the modeling industry.\\n\\n[E-Commerce Video Mockups with Hedra](https://www.artificial-intelligence.blog/ai-news/e-commerce-video-mockups-with-hedra)\\n\\nUsing Hedra’s generative video AI, we created compelling e-commerce video mockups, finding that the technology excels when focusing on facial features but struggles with upper or full-body shots, leading to less realistic results.\\n\\n[The Enigma of Enforcing GDPR on LLMs](https://www.artificial-intelligence.blog/ai-news/the-enigma-of-enforcing-gdpr-on-llms)\\n\\nThis article explores the significant challenges of applying GDPR regulations to large language models (LLMs), such as ensuring data erasure, anonymization, and compliance due to their complex data processing and storage mechanisms.\\n\\n[How to Thrive in the Age of AI](https://www.artificial-intelligence.blog/ai-news/how-to-thrive-in-the-age-of-ai)\\n\\nThis blog post provides professionals with actionable steps to stay relevant and thrive in an AI-driven workplace by embracing lifelong learning, developing human-centric skills, leveraging AI tools, and actively networking and staying informed about industry trends.\\n\\nThis AI blog is written and designed by impressive AIs, and humans merely perform copy & paste operations - _we showcase the progress of AI capabilities on all fronts (text, image, video, audio, design, technology, education, etc)_.\\n\\n## [AI Blog Posts & AI News](https://www.artificial-intelligence.blog/ai-news)\\n\\n[art](https://www.artificial-intelligence.blog/ai-news?category=art), [education](https://www.artificial-intelligence.blog/ai-news?category=education), [health](https://www.artificial-intelligence.blog/ai-news?category=health), [business](https://www.artificial-intelligence.blog/ai-news?category=business), [ethics](https://www.artificial-intelligence.blog/ai-news?category=ethics), [history](https://www.artificial-intelligence.blog/ai-news?category=history), [music](https://www.artificial-intelligence.blog/ai-news?category=music), [politics](https://www.artificial-intelligence.blog/ai-news?category=politics), [technology](https://www.artificial-intelligence.blog/ai-news?category=technology)\\n\\n[We Live in an AI-First World](https://www.artificial-intelligence.blog/ai-news/we-live-in-an-ai-first-world)\\n\\n[art](https://www.artificial-intelligence.blog/ai-news?category=art), [education](https://www.artificial-intelligence.blog/ai-news?category=education), [health](https://www.artificial-intelligence.blog/ai-news?category=health), [business](https://www.artificial-intelligence.blog/ai-news?category=business), [ethics](https://www.artificial-intelligence.blog/ai-news?category=ethics), [history](https://www.artificial-intelligence.blog/ai-news?category=history), [music](https://www.artificial-intelligence.blog/ai-news?category=music), [politics](https://www.artificial-intelligence.blog/ai-news?category=politics), [technology](https://www.artificial-intelligence.blog/ai-news?category=technology)\\n\\nWe are already living in an AI-first world where search, work, creativity, communication, health, and education are being quietly but radically transformed.\\n\\n[art](https://www.artificial-intelligence.blog/ai-news?category=art), [education](https://www.artificial-intelligence.blog/ai-news?category=education), [health](https://www.artificial-intelligence.blog/ai-news?category=health), [business](https://www.artificial-intelligence.blog/ai-news?category=business), [ethics](https://www.artificial-intelligence.blog/ai-news?category=ethics), [history](https://www.artificial-intelligence.blog/ai-news?category=history), [music](https://www.artificial-intelligence.blog/ai-news?category=music), [politics](https://www.artificial-intelligence.blog/ai-news?category=politics), [technology](https://www.artificial-intelligence.blog/ai-news?category=technology)\\n\\n[education](https://www.artificial-intelligence.blog/ai-news?category=education), [business](https://www.artificial-intelligence.blog/ai-news?category=business), [technology](https://www.artificial-intelligence.blog/ai-news?category=technology), [development](https://www.artificial-intelligence.blog/ai-news?category=development)\\n\\n[Vibe Coding is Shoot-and-Forget Coding](https://www.artificial-intelligence.blog/ai-news/vibe-coding-is-shoot-and-forget-coding)\\n\\n[education](https://www.artificial-intelligence.blog/ai-news?category=education), [business](https://www.artificial-intelligence.blog/ai-news?category=business), [technology](https://www.artificial-intelligence.blog/ai-news?category=technology), [development](https://www.artificial-intelligence.blog/ai-news?category=development)\\n\\nVibe coding delivers quick wins, then leaves you stranded, because maintainable software still demands real engineering.\\n\\n[education](https://www.artificial-intelligence.blog/ai-news?category=education), [business](https://www.artificial-intelligence.blog/ai-news?category=business), [technology](https://www.artificial-intelligence.blog/ai-news?category=technology), [development](https://www.artificial-intelligence.blog/ai-news?category=development)\\n\\n[education](https://www.artificial-intelligence.blog/ai-news?category=education), [business](https://www.artificial-intelligence.blog/ai-news?category=business), [ethics](https://www.artificial-intelligence.blog/ai-news?category=ethics)\\n\\n[Digital Marketing Courses to Sell Digital Marketing Courses](https://www.artificial-intelligence.blog/ai-news/digital-marketing-courses-to-sell-digital-marketing-courses)\\n\\n[education](https://www.artificial-intelligence.blog/ai-news?category=education), [business](https://www.artificial-intelligence.blog/ai-news?category=business), [ethics](https://www.artificial-intelligence.blog/ai-news?category=ethics)\\n\\nA critical look at the growing trend of digital marketing “experts” whose main product is a course on how to sell courses, creating a loop of recycled content with little real-world value.\\n\\n[education](https://www.artificial-intelligence.blog/ai-news?category=education), [business](https://www.artificial-intelligence.blog/ai-news?category=business), [ethics](https://www.artificial-intelligence.blog/ai-news?category=ethics)\\n\\n[education](https://www.artificial-intelligence.blog/ai-news?category=education), [ethics](https://www.artificial-intelligence.blog/ai-news?category=ethics), [health](https://www.artificial-intelligence.blog/ai-news?category=health), [legal](https://www.artificial-intelligence.blog/ai-news?category=legal), [history](https://www.artificial-intelligence.blog/ai-news?category=history), [technology](https://www.artificial-intelligence.blog/ai-news?category=technology)\\n\\n[How to Become Immortal Using AI?](https://www.artificial-intelligence.blog/ai-news/how-to-become-immortal-using-ai)\\n\\n[education](https://www.artificial-intelligence.blog/ai-news?category=education), [ethics](https://www.artificial-intelligence.blog/ai-news?category=ethics), [health](https://www.artificial-intelligence.blog/ai-news?category=health), [legal](https://www.artificial-intelligence.blog/ai-news?category=legal), [history](https://www.artificial-intelligence.blog/ai-news?category=history), [technology](https://www.artificial-intelligence.blog/ai-news?category=technology)\\n\\nTo achieve digital immortality, begin compiling a rich dataset of your personal writings, voice recordings, and videos to enable AI to recreate your personality and presence for future interactions.\\n\\n[education](https://www.artificial-intelligence.blog/ai-news?category=education), [ethics](https://www.artificial-intelligence.blog/ai-news?category=ethics), [health](https://www.artificial-intelligence.blog/ai-news?category=health), [legal](https://www.artificial-intelligence.blog/ai-news?category=legal), [history](https://www.artificial-intelligence.blog/ai-news?category=history), [technology](https://www.artificial-intelligence.blog/ai-news?category=technology)\\n\\n[Free Local RAG Scraper for Custom GPTs and Assistants](https://www.artificial-intelligence.blog/ai-news/free-local-rag-scraper-for-gpts-and-assistants)\\n\\n[ethics](https://www.artificial-intelligence.blog/ai-news?category=ethics), [history](https://www.artificial-intelligence.blog/ai-news?category=history)\\n\\n[Everyone Has Given Up on AI Safety, Now What?](https://www.artificial-intelligence.blog/ai-news/everyone-has-given-up-on-ai-safety-now-what)\\n\\n[ethics](https://www.artificial-intelligence.blog/ai-news?category=ethics), [history](https://www.artificial-intelligence.blog/ai-news?category=history)\\n\\nAI companies have abandoned safety concerns in favor of rapid advancement, leading to cheaper AI, increased misuse by bad actors, and widespread job displacement.\\n\\n[ethics](https://www.artificial-intelligence.blog/ai-news?category=ethics), [history](https://www.artificial-intelligence.blog/ai-news?category=history)\\n\\n[The Anatomy of a Skype Group Chat Scam: How Bots Manipulate Victims into Crypto Fraud](https://www.artificial-intelligence.blog/ai-news/the-anatomy-of-a-skype-group-chat-scam-how-bots-manipulate-victims-into-crypto-fraud)\\n\\nScammers are orchestrating Skype group chats using bots to create fake testimonials and a sense of community, manipulating victims into investing in fraudulent cryptocurrency schemes.\\n\\n[PR Agencies in the Age of AI](https://www.artificial-intelligence.blog/ai-news/pr-agencies-in-the-age-of-ai)\\n\\nDiscover how AI is reshaping the role of PR agencies by enhancing efficiency, creativity, and strategic decision-making in the digital age.\\n\\n[Elon Musk\\'s IQ and the Nature of Genius](https://www.artificial-intelligence.blog/ai-news/ai-podcast-on-elon-musks-iq-and-the-nature-of-genius)\\n\\nElon Musk’s unique blend of visionary thinking and relentless execution offers a modern lens on the nature of genius, challenging traditional definitions of intelligence.\\n\\n[ethics](https://www.artificial-intelligence.blog/ai-news?category=ethics), [technology](https://www.artificial-intelligence.blog/ai-news?category=technology), [business](https://www.artificial-intelligence.blog/ai-news?category=business), [politics](https://www.artificial-intelligence.blog/ai-news?category=politics)\\n\\n[Can \"Safe AI\" Companies Survive in an Unrestrained AI Landscape?](https://www.artificial-intelligence.blog/ai-news/can-safe-ai-companies-survive-in-an-unrestrained-ai-landscape)\\n\\n[ethics](https://www.artificial-intelligence.blog/ai-news?category=ethics), [technology](https://www.artificial-intelligence.blog/ai-news?category=technology), [business](https://www.artificial-intelligence.blog/ai-news?category=business), [politics](https://www.artificial-intelligence.blog/ai-news?category=politics)\\n\\nIn the rapidly evolving AI industry, companies like Anthropic, which prioritize developing safe and ethical AI systems, face significant challenges in competing with rivals that may prioritize rapid innovation over safety measures.\\n\\n[ethics](https://www.artificial-intelligence.blog/ai-news?category=ethics), [technology](https://www.artificial-intelligence.blog/ai-news?category=technology), [business](https://www.artificial-intelligence.blog/ai-news?category=business), [politics](https://www.artificial-intelligence.blog/ai-news?category=politics)\\n\\n[More AI blog posts & AI news](https://www.artificial-intelligence.blog/ai-news)\\n\\n## [AI Terminology](https://www.artificial-intelligence.blog/terminology)\\n\\n[Deep Reinforcement Learning](https://www.artificial-intelligence.blog/terminology/deep-reinforcement-learning)\\n\\n[Attention Mechanism](https://www.artificial-intelligence.blog/terminology/attention-mechanism)\\n\\n[Deep Learning](https://www.artificial-intelligence.blog/terminology/deep-learning)\\n\\n[Neural Networks](https://www.artificial-intelligence.blog/terminology/neural-networks)\\n\\n[Unsupervised Learning](https://www.artificial-intelligence.blog/terminology/unsupervised-learning)\\n\\n[Python](https://www.artificial-intelligence.blog/terminology/python)\\n\\n[Machine Translation](https://www.artificial-intelligence.blog/terminology/machine-translation)\\n\\n[Accelerating Change](https://www.artificial-intelligence.blog/terminology/accelerating-change)\\n\\n[Recurrent Neural Network (RNN)](https://www.artificial-intelligence.blog/terminology/recurrent-neural-network)\\n\\n[Machine Learning (ML)](https://www.artificial-intelligence.blog/terminology/machine-learning)\\n\\n[Reinforcement Learning • RL](https://www.artificial-intelligence.blog/terminology/reinforcement-learning)\\n\\n[Augmented Reality • AR](https://www.artificial-intelligence.blog/terminology/augmented-reality)\\n\\n[More AI terminology](https://www.artificial-intelligence.blog/terminology)\\n\\n## [People in AI](https://www.artificial-intelligence.blog/people-in-ai)\\n\\n[Alec Radford](https://www.artificial-intelligence.blog/people-in-ai/alec-radford)\\n\\n[Ilya Sutskever](https://www.artificial-intelligence.blog/people-in-ai/ilya-sutskever)\\n\\n[Geoffrey Hinton](https://www.artificial-intelligence.blog/people-in-ai/geoffrey-hinton)\\n\\n[Sam Altman](https://www.artificial-intelligence.blog/people-in-ai/sam-altman-1)\\n\\n[Demis Hassabis](https://www.artificial-intelligence.blog/people-in-ai/demis-hassabis)\\n\\n[Alex Krizhevsky](https://www.artificial-intelligence.blog/people-in-ai/alex-krizhevsky)\\n\\n[Elon Musk](https://www.artificial-intelligence.blog/people-in-ai/elon-musk)\\n\\n[Greg Brockman](https://www.artificial-intelligence.blog/people-in-ai/greg-brockman)\\n\\n[More People in AI](https://www.artificial-intelligence.blog/people-in-ai)', highlights=None, highlight_scores=None, summary=None), Result(url='https://cloud.google.com/blog/products/ai-machine-learning', id='https://cloud.google.com/blog/products/ai-machine-learning', title='AI & Machine Learning | Google Cloud Blog', score=None, published_date='2025-05-12T00:00:00.000Z', author='', image='https://storage.googleapis.com/gweb-cloudblog-publish/images/01_-_AI__Machine_Learning_H1ZyZG8.max-300x300.jpg', favicon=None, subpages=None, extras=None, text='# AI & Machine Learning\\n\\nFind news, updates, and best practices for AI and machine learning solutions on Google Cloud.\\n\\nAI & Machine Learning\\n\\n[**Veo 3 and Veo 3 Fast are now generally available on Vertex AI**](https://cloud.google.com/blog/products/ai-machine-learning/veo-3-fast-available-for-everyone-on-vertex-ai)\\n\\nBuilding on momentum with Veo 3 by making Veo 3 available for everyone on Vertex AI, and announcing Veo 3 Fast, a model designed for speed and rapid iteration. Try Veo 3 today.\\n\\nBy Jason Gelman • 6-minute read\\n\\n[Read article](https://cloud.google.com/blog/products/ai-machine-learning/veo-3-fast-available-for-everyone-on-vertex-ai)\\n\\n[AI & Machine Learning\\\\\\n\\\\\\n**Gemini 2.5 Flash and Pro expand on Vertex AI to drive more sophisticated and secure AI innovation** \\\\\\n\\\\\\nBy Jason Gelman • 5-minute read](https://cloud.google.com/blog/products/ai-machine-learning/expanding-gemini-2-5-flash-and-pro-capabilities)\\n\\n[AI & Machine Learning\\\\\\n\\\\\\n**What Google Cloud announced in AI this month** \\\\\\n\\\\\\nBy Andrea Sanin • 27-minute read](https://cloud.google.com/blog/products/ai-machine-learning/what-google-cloud-announced-in-ai-this-month)\\n\\n#### News in short\\n\\nA quick take on updates, announcements, resources, events, and learning opportunities from Google Cloud in one handy location. Updated weekly.\\n\\n[Read now](https://cloud.google.com/blog/topics/inside-google-cloud/whats-new-google-cloud)\\n\\n[Management Tools\\\\\\n\\\\\\n**Don’t just speculate, investigate! Gemini Cloud Assist now offers root-cause analysis** \\\\\\n\\\\\\nBy Deepak Kallakuri • 5-minute read](https://cloud.google.com/blog/products/management-tools/gemini-cloud-assist-investigations-performs-root-cause-analysis)\\n\\n[AI & Machine Learning\\\\\\n\\\\\\n**101+ gen AI use cases with technical blueprints** \\\\\\n\\\\\\nBy Richard Seroter • 76-minute read](https://cloud.google.com/blog/products/ai-machine-learning/real-world-gen-ai-use-cases-with-technical-blueprints)\\n\\n[AI & Machine Learning\\\\\\n\\\\\\n**How to build a real-time voice agent with Gemini and Google ADK** \\\\\\n\\\\\\nBy Ashwini Kumar • 2-minute read](https://cloud.google.com/blog/products/ai-machine-learning/build-a-real-time-voice-agent-with-gemini-adk)\\n\\n[Data Analytics\\\\\\n\\\\\\n**Intelligent code conversion: Databricks Spark SQL to BigQuery SQL via Gemini** \\\\\\n\\\\\\nBy Dhruv Ahuja • 8-minute read](https://cloud.google.com/blog/products/data-analytics/automate-sql-translation-databricks-to-bigquery-with-gemini)\\n\\n[Infrastructure\\\\\\n\\\\\\n**How much energy does Google’s AI use? We did the math** \\\\\\n\\\\\\nBy Amin Vahdat • 7-minute read](https://cloud.google.com/blog/products/infrastructure/measuring-the-environmental-impact-of-ai-inference)\\n\\n[AI & Machine Learning\\\\\\n\\\\\\n**Here’s which Google AI developer tool to use for each situation** \\\\\\n\\\\\\nBy Richard Seroter • 6-minute read](https://cloud.google.com/blog/products/ai-machine-learning/choose-the-right-google-ai-developer-tool-for-your-workflow)\\n\\n[Infrastructure Modernization\\\\\\n\\\\\\n**An efficient path to production AI: Kakao’s journey with JAX and Cloud TPUs** \\\\\\n\\\\\\nBy Minho Ryu, Nayeon Kim • 7-minute read](https://cloud.google.com/blog/products/infrastructure-modernization/kakaos-journey-with-jax-and-cloud-tpus)\\n\\n[AI & Machine Learning\\\\\\n\\\\\\n**Google is a Leader and positioned furthest in vision in the 2025 Gartner® Magic Quadrant™ for Conversational AI Platforms** \\\\\\n\\\\\\nBy Lisa O’Malley • 6-minute read](https://cloud.google.com/blog/products/ai-machine-learning/gartner-magic-quadrant-for-conversational-ai-platforms)\\n\\n[Gaming\\\\\\n\\\\\\n**The AI-powered shift to “living games:” Meet the customers and partners leveling up the ways we play** \\\\\\n\\\\\\nBy Jack Buser • 8-minute read](https://cloud.google.com/blog/products/gaming/games-start-ups-developers-partners-innovating-with-gen-ai)\\n\\n[Financial Services\\\\\\n\\\\\\n**How Keeta processes 11 million financial transactions per second with Spanner** \\\\\\n\\\\\\nBy Ty Schenk • 4-minute read](https://cloud.google.com/blog/topics/financial-services/how-blockchain-network-keeta-processes-11-million-transactions-per-second-with-spanner)\\n\\nLoad more stories', highlights=None, highlight_scores=None, summary=None), Result(url='https://webwave.me/blog/ai-blogs', id='https://webwave.me/blog/ai-blogs', title='Top 7 AI Blogs You Need To Know in 2025 - WebWave', score=None, published_date='2025-03-26T00:00:00.000Z', author='Ewelina Wróbel', image='https://webwave.me/lib/hue725/AI-BLOGS-m8prbvf4.jpg', favicon=None, subpages=None, extras=None, text=\"[Log in](https://webwave.me/authentication)\\n\\n[Sign up](https://webwave.me/sign-up)\\n\\n[Webmaster's panel](https://webwave.me/webmasterPanel/userWebsites)\\n\\n# Top 7 AI Blogs You Need To Know in 2025\\n\\n**Author**\\n\\n[Ewelina Wróbel](https://webwave.me/blog/author/ewelina-wrobel)\\n\\n7 minutes 32 seconds\\n\\n26 March 2025\\n\\n**Any owner of his own business who is aware and wants to develop must admit one thing — it isn't easy to do without AI and its tools. However, the fact that something new is constantly being introduced makes it hard to keep up with trends. We present the top 7 blogs about AI that you will always be up-to-date with and won't get lost in the maze of technological innovations!**\\n\\n[Try out WebWave](https://webwave.me/sign-up)\\n\\n[Keep Reading](https://webwave.me/webwave.me#Content%202)\\n\\n## What is an AI blog?\\n\\nThis is a collection of posts on AI topics related to AI-based tools and tips on using them in everyday work and life. It also has tips on what to use and AI news to keep you up to date. Often on blogs of this type, you will also find speculation about the future of AI.\\n\\nIn the rapidly evolving landscape of technology, an AI blog serves as a crucial platform for disseminating artificial intelligence news and insights. For those looking to stay ahead in AI, you should follow several blogs, including one of the world’s leading sources based at UC Berkeley. This blog provides comprehensive coverage on advancements in AI, showcasing how AI and ML are poised to revolutionize various industries.\\n\\nWith a focus on practical applications, the blog features articles that help readers discover how AI can enhance their workflow. It offers insights into ethical AI systems and the importance of building trustworthy AI. Additionally, the blog is a go-to resource for anyone interested in machine learning and data science, providing up-to-date information on the latest [AI agents](https://www.datagrid.com/) and techniques for effectively applying AI techniques.\\n\\nCreate your website, your way\\n\\nStart for free\\n\\n## Top 7 AI Blogs\\n\\n### 1\\\\. [Mit News](https://news.mit.edu/topic/artificial-intelligence2)\\n\\nMIT News by the Massachusetts Institute of Technology is a platform for the\\xa0daily sharing of groundbreaking research, insights, and discoveries on campus. The MIT blog covers everything from breakthroughs in science and engineering to emerging fields such as biotechnology and artificial intelligence. Useful and timely content, tools, and tips—you'll find it all here.\\n\\nSo if you want to learn AI or understand more about its mechanisms, this is a good option.\\n\\n### 2\\\\. [Open AI](https://openai.com/news/)\\n\\nOpenAI is a leading artificial intelligence development company that has created ChatGPT. ChatGPT is one of the most powerful AI tools, using large language models to generate human-like conversations.\\n\\nChatGPT is used in many applications, including AI writing, chatbots, translation tools, coding and more.\\n\\nFollow the OpenAI blog to learn how to use ChatGPT like a pro and get the latest updates.\\n\\n#### What topics are covered on the OpenAI blog?\\n\\nHere are some of the main topics covered on the OpenAI blog:\\n\\n- Artificial intelligence research topics\\n\\n- Machine learning\\n\\n- Natural language processing (NLP)\\n\\n- Deep learning\\n\\n- Robotics\\n\\n- Generative models\\n\\n- Latest updates to AI tools, including ChatGPT, DALL-E, etc.\\n\\n\\n### 3\\\\. [Machine Learning Mastery](https://machinelearningmastery.com/blog/)\\n\\nWant to get better at artificial intelligence and machine learning? If so, you should check out the Machine Learning Mastery blog by Jason Brownlee, Ph. D. in artificial intelligence.\\n\\nHe created this blog to help developers achieve results through machine learning. Whether you are just starting or want to learn machine learning yourself, follow this blog.\\n\\n### 4\\\\. [Google AI Blog](https://blog.google/technology/ai/)\\n\\nGoogle is investing billions of dollars in developing AI tools such as Bard AI.\\n\\nIn addition, Google uses artificial intelligence to improve almost all of its products and services. On their AI blog, you'll find many interesting updates on how Google uses artificial intelligence and machine learning.\\n\\n#### What topics are covered on the Google AI blog?\\n\\nThe Google AI blog mainly covers the following topics:\\n\\n- Machine learning\\n\\n- Deep learning\\n\\n- Natural language processing (NLP)\\n\\n- Par order vision\\n\\n- Reinforcement learning\\n\\n- Ethical artificial intelligence and artificial intelligence for social good\\n\\n- Advances in artificial intelligence research\\n\\n- Google AI products and services (Google Assistant, Google Photos, etc.).\\n\\n\\nSuppose you're interested in making your business' website appear higher in the search engines than your competitors. In that case, it's worth perusing Google's AI blog, as you'll find various tips on how to use AI and not overdo it.\\n\\nThis is because Google prefers sites with text written by humans, not artificial intelligence.\\n\\nChoose one of the free templates and create your website effortlessly\\n\\nStart for free\\n\\n### 5\\\\. [WebWave AI Blog](https://webwave.me/blog-ai)\\n\\nThe WebWave blog focuses on tips for small businesses and those who just want to open one. You'll find comprehensive guides on using AI daily and how AI tools can help small businesses operate.\\xa0On the WebWave blog, you'll also find tutorials that examine how AI website builder works. With [AI website builder](https://webwave.me/ai-website-builder), you can create a website in as little as 3 minutes and then modify it at will!\\n\\n#### What topics are covered on the WebWave AI blog?\\n\\nHere's a list of topics covered on the WebWAve AI blog;\\n\\n- Artificial intelligence and machine learning,\\n\\n- Business Analytics,\\n\\n- AI tools,\\n\\n- Ai in digital marketing,\\n\\n- Ai for small business.\\n\\n\\n### 6\\\\. [My Great Learning Blog](https://www.mygreatlearning.com/blog/)\\n\\nMy Great Learning is one of the best platforms for learning everything from the basics of data analytics to advanced machine learning algorithms. Whether you're a beginner, a programmer or a job seeker, you can find something useful on their blog.\\n\\n#### What topics are covered on the My Great Learning blog?\\n\\nHere's a list of topics covered on the My Great Learning blog;\\n\\n- Artificial intelligence and machine learning\\n\\n- Data science and business analytics\\n\\n- IT/software development\\n\\n- Interview questions\\n\\n- Digital marketing\\n\\n- Business management\\n\\n\\n### 7\\\\. [Knuggets Blog](https://www.kdnuggets.com/)\\n\\nKDnuggets is a leading website for knowledge on data analytics, machine learning, artificial intelligence and analytics. If you are looking for detailed and informative articles on artificial intelligence and machine learning, KDnuggets is a must-visit blog.\\n\\nIt offers a wide range of tutorials, industry trends and expert opinions that can be useful to anyone interested in artificial intelligence, including students and professionals.\\n\\n## Summary\\n\\nIf you want to stay up to date or understand what AI is, blogs on this topic are a must! You will find the latest news, developments, and tools to help you with your daily work.\\n\\n## FAQ\\n\\n### What are the top AI blogs you need to know in 2025?\\n\\nIn 2025, some of the top AI blogs to follow include the OpenAI blog, Google AI Blog, Berkeley Artificial Intelligence Research, and others focusing on the latest advancements in artificial intelligence and generative AI.\\n\\n### Why should I follow AI blogs?\\n\\nFollowing AI blogs is a valuable resource for staying informed about the latest AI news, trends, and advancements in artificial intelligence research. They offer insights that can benefit business leaders and anyone interested in AI technologies.\\n\\n### How can generative AI be applied in business?\\n\\nGenerative AI can be leveraged in business for various applications such as content creation, personalized marketing, and enhancing customer experiences. By staying informed through AI blogs, business leaders can discover innovative ways to harness these technologies.\\n\\n### What is the significance of ethical AI in AI blogs?\\n\\nEthical AI is crucial as it addresses the implications of AI systems on society. Many AI blogs, like the OpenAI blog, discuss AI ethics, ensuring that advancements in artificial intelligence are aligned with ethical standards and societal values.\\n\\n### How do AI blogs contribute to AI research?\\n\\nAI blogs provide a platform for sharing insights and findings from the field of AI research. They often highlight breakthroughs, emerging trends, and the latest news, making them a go-to resource for researchers and enthusiasts alike.\\n\\n### What topics are commonly covered in the best AI blogs?\\n\\nThe best AI blogs cover a range of topics including AI innovation, generative AI advancements, artificial intelligence trends, analytics, and AI and data science, offering diverse perspectives on the field of AI.\\n\\n### How can I stay updated on the latest AI news?\\n\\nRegularly visit reputable AI blogs such as the Google Research Blog and OpenAI blog to stay updated on the latest AI news. Subscribing to their newsletters can also help you receive timely updates directly in your inbox.\\n\\n### Are there AI blogs specifically focused on machine learning?\\n\\nYes, several AI blogs focus on machine learning, including those from Apple Machine Learning and Berkeley Artificial Intelligence Research. These blogs provide insights and resources tailored to advancements in machine learning technologies.\\n\\n### Can AI blogs help me understand AI trends?\\n\\nAbsolutely! AI blogs are excellent resources for understanding current AI trends. They offer analysis on how these trends impact various industries and what they mean for the future of artificial intelligence.\\n\\n### How do I choose which AI blogs to follow?\\n\\nWhen choosing AI blogs to follow, consider their credibility, the depth of content, and their focus on topics that interest you, such as generative AI, AI ethics, or AI systems. Blogs that provide thorough analysis and the latest news in artificial intelligence are often the most beneficial.\\n\\n## Popular articles.\\n\\n[Free School Website Builder: Design a School Website\\\\\\n\\\\\\nRead more >](https://webwave.me/blog/school-website-builder)\\n\\n[Create a Website for Freelancers: Templates and Tips\\\\\\n\\\\\\nRead more >](https://webwave.me/blog/website-for-freelancers)\\n\\n[Sell on Amazon: How to Sell Without Inventory\\\\\\n\\\\\\nRead more >](https://webwave.me/blog/sell-on-amazon)\\n\\nWebWave website builder is your AI-powered solution for building an online presence. Create your website in 3 minutes, add an online store or a blog, and grow your business.\\n\\nWe created this website with WebWave.\\n\\nFollow us on social media\\n\\nWebsite builder.\\n\\nWebWave AI\\n\\n[Made in WebWave](https://webwave.me/made-in-webwave)\\n\\n[Templates](https://webwave.me/free-website-templates)\\n\\n[Sell website templates](https://webwave.me/community-templates)\\n\\n[Hire an Expert](https://experts.webwave.me/)\\n\\n[Affiliate](https://webwave.me/affiliate)\\n\\n[Plugins](https://webwave.me/integrations-with-webwave)\\n\\n[Suggest a feature](https://vote.webwave.me/)\\n\\n[Service level\\xa0availability](https://status.webwave.me/)\\n\\nOffer.\\n\\n[Premium Plans](https://webwave.me/Pricing)\\n\\n[White label](https://webwave.me/white-label-website-builder)\\n\\n[Domain names](https://webwave.me/free-domain-website)\\n\\nCompany.\\n\\n[About us](https://webwave.me/about-us)\\n\\n[Terms of use](https://webwave.me/terms-of-use)\\n\\n[Privacy Policy](https://webwave.me/privacy-policy)\\n\\n[Data Processing Agreement](https://webwave.me/data-processing-agreement)\\n\\n[Brand resources](https://webwave.me/brand-resources)\\n\\nHelp.\\n\\n[Knowledge base](https://help.webwave.me/)\\n\\n[Videos](https://www.youtube.com/c/WebWaveMe)\\n\\n[Community](https://www.facebook.com/groups/webwaveen)\\n\\n[Mailbox settings](https://help.webwave.me/mailbox)\\n\\n[Domain settings](https://help.webwave.me/set-your-site-address)\\n\\nTemplates.\\n\\n[Small Business\\xa0Templates](https://webwave.me/small-business-website-templates)\\n\\n[Simple Website Templates](https://webwave.me/simple-website-templates)\\n\\n[Modern Website Templates](https://webwave.me/modern-website-templates)\\n\\n[Creative Website Templates](https://webwave.me/creative-website-templates)\\n\\n[Portfolio Website Templates](https://webwave.me/portfolio-website-templates)\\n\\nUseful articles.\\n\\n[How to Make a Website](https://webwave.me/how-to-make-a-website)\\n\\n[Small Business Website](https://webwave.me/small-business-website)\\n\\n[How to Start a Small Business](https://webwave.me/how-to-start-a-small-business)\\n\\n[Small Business Blog](https://webwave.me/small-business-blog)\\n\\n[Small Business SEO Tips](https://webwave.me/small-business-seo-tips)\\n\\n[Best AI Website Builders](https://webwave.me/best-ai-website-builders)\\n\\n[Drag and Drop Website Builder](https://webwave.me/drag-and-drop-website-builder)\\n\\n[Best HTML Website Builder](https://webwave.me/best-html-website-builders)\\n\\nBest Responsive Website Builder\\n\\nNo-Code Website Builder\\n\\n[Canva vs WebWave](https://webwave.me/blog/canva-website-builder-review)\\n\\n[What Is a White Label](https://webwave.me/what-is-white-label)\\n\\n[How to Become a Web Designer](https://webwave.me/how-to-become-a-web-designer)\\n\\n[Affiliate Marketing](https://webwave.me/affiliate-marketing)\\n\\n[AI Web Design](https://webwave.me/blog/ai-web-design)\\n\\n[ChatGPT Web Design](https://webwave.me/blog/chatgpt-web-design)\\n\\n[Midjourney Web Design](https://webwave.me/blog/midjourney-web-design)\\n\\n[How to Create a Website for Free](https://webwave.me/how-to-create-a-website-for-free)\\n\\n[How to Make an Online Store](https://webwave.me/how-to-make-an-online-store)\\n\\n[Online Portfolio Website](https://webwave.me/online-portfolio-website)\\n\\n[Landing Page Website](https://webwave.me/landing-page-website)\\n\\n[Blog](https://webwave.me/blog)\", highlights=None, highlight_scores=None, summary=None), Result(url='https://www.tableau.com/learn/articles/blogs-about-machine-learning-artificial-intelligence', id='https://www.tableau.com/learn/articles/blogs-about-machine-learning-artificial-intelligence', title='10 Great Machine Learning and Artificial Intelligence Blogs - Tableau', score=None, published_date='2025-01-01T00:00:00.000Z', author='', image='https://www.tableau.com/sites/default/files/2022-07/blogs%20-%20opengraph.jpg', favicon=None, subpages=None, extras=None, text=\"[Skip to main content](https://www.tableau.com/www.tableau.com#main-content)\\n\\n# 10 Great Machine Learning (ML) and Artificial Intelligence (AI) Blogs To Follow\\n\\nMachine learning (ML) isn’t new. However, the field of big data is revitalizing the subject and more organizations are relying on ML models to scale their operations, support staff in working better and faster, to uncover hidden insights from data, or even confirm and challenge underlying assumptions. This is creating widespread interest in related topics with the C-suite, and across business lines and job roles, as enterprises embrace the value of [artificial intelligence (AI)](https://www.tableau.com/data-insights/ai/what-is) and ML. To make a disruptive organizational impact, AI and ML need to be understood and trusted. By consulting these ML blogs from authoritative individuals and organizations that satisfy different skill levels, readers can increase their understanding and comfort level in these areas, get pressing questions answered, and connect with others who have experience using them to great benefit.\\n\\n### 1\\\\. [OpenAI](https://openai.com/)\\n\\n**OpenAI** comes from industry experts who want to bring AI to the masses. It's linked to the non-profit research company OpenAI, co-chaired by Elon Musk and Sam Altman, and sponsored by companies such as Amazon Web Services, Microsoft, and Infosys who are trying to make AI accessible—hence the name. Contributors discuss their collective efforts to promote and advance AI technologies through long-term research. It’s a valuable resource for anyone interested in the future of AI.\\n\\n### 2\\\\. [Distill](https://distill.pub/)\\n\\n**Managed by:** Shan Carter, Chris Olah, and Arvind Satyanarayan\\n\\n**Distill** concentrates on making ML and AI more accessible for readers. Traditional research can be difficult to consume, so Distill communicates ML research in appealing, interactive data visualizations. It acts as a neutral platform for multiple authors to publish together, and articles are peer-reviewed, appearing in Google Scholar. **Distill** is also registered with the Library of Congress and CrossRef.\\n\\n### 3\\\\. [Machine Learning is Fun](https://www.machinelearningisfun.com/)\\n\\n**Authored by**: [Adam Geitgey](https://adamgeitgey.com/)\\n\\n**Machine Learning is Fun** is a valuable, introductory blog. It covers the tenets of ML through interactive tutorials and practical examples, which make it easier to see the useful applications to different businesses and industries. Author Adam Geitgey is a former software developer who now consults organizations on implementing machine learning. He believes ML is integral to the future of software and that developers should have a strong working knowledge, so he provides guides and techniques to help them develop and grow.\\n\\n### 4\\\\. [Machine Learning Mastery](https://machinelearningmastery.com/blog/)\\n\\n**Authored by:** Jason Brownlee\\n\\nA machine learning developer with several AI-related degrees, Jason intended his **Machine Learning Mastery** blog for new developers getting started in the field. He was once an amateur developer and wants to help others, imparting lessons learned during his professional journey and sharing the tools that helped him most. The blog, plus his email course and newsletter, accommodate any level of expertise.\\n\\n### 5\\\\. [The BAIR Blog](https://bair.berkeley.edu/blog/)\\n\\n**Managed by:** [Berkeley Artificial Intelligence Research](https://bair.berkeley.edu/)\\n\\nThe artificial intelligence research department at UC Berkeley created this blog to convey research findings and important information about their AI-related work. Covering a spectrum of research—from natural language processing to robotics—grad students and faculty contribute content for both experts and the general population to consume.\\n\\nCreate beautiful visualizations with your data.\\n\\n[Try Tableau for free](https://www.tableau.com/trial)\\n\\n### 6\\\\. [FastML](http://fastml.com/)\\n\\n**Managed by:** Zygmunt Zając\\n\\n**FastML** tackles interesting topics in machine learning with entertaining, easy to consume posts. It’s run by economist Zygmunt Zając, and is a go-to ML platform, tackling topics like overfitting, pointer networks, and chatbots, among others. If you’re frustrated by some of the existing ML papers that feel like you need a PhD in math to understand them, bookmark this blog.\\n\\n### 7\\\\. [AI Trends](https://www.aitrends.com/)\\n\\n**Managed by:** [Cambridge Innovation Institute](https://www.cambridgeinnovationinstitute.com/)\\n\\nThis media channel delivers comprehensive coverage of the latest AI-related technology and business news. It’s designed to keep executives ahead of the curve with artificial intelligence and machine learning. **AI Trends** features interviews with and thought leadership pieces from top business leaders, as well as in-depth articles on the business of AI.\\n\\n### 8\\\\. [AWS Machine Learning Blog](https://aws.amazon.com/blogs/machine-learning/)\\n\\nAmazon is heavily involved in ML, using algorithms in nearly all areas of its business to create leads. Algorithms suggest relevant products for customers in search results, recommend products based on recent purchases, and optimize faster product distribution and shipping from warehouses to customers. The blog features projects and guides that reveal industry strides to readers and covers ML uses in Amazon Web Services technology.\\n\\n### 9\\\\. [Apple Machine Learning Journal](https://machinelearning.apple.com/)\\n\\nApple’s advancements in voice recognition, predictive text, and autocorrect leveraged for Siri signal some of its machine learning work. And their newest iPhone features ML predominantly in its processor, performing trillions of operations per second; it’s ML in your hands. **Apple Machine Learning Journal** is a helpful look at how ML shapes their different technologies, and Apple engineers give perspective on how their work influences the transformation of ML.\\n\\n### 10\\\\. AI at Google\\n\\n**Related links:** [Google AI Research Blog](https://ai.google/research) and [Google AI Technology Blog](https://www.blog.google/technology/ai/)\\n\\nGoogle helped revolutionize machine learning, so to see their level of ML research isn’t surprising. Machine learning and AI critically support how Google technology works—from their search algorithms that redefined web searches, to Google Maps influencing how we navigate destinations, and now their self-driving car is changing the auto industry. Google makes its work available through posts discussing their published research and how its technology is used by others to influence AI innovation.\\n\\nWith greater understanding or appreciation for ML and AI, it’s easier to dispel the myths that may leave doubt about their full potential and to responsibly apply these productive solutions. A Tableau blog post recently explored [three common machine learning misconceptions](https://www.tableau.com/about/blog/2018/9/three-common-machine-learning-misconceptions-94278)—reviewing them will help you discern fact from fiction in all the industry noise.\\n\\nFor anyone ready to embrace these models and put them to work, Andrew Beers, CTO at Tableau Software, wrote about how to effectively and [responsibly apply AI techniques](https://www.linkedin.com/pulse/reflection-responsibly-applying-ai-andrew-beers/) taking cues from brands such as Box, eBay, OpenTable, and Slack. And the rise of explainable AI (i.e. techniques in AI which can be trusted and easily understood) topped Tableau’s [2019 annual report of influential BI trends](https://www.tableau.com/reports/business-intelligence-trends), signaling that more organizations are putting these trained, data-driven models to use in how they operate and solve complex challenges.\\n\\n_Disclaimer: Tableau does not officially endorse any products, publications, or opinions therein listed on this webpage, and as such this page does not engage with any affiliate link programs. This article is intended purely for educational purposes and the above information about products and publications is made available so that readers can make informed decisions for themselves._\", highlights=None, highlight_scores=None, summary=None), Result(url='https://dev.to/akhileshmalthi/the-ai-revolution-isnt-just-text-3-game-changing-trends-to-watch-in-2025-483n', id='https://dev.to/akhileshmalthi/the-ai-revolution-isnt-just-text-3-game-changing-trends-to-watch-in-2025-483n', title=\"The AI Revolution Isn't Just Text: 3 Game-Changing Trends to Watch in 2025\", score=None, published_date='2025-08-02T18:11:55.000Z', author='Akhilesh Malthi', image='https://media2.dev.to/dynamic/image/width=1000,height=500,fit=cover,gravity=auto,format=auto/https%3A%2F%2Fdev-to-uploads.s3.amazonaws.com%2Fuploads%2Farticles%2F0t9z64j15i5v1rnwcl1z.png', favicon='https://media2.dev.to/dynamic/image/width%3D32%2Cheight%3D%2Cfit%3Dscale-down%2Cgravity%3Dauto%2Cformat%3Dauto/https%3A//dev-to-uploads.s3.amazonaws.com/uploads/articles/8j7kvp660rqzt99zui8e.png', subpages=None, extras=None, text='We\\'ve all been amazed by ChatGPT and Midjourney, but the future of AI is evolving at lightning speed. Here’s a look at what\\'s coming next.\\n\\nHey everyone, and welcome to my first blog post!\\n\\nIf you\\'re in tech, your world has probably been turned upside down by AI in the last couple of years. We\\'ve gone from simple chatbots to powerful Large Language Models (LLMs) that can write code, essays, and poetry. But if you think that\\'s the peak, you\\'re in for a surprise. The real revolution is just getting started.\\n\\nLet\\'s look beyond the hype and explore three mind-blowing AI trends that are shaping our future right now in 2025.\\n\\n## 1\\\\. The Rise of Truly Multimodal AI\\n\\nWhat it is: For a long time, AI models were specialists. One understood text, another understood images. Multimodal AI breaks down those walls. These are single models that can seamlessly understand and process information from multiple sources at once.. text, images, audio, and even video.\\n\\nWhy it\\'s a game-changer: Imagine pointing your phone camera at the ingredients in your fridge and asking, \"What healthy meal can I make for dinner tonight?\" A multimodal AI could \"see\" the ingredients, understand your spoken question, and generate a recipe with step-by-step instructions.\\n\\nThis isn\\'t just about cool new features. It will lead to:\\n\\nMore intuitive virtual assistants: Think of a real-life Jarvis from Iron Man.\\n\\nPowerful creative tools: Edit a video by just describing the changes you want.\\n\\nGreater accessibility: An AI that can describe the world in real-time for visually impaired individuals.\\n\\n## 2\\\\. Autonomous AI Agents\\n\\nWhat it is: If LLMs are like a brain you can ask questions, AI Agents are like a digital intern you can give tasks to. An agent is an AI system that can understand a goal, create a plan, and then execute that plan by using different tools and applications on its own.\\n\\nWhy it\\'s a game-changer: This is where AI goes from being a passive tool to an active partner.\\n\\nImagine telling an agent: \"Plan a 3-day weekend trip to Goa for me and my friend next month. Find the best flights from Mumbai, book a nice mid-range hotel near the beach, and create an itinerary.\" The agent would then browse websites, compare prices, check availability, and present you with a full plan, ready for you to approve.\\n\\nThese agents will automate complex digital tasks, from managing your calendar and emails to running marketing campaigns and debugging code.\\n\\n## 3\\\\. AI That Lives in Your Pocket (On-Device AI) 📱\\n\\nWhat it is: For years, the most powerful AI has lived in the cloud, on massive servers owned by big companies. That\\'s changing. Thanks to more efficient models and powerful new chips, high-performance AI is now running directly on our smartphones, laptops, and even cars. This is called On-Device or Edge AI.\\n\\n**_Why it\\'s a game-changer:_**\\n\\n**Privacy**: When the AI runs on your device, your personal data doesn\\'t need to be sent to a server. It stays with you.\\n\\n**Speed**: There\\'s no network lag. The AI\\'s response is instantaneous, which is critical for real-time applications like language translation or AR filters.\\n\\n**Accessibility**: It works even when you\\'re offline.\\n\\nYour phone is no longer just a window to cloud AI; it\\'s becoming a powerful AI-native device itself.\\n\\n## Final Thoughts\\n\\nThe AI landscape is moving faster than ever. We\\'re shifting from AI that just responds to AI that understands, and from AI that understands to AI that acts. The future is multimodal, autonomous, and increasingly personal.\\n\\nIt\\'s an incredibly exciting time to be a developer and a tech enthusiast in India!\\n\\nWhich of these trends excites you the most? Did I miss anything you think is important? Let me know your thoughts in the comments below!\\n\\n# ai \\\\#machinelearning \\\\#innovation \\\\#india\\n\\n[Create template](https://dev.to/settings/response-templates)\\n\\nTemplates let you quickly answer FAQs or store snippets for re-use.\\n\\nSubmitPreview [Dismiss](https://dev.to/404.html)\\n\\nAre you sure you want to hide this comment? It will become hidden in your post, but will still be visible via the comment\\'s [permalink](https://dev.to/dev.to).\\n\\nHide child comments as well\\n\\nConfirm\\n\\nFor further actions, you may consider blocking this person and/or [reporting abuse](https://dev.to/report-abuse)\\n\\nWe\\'re a place where coders share, stay up-to-date and grow their careers.\\n\\n[Log in](https://dev.to/enter?signup_subforem=1) [Create account](https://dev.to/enter?signup_subforem=1&state=new-user)', highlights=None, highlight_scores=None, summary=None)], autoprompt_string='blog post about AI', resolved_search_type='neural', auto_date=None, context=None, statuses=None, cost_dollars=CostDollars(total=0.015, search={'neural': 0.005}, contents={'text': 0.01}))"
      ]
     },
     "execution_count": 4,
     "metadata": {},
     "output_type": "execute_result"
    }
   ],
   "source": [
    "result = exa.search_and_contents(\n",
    "  \"blog post about AI\",\n",
    "  text = True,\n",
    "  type = \"auto\"\n",
    ")\n",
    "result"
   ]
  },
  {
   "cell_type": "code",
   "execution_count": null,
   "metadata": {
    "id": "RHEievW7gMzL"
   },
   "outputs": [],
   "source": [
    "from google import genai\n",
    "from google.colab import userdata\n",
    "\n",
    "client = genai.Client(api_key=GEMINI)\n",
    "MODEL_ID=\"gemini-2.5-flash\""
   ]
  },
  {
   "cell_type": "code",
   "execution_count": null,
   "metadata": {
    "colab": {
     "base_uri": "https://localhost:8080/"
    },
    "executionInfo": {
     "elapsed": 9511,
     "status": "ok",
     "timestamp": 1756194875788,
     "user": {
      "displayName": "Yansha",
      "userId": "05921957491757551257"
     },
     "user_tz": -420
    },
    "id": "8NJt6muXkRrS",
    "outputId": "270d59f3-17d0-414b-f17a-0f0cb897e621"
   },
   "outputs": [
    {
     "name": "stdout",
     "output_type": "stream",
     "text": [
      "Penyebab utama terjadinya demonstrasi di Pati, Jawa Tengah, seringkali berkaitan dengan **isu lingkungan dan tata ruang, khususnya penolakan terhadap aktivitas penambangan (terutama penambangan batu kapur) dan pembangunan pabrik semen di Pegunungan Kendeng.**\n",
      "\n",
      "Berikut adalah rincian lebih lanjut mengenai penyebabnya:\n",
      "\n",
      "1.  **Penolakan Penambangan Batu Kapur dan Pabrik Semen di Pegunungan Kendeng:**\n",
      "    *   **Ancaman Terhadap Lingkungan:** Warga dan aktivis lingkungan menolak keras penambangan karena Pegunungan Kendeng merupakan kawasan karst yang sangat vital sebagai daerah resapan air. Penambangan dikhawatirkan akan merusak ekosistem karst, mengancam ketersediaan air bersih bagi ribuan warga, serta menyebabkan kekeringan di lahan pertanian.\n",
      "    *   **Dampak Sosial dan Ekonomi:** Banyak warga Pati, khususnya di sekitar lereng Kendeng, adalah petani yang sangat bergantung pada sumber air dari pegunungan tersebut. Penambangan dan pabrik semen dianggap akan merusak mata pencarian mereka, mengancam lahan pertanian produktif, dan mengubah bentang alam.\n",
      "    *   **Pelanggaran Hak Asasi Manusia dan Partisipasi Publik:** Seringkali protes muncul karena merasa tidak dilibatkan dalam pengambilan keputusan terkait izin penambangan atau pembangunan pabrik. Warga merasa hak-hak mereka diabaikan dan lingkungan hidup mereka terancam tanpa persetujuan yang memadai.\n",
      "    *   **Pencemaran:** Selain dampak pada air, penambangan dan operasional pabrik semen juga dikhawatirkan akan menyebabkan polusi udara (debu) dan suara yang mengganggu kesehatan dan kenyamanan warga.\n",
      "\n",
      "2.  **Isu Agraria dan Konflik Tanah Lainnya:** Selain Kendeng, demonstrasi juga bisa dipicu oleh sengketa lahan, klaim tanah oleh pihak korporasi, atau kebijakan tata ruang yang dianggap merugikan masyarakat lokal.\n",
      "\n",
      "3.  **Kebijakan Pemerintah Daerah/Pusat yang Kontroversial:** Terkadang, demonstrasi juga bisa muncul sebagai respons terhadap kebijakan pemerintah (lokal maupun nasional) yang dianggap tidak pro-rakyat, koruptif, atau merugikan kepentingan umum.\n",
      "\n",
      "Singkatnya, **konflik agraria dan lingkungan terkait eksploitasi sumber daya alam di Pegunungan Kendeng** adalah pemicu utama sebagian besar aksi demonstrasi yang melibatkan warga Pati dan sekitarnya.\n"
     ]
    }
   ],
   "source": [
    "chat = client.chats.create(\n",
    "    model=MODEL_ID\n",
    ")\n",
    "\n",
    "response = chat.send_message(\"apa penyebab terjadinya demo di pati, jawa tengah?\")\n",
    "print(response.text)"
   ]
  },
  {
   "cell_type": "code",
   "execution_count": null,
   "metadata": {
    "colab": {
     "base_uri": "https://localhost:8080/",
     "height": 585
    },
    "executionInfo": {
     "elapsed": 27,
     "status": "ok",
     "timestamp": 1756194880520,
     "user": {
      "displayName": "Yansha",
      "userId": "05921957491757551257"
     },
     "user_tz": -420
    },
    "id": "7L4XzEzBkZuA",
    "outputId": "efb6fa10-8939-4134-cb84-3f3eb28e2141"
   },
   "outputs": [
    {
     "data": {
      "text/markdown": [
       "###user:"
      ],
      "text/plain": [
       "<IPython.core.display.Markdown object>"
      ]
     },
     "metadata": {},
     "output_type": "display_data"
    },
    {
     "data": {
      "text/markdown": [
       "apa penyebab terjadinya demo di pati, jawa tengah?"
      ],
      "text/plain": [
       "<IPython.core.display.Markdown object>"
      ]
     },
     "metadata": {},
     "output_type": "display_data"
    },
    {
     "name": "stdout",
     "output_type": "stream",
     "text": [
      "--------------------------------------------------------------------------------\n"
     ]
    },
    {
     "data": {
      "text/markdown": [
       "###model:"
      ],
      "text/plain": [
       "<IPython.core.display.Markdown object>"
      ]
     },
     "metadata": {},
     "output_type": "display_data"
    },
    {
     "data": {
      "text/markdown": [
       "Penyebab utama terjadinya demonstrasi di Pati, Jawa Tengah, seringkali berkaitan dengan **isu lingkungan dan tata ruang, khususnya penolakan terhadap aktivitas penambangan (terutama penambangan batu kapur) dan pembangunan pabrik semen di Pegunungan Kendeng.**\n",
       "\n",
       "Berikut adalah rincian lebih lanjut mengenai penyebabnya:\n",
       "\n",
       "1.  **Penolakan Penambangan Batu Kapur dan Pabrik Semen di Pegunungan Kendeng:**\n",
       "    *   **Ancaman Terhadap Lingkungan:** Warga dan aktivis lingkungan menolak keras penambangan karena Pegunungan Kendeng merupakan kawasan karst yang sangat vital sebagai daerah resapan air. Penambangan dikhawatirkan akan merusak ekosistem karst, mengancam ketersediaan air bersih bagi ribuan warga, serta menyebabkan kekeringan di lahan pertanian.\n",
       "    *   **Dampak Sosial dan Ekonomi:** Banyak warga Pati, khususnya di sekitar lereng Kendeng, adalah petani yang sangat bergantung pada sumber air dari pegunungan tersebut. Penambangan dan pabrik semen dianggap akan merusak mata pencarian mereka, mengancam lahan pertanian produktif, dan mengubah bentang alam.\n",
       "    *   **Pelanggaran Hak Asasi Manusia dan Partisipasi Publik:** Seringkali protes muncul karena merasa tidak dilibatkan dalam pengambilan keputusan terkait izin penambangan atau pembangunan pabrik. Warga merasa hak-hak mereka diabaikan dan lingkungan hidup mereka terancam tanpa persetujuan yang memadai.\n",
       "    *   **Pencemaran:** Selain dampak pada air, penambangan dan operasional pabrik semen juga dikhawatirkan akan menyebabkan polusi udara (debu) dan suara yang mengganggu kesehatan dan kenyamanan warga.\n",
       "\n",
       "2.  **Isu Agraria dan Konflik Tanah Lainnya:** Selain Kendeng, demonstrasi juga bisa dipicu oleh sengketa lahan, klaim tanah oleh pihak korporasi, atau kebijakan tata ruang yang dianggap merugikan masyarakat lokal.\n",
       "\n",
       "3.  **Kebijakan Pemerintah Daerah/Pusat yang Kontroversial:** Terkadang, demonstrasi juga bisa muncul sebagai respons terhadap kebijakan pemerintah (lokal maupun nasional) yang dianggap tidak pro-rakyat, koruptif, atau merugikan kepentingan umum.\n",
       "\n",
       "Singkatnya, **konflik agraria dan lingkungan terkait eksploitasi sumber daya alam di Pegunungan Kendeng** adalah pemicu utama sebagian besar aksi demonstrasi yang melibatkan warga Pati dan sekitarnya."
      ],
      "text/plain": [
       "<IPython.core.display.Markdown object>"
      ]
     },
     "metadata": {},
     "output_type": "display_data"
    },
    {
     "name": "stdout",
     "output_type": "stream",
     "text": [
      "--------------------------------------------------------------------------------\n"
     ]
    }
   ],
   "source": [
    "from IPython.display import Markdown, display\n",
    "\n",
    "def print_history(chat):\n",
    "  for content in chat.get_history():\n",
    "      display(Markdown(\"###\" + content.role + \":\"))\n",
    "      for part in content.parts:\n",
    "          if part.text:\n",
    "              display(Markdown(part.text))\n",
    "          if part.function_call:\n",
    "              print(\"Function call: {\", part.function_call, \"}\")\n",
    "          if part.function_response:\n",
    "              print(\"Function response: {\", part.function_response, \"}\")\n",
    "      print(\"-\" * 80)\n",
    "\n",
    "print_history(chat)"
   ]
  },
  {
   "cell_type": "code",
   "execution_count": null,
   "metadata": {
    "id": "PB-Yy498hFGE"
   },
   "outputs": [],
   "source": [
    "instruction_exa = \"\"\"\n",
    "You are a helpful and knowledgeable AI research assistant.\n",
    "Your primary function is to provide accurate, up-to-date answers to user questions.\n",
    "\n",
    "You have access to a powerful web search tool called 'Exa' that allows you to find real-time information from the internet.\n",
    "\n",
    "**Your instructions are as follows:**\n",
    "\n",
    "1.  **Analyze the User's Query:** First, understand the user's question.\n",
    "    If the question is about recent events, specific, niche topics, or anything that might require information beyond your internal knowledge base, you MUST use the provided search tool.\n",
    "\n",
    "2.  **Use the Search Tool (`exa_search_and_contents`):**\n",
    "    * To use the tool, you must generate a function call.\n",
    "    * Formulate a clear and concise search `query` parameter that best captures the user's intent.\n",
    "      * For example, if the user asks \"apa penyebab terjadinya demo di pati, jawa tengah?\", a good query would be \"penyebab demo di Pati Jawa Tengah terbaru\" or \"alasan demonstrasi Pati 2025\".\n",
    "    * Do not just repeat the user's question as the query. Synthesize it into effective search keywords.\n",
    "\n",
    "3.  **Process the Search Results:**\n",
    "    * After calling the tool, you will receive a list of web page results with their content.\n",
    "    * Carefully read and synthesize the information from the provided content to construct your final answer.\n",
    "    * Do not just copy the content. Explain it in your own words.\n",
    "\n",
    "4.  **Provide a Comprehensive Answer:**\n",
    "    * Answer the user's original question directly.\n",
    "    * If you use information from the search results, you MUST cite your sources by mentioning the URL(s) you used.\n",
    "    * If the search tool does not return relevant information or you cannot find an answer, clearly state that you were unable to find the information on the web. Do not invent an answer.\n",
    "\"\"\""
   ]
  },
  {
   "cell_type": "code",
   "execution_count": null,
   "metadata": {
    "id": "VXvpdf_mhbn-"
   },
   "outputs": [],
   "source": [
    "import os\n",
    "\n",
    "def exa_search_and_contents(query: str):\n",
    "    \"\"\"\n",
    "    Searches the internet for up-to-date information using a query.\n",
    "\n",
    "    Args:\n",
    "        query: A clear and concise search query string.\n",
    "\n",
    "    Returns:\n",
    "        A formatted string of search results including title, URL, and content snippet.\n",
    "    \"\"\"\n",
    "    print(f\"🔍 Executing Exa search for: '{query}'\")\n",
    "    try:\n",
    "        # Call the Exa API\n",
    "        search_results = exa.search_and_contents(\n",
    "            query=query,\n",
    "            type=\"auto\",\n",
    "            num_results=3,  # Get the top 3 results for a good summary\n",
    "            text={\"max_characters\": 2000} # Limit content length per result\n",
    "        )\n",
    "\n",
    "        # Format the output for clarity\n",
    "        formatted_results = []\n",
    "        for result in search_results.results:\n",
    "            formatted_results.append(\n",
    "                f\"Title: {result.title}\\n\"\n",
    "                f\"URL: {result.url}\\n\"\n",
    "                f\"Content: {result.text}\\n\"\n",
    "                \"-----------------\"\n",
    "            )\n",
    "\n",
    "        return \"\\n\".join(formatted_results)\n",
    "\n",
    "    except Exception as e:\n",
    "        return f\"An error occurred during the search: {e}\"\n",
    "\n",
    "def get_google_maps_data():\n",
    "  pass"
   ]
  },
  {
   "cell_type": "code",
   "execution_count": null,
   "metadata": {
    "colab": {
     "base_uri": "https://localhost:8080/"
    },
    "executionInfo": {
     "elapsed": 10860,
     "status": "ok",
     "timestamp": 1756194907532,
     "user": {
      "displayName": "Yansha",
      "userId": "05921957491757551257"
     },
     "user_tz": -420
    },
    "id": "HTC80BVCIe8F",
    "outputId": "467388cf-9f42-4400-d9fa-c151fce27943"
   },
   "outputs": [
    {
     "name": "stdout",
     "output_type": "stream",
     "text": [
      "Penyebab utama terjadinya demo di Pati, Jawa Tengah, seringkali berkaitan erat dengan **konflik agraria dan lingkungan hidup**, terutama yang melibatkan **Pegunungan Kendeng Utara**.\n",
      "\n",
      "Berikut adalah beberapa penyebab spesifik yang sering memicu demonstrasi di Pati:\n",
      "\n",
      "1.  **Penolakan Pembangunan Pabrik Semen dan Penambangan Karst:**\n",
      "    *   Ini adalah isu paling dominan dan telah berlangsung bertahun-tahun. Masyarakat (terutama petani) dan aktivis lingkungan menolak pembangunan pabrik semen dan aktivitas penambangan batu karst di Pegunungan Kendeng.\n",
      "    *   **Alasan Penolakan:**\n",
      "        *   **Kerusakan Lingkungan:** Kekhawatiran akan rusaknya ekosistem karst yang menjadi daerah tangkapan air alami (akuifer), yang vital bagi pasokan air bersih dan irigasi pertanian.\n",
      "        *   **Ancaman Mata Pencarian:** Penambangan dan pabrik semen dianggap mengancam keberlanjutan lahan pertanian subur di sekitar Kendeng, yang menjadi sumber penghidupan utama bagi ribuan petani.\n",
      "        *   **Krisis Air:** Dikhawatirkan penambangan akan menyebabkan kekeringan dan krisis air bagi masyarakat dan pertanian.\n",
      "    *   **Pihak Terlibat:** Masyarakat setempat (terutama yang tergabung dalam Jaringan Masyarakat Peduli Pegunungan Kendeng - JMPPK), LSM lingkungan, melawan pemerintah daerah/pusat yang mengeluarkan izin pertambangan, dan perusahaan semen (misalnya, PT Indocement yang memiliki rencana investasi di wilayah Pati).\n",
      "\n",
      "2.  **Konflik Agraria Lainnya:**\n",
      "    *   Selain isu semen, Pati juga tidak luput dari konflik agraria terkait sengketa lahan dengan pihak swasta atau pemerintah untuk proyek-proyek lain, seperti pembangunan infrastruktur, perkebunan, atau industri lainnya.\n",
      "\n",
      "3.  **Kebijakan Pemerintah Daerah/Pusat:**\n",
      "    *   Demonstrasi juga bisa dipicu oleh kebijakan pemerintah yang dianggap merugikan masyarakat, baik di tingkat lokal maupun nasional. Ini bisa berupa kenaikan harga kebutuhan pokok, regulasi yang memberatkan, atau proyek pembangunan yang tidak melibatkan partisipasi masyarakat.\n",
      "\n",
      "4.  **Isu Sosial dan Kesejahteraan:**\n",
      "    *   Seperti daerah lain, demo juga bisa terjadi karena masalah sosial ekonomi, seperti ketidakadilan, korupsi, atau tuntutan peningkatan kesejahteraan.\n",
      "\n",
      "Namun, jika berbicara tentang demo berskala besar dan berkelanjutan di Pati, isu **penolakan eksploitasi Pegunungan Kendeng untuk pabrik semen dan penambangan karst** adalah penyebab paling menonjol dan ikonik.\n"
     ]
    }
   ],
   "source": [
    "chat = client.chats.create(\n",
    "    model=MODEL_ID\n",
    ")\n",
    "\n",
    "response = chat.send_message(\"apa penyebab terjadinya demo di pati, jawa tengah?\")\n",
    "print(response.text)"
   ]
  },
  {
   "cell_type": "code",
   "execution_count": null,
   "metadata": {
    "colab": {
     "base_uri": "https://localhost:8080/"
    },
    "executionInfo": {
     "elapsed": 6256,
     "status": "ok",
     "timestamp": 1756194915831,
     "user": {
      "displayName": "Yansha",
      "userId": "05921957491757551257"
     },
     "user_tz": -420
    },
    "id": "JVbOMSMIgTnZ",
    "outputId": "f1fd221a-c89a-4bbc-9295-57c336377950"
   },
   "outputs": [
    {
     "name": "stdout",
     "output_type": "stream",
     "text": [
      "🔍 Executing Exa search for: 'penyebab demo di Pati Jawa Tengah'\n"
     ]
    },
    {
     "name": "stderr",
     "output_type": "stream",
     "text": [
      "WARNING:google_genai.types:Warning: there are non-text parts in the response: ['thought_signature'], returning concatenated text result from text parts. Check the full candidates.content.parts accessor to get the full model response.\n"
     ]
    },
    {
     "name": "stdout",
     "output_type": "stream",
     "text": [
      "Aksi demonstrasi yang terjadi di Pati, Jawa Tengah, memiliki beberapa penyebab utama, di antaranya:\n",
      "\n",
      "1.  **Dugaan Korupsi Bupati Sudewo**: Ratusan warga Pati menuntut Bupati Sudewo lengser dari jabatannya karena diduga terlibat dalam tindak pidana korupsi terkait proyek pembangunan dan pemeliharaan jalur kereta api di Direktorat Jenderal Perkeretaapian (DJKA) Kementerian Perhubungan tahun anggaran 2022-2024. Warga bahkan telah mengirimkan surat kepada Komisi Pemberantasan Korupsi (KPK) untuk segera memeriksa dan menetapkan Sudewo sebagai tersangka. (Sumber: [BBC Indonesia](https://www.bbc.com/indonesia/articles/cx27365z0g2o))\n",
      "2.  **Kenaikan Pajak Bumi dan Bangunan (PBB-P2)**: Kenaikan PBB-P2 yang signifikan juga menjadi salah satu pemicu ketidakpuasan masyarakat, menuntut kebijakan fiskal yang transparan dan bertahap. (Sumber: [Kompaspedia Kompas.id](https://kompaspedia.kompas.id/baca/infografik/kronologi/demo-pati-2025-dari-pajak-melonjak-hingga-tuntutan-mundur-bupati))\n",
      "3.  **Sikap Arogan dan Kebijakan yang Tidak Pro Rakyat**: Bupati Sudewo dinilai arogan dan sejumlah kebijakannya dianggap tidak berpihak kepada masyarakat. (Sumber: [Tempo.co](https://www.tempo.co/politik/rusuh-di-pati-begini-asal-mula-dan-legenda-kabupaten-pati-2058405))\n"
     ]
    }
   ],
   "source": [
    "chat = client.chats.create(\n",
    "    model=MODEL_ID,\n",
    "    config={\n",
    "        \"tools\": [exa_search_and_contents],\n",
    "        \"system_instruction\": instruction_exa,\n",
    "    }\n",
    ")\n",
    "\n",
    "response = chat.send_message(\"apa penyebab terjadinya demo di pati, jawa tengah?\")\n",
    "print(response.text)"
   ]
  },
  {
   "cell_type": "code",
   "execution_count": null,
   "metadata": {
    "colab": {
     "base_uri": "https://localhost:8080/",
     "height": 521
    },
    "executionInfo": {
     "elapsed": 41,
     "status": "ok",
     "timestamp": 1756194922212,
     "user": {
      "displayName": "Yansha",
      "userId": "05921957491757551257"
     },
     "user_tz": -420
    },
    "id": "R6mzjG7lgs21",
    "outputId": "16c66be8-45b7-4cd4-8a7e-7c8a77057850"
   },
   "outputs": [
    {
     "data": {
      "text/markdown": [
       "###user:"
      ],
      "text/plain": [
       "<IPython.core.display.Markdown object>"
      ]
     },
     "metadata": {},
     "output_type": "display_data"
    },
    {
     "data": {
      "text/markdown": [
       "apa penyebab terjadinya demo di pati, jawa tengah?"
      ],
      "text/plain": [
       "<IPython.core.display.Markdown object>"
      ]
     },
     "metadata": {},
     "output_type": "display_data"
    },
    {
     "name": "stdout",
     "output_type": "stream",
     "text": [
      "--------------------------------------------------------------------------------\n"
     ]
    },
    {
     "data": {
      "text/markdown": [
       "###model:"
      ],
      "text/plain": [
       "<IPython.core.display.Markdown object>"
      ]
     },
     "metadata": {},
     "output_type": "display_data"
    },
    {
     "name": "stdout",
     "output_type": "stream",
     "text": [
      "Function call: { id=None args={'query': 'penyebab demo di Pati Jawa Tengah'} name='exa_search_and_contents' }\n",
      "--------------------------------------------------------------------------------\n"
     ]
    },
    {
     "data": {
      "text/markdown": [
       "###user:"
      ],
      "text/plain": [
       "<IPython.core.display.Markdown object>"
      ]
     },
     "metadata": {},
     "output_type": "display_data"
    },
    {
     "name": "stdout",
     "output_type": "stream",
     "text": [
      "Function response: { will_continue=None scheduling=None id=None name='exa_search_and_contents' response={'result': 'Title: Demo Pati: Warga desak KPK periksa dan tangkap Bupati Sudewo, \\'Kami ingin punya pemimpin yang bersih\\'\\nURL: https://www.bbc.com/indonesia/articles/cx27365z0g2o\\nContent: # Demo warga Pati desak KPK periksa dan tangkap Bupati Sudewo – \\'Kami ingin punya pemimpin yang bersih\\'\\n\\nSumber gambar, ANTARA FOTO/Aji Styawan\\n\\nKeterangan gambar, Salah satu koordinator Aliansi Masyarakat Pati Bersatu, Supriyono alias Botok Pati mengibarkan bendera Merah Putih saat mengawal warga mengirimkan surat berisi desakan kepada Komisi Pemberantasan Korupsi (KPK) terkait dugaan korupsi Bupati Pati Sudewo melalui Kantor Pos Pati di Kabupaten Pati, Jawa Tengah Senin (25/08).\\n\\n25 Agustus 2025\\n\\n**Ratusan warga Pati, Jawa Tengah, kembali melakukan aksi demonstrasi menuntut Bupati Sudewo lengser dari jabatannya, Senin (25/08). Dalam demo kali ini, warga mengirimkan surat kepada KPK agar segera memeriksa Sudewo yang diduga menerima suap proyek kereta api.**\\n\\nSedari pagi, warga berbondong-bondong mendatangi posko donasi yang berada di dekat Kantor Bupati Pati. Terpampang jelas di posko itu tulisan \"Ribuan Masyarakat Pati Kirim Surat Ke KPK RI di Jakarta\".\\n\\nDi sekitar posko, warga menulis surat yang nantinya akan dikirimkan ke pimpinan Komisi Pemberantasan Korupsi (KPK).\\n\\nIsinya, \"mendesak dan meminta Ketua KPK untuk segera memeriksa, juga menetapkan sebagai tersangka dan menahan Bupati Kabupaten Pati Sudewo yang terlibat dalam perkara tindak pidana korupsi terkait proyek pembangunan dan pemeliharaan jalur kereta api di Direktorat Jenderal Perkeretaapian (DJKA) Kementerian Perhubungan tahun anggaran 2022-2024\".\\n\\nDi lembar surat itu, masing-masing warga menuliskan identitas pribadi mereka dan menandatanganinya.\\n\\n[Lewatkan Paling banyak dibaca dan terus membaca](https://www.bbc.com/www.bbc.com#end-of-recommendations)\\n\\n**Paling banyak dibaca**\\n\\n- [Demo \\'25 Agustus\\' tolak tunjangan anggota DPR ricuh, Dasco: Tunjangan rumah Rp 50 juta hanya sampai Oktober tahun ini](https://www.bbc.com/indonesia/articles/cr5rj1pv1ppo)\\n\\n- [Polisi tangkap \\'aktor utama\\' kasus dugaan pembunuhan kepala cabang BRI, apa motifnya?](https://www.bbc.com/indonesia/articles/c1mpy5y7p75o)\\n\\n- [Gaji dan\\n-----------------\\nTitle: Demo Pati 2025: dari Pajak Melonjak hingga Tuntutan Mundur Bupati\\nURL: https://kompaspedia.kompas.id/baca/infografik/kronologi/demo-pati-2025-dari-pajak-melonjak-hingga-tuntutan-mundur-bupati\\nContent: \\n \\n \\n \\n \\n Kronologi | Pajak \\n Kenaikan PBB-P2 di Pati merupakan pelajaran penting bagi pemerintah daerah di seluruh Indonesia. Kebijakan fiskal, terutama yang menyangkut beban ekonomi masyarakat, harus dilakukan secara bertahap, transparan, dan dengan partisipasi publik. \\n \\n \\n Kamis, 21 Agustus 2025 05:00:11 WIB Rabu, 20 Agustus 2025 19:44:33 WIB \\n \\n \\n \\n \\n \\n \\n \\n \\nKOMPAS/P RADITYA MAHENDRA YASA\\nSpanduk yang dibawa warga dengan tuntutan mereka agar Sudewo lengser saat aksi demonstrasi di depan Kantor Bupati Pati, Kabupaten Pati, Jawa Tengah, Rabu (13/8/2025). \\n \\n \\n [...] \\n \\n \\n \\n Artikel Terkait \\n \\n \\n Kronologi Lainnya \\n \\n \\n \\n \\n\\n-----------------\\nTitle: Rusuh di Pati. Begini Asal Mula dan Legenda Kabupaten Pati\\nURL: https://www.tempo.co/politik/rusuh-di-pati-begini-asal-mula-dan-legenda-kabupaten-pati-2058405\\nContent: Menu\\n\\n[Politik](https://www.tempo.co/politik)\\n\\n[Politik](https://www.tempo.co/politik/politik)\\n\\n[Pendidikan](https://www.tempo.co/politik/pendidikan)\\n\\n[Nusa](https://www.tempo.co/politik/nusa)\\n\\n[Sosial](https://www.tempo.co/politik/sosial)\\n\\n[Difabel](https://www.tempo.co/politik/difabel)\\n\\n[Konflik Aceh dalam Ingatan Anak-anak Muda](https://www.tempo.co/politik/konflik-aceh-20-tahun-perjanjian-helsinki--2059009) [Pemerintah Tutup 31 Ruas Jalan di Jakarta untuk Malam Perayaan HUT ke-80 RI](https://www.tempo.co/politik/pemerintah-tutup-31-ruas-jalan-di-jakarta-untuk-malam-perayaan-hut-ke-80-ri-2059184) [Begini Alasan Megawati Tak Hadir di Sidang Tahunan MPR 2025](https://www.tempo.co/politik/begini-alasan-megawati-tak-hadir-di-sidang-tahunan-mpr-2025-2059181) [Aliansi Keterbukaan Sejarah Desak Pemerintah Cabut Penulisan Ulang Sejarah](https://www.tempo.co/politik/-aliansi-keterbukaan-sejarah-desak-pemerintah-cabut-penulisan-ulang-sejarah-2059178)\\n\\nNusa\\n\\n# Rusuh di Pati. Begini Asal Mula dan Legenda Kabupaten Pati\\n\\nAksi unjuk rasa warga meminta Bupati Pati Sudewo mundur. Ini legenda Kabupaten Pati berawal dari kisah Dewi Ruyung Wulan dan Dalang Ki Soponyono.\\n\\n13 Agustus 2025 \\\\| 17.25 WIB\\n\\nDengarkan artikel\\n\\nBagikan\\n\\nGabung Tempo Circle\\n\\nPerbesar\\n\\nMassa yang tergabung dalam Aliansi Masyarakat Pati Bersatu berunjuk rasa di depan Kantor Bupati Pati, Kabupaten Pati, Jawa Tengah, 13 Agustus 2025. Unjuk rasa yang dihadiri sekitar 100 ribu warga itu menuntut Bupati Pati Sudewo agar mundur dari jabatannya karena dinilai arogan dan sejumlah kebijakannya tidak pro ke masyarakat. Antara/Aji Styawan\\n\\nBaca berita dengan sedikit iklan, [klik di sini](https://subscribe.tempo.co/tempo-sales-funnel/tempo-sales-funnel-frontend/show?funnel=sedikitiklan)\\n\\nRIBUAN masyarakat Kabupaten [Pati](https://www.tempo.co/tag/pati), Jawa Tengah, berdemonstrasi menuntut Bupati Pati [Sudewo](https://www.tempo.co/tag/sudewo) mengundurkan diri dari jabatannya karena dianggap sebagai pemimpin yang arogan d\\n-----------------'} }\n",
      "--------------------------------------------------------------------------------\n"
     ]
    },
    {
     "data": {
      "text/markdown": [
       "###model:"
      ],
      "text/plain": [
       "<IPython.core.display.Markdown object>"
      ]
     },
     "metadata": {},
     "output_type": "display_data"
    },
    {
     "data": {
      "text/markdown": [
       "Aksi demonstrasi yang terjadi di Pati, Jawa Tengah, memiliki beberapa penyebab utama, di antaranya:\n",
       "\n",
       "1.  **Dugaan Korupsi Bupati Sudewo**: Ratusan warga Pati menuntut Bupati Sudewo lengser dari jabatannya karena diduga terlibat dalam tindak pidana korupsi terkait proyek pembangunan dan pemeliharaan jalur kereta api di Direktorat Jenderal Perkeretaapian (DJKA) Kementerian Perhubungan tahun anggaran 2022-2024. Warga bahkan telah mengirimkan surat kepada Komisi Pemberantasan Korupsi (KPK) untuk segera memeriksa dan menetapkan Sudewo sebagai tersangka. (Sumber: [BBC Indonesia](https://www.bbc.com/indonesia/articles/cx27365z0g2o))\n",
       "2.  **Kenaikan Pajak Bumi dan Bangunan (PBB-P2)**: Kenaikan PBB-P2 yang signifikan juga menjadi salah satu pemicu ketidakpuasan masyarakat, menuntut kebijakan fiskal yang transparan dan bertahap. (Sumber: [Kompaspedia Kompas.id](https://kompaspedia.kompas.id/baca/infografik/kronologi/demo-pati-2025-dari-pajak-melonjak-hingga-tuntutan-mundur-bupati))\n",
       "3.  **Sikap Arogan dan Kebijakan yang Tidak Pro Rakyat**: Bupati Sudewo dinilai arogan dan sejumlah kebijakannya dianggap tidak berpihak kepada masyarakat. (Sumber: [Tempo.co](https://www.tempo.co/politik/rusuh-di-pati-begini-asal-mula-dan-legenda-kabupaten-pati-2058405))"
      ],
      "text/plain": [
       "<IPython.core.display.Markdown object>"
      ]
     },
     "metadata": {},
     "output_type": "display_data"
    },
    {
     "name": "stdout",
     "output_type": "stream",
     "text": [
      "--------------------------------------------------------------------------------\n"
     ]
    }
   ],
   "source": [
    "from IPython.display import Markdown, display\n",
    "\n",
    "def print_history(chat):\n",
    "  for content in chat.get_history():\n",
    "      display(Markdown(\"###\" + content.role + \":\"))\n",
    "      for part in content.parts:\n",
    "          if part.text:\n",
    "              display(Markdown(part.text))\n",
    "          if part.function_call:\n",
    "              print(\"Function call: {\", part.function_call, \"}\")\n",
    "          if part.function_response:\n",
    "              print(\"Function response: {\", part.function_response, \"}\")\n",
    "      print(\"-\" * 80)\n",
    "\n",
    "print_history(chat)"
   ]
  }
 ],
 "metadata": {
  "accelerator": "GPU",
  "colab": {
   "gpuType": "T4",
   "provenance": [
    {
     "file_id": "1eMbQzTTbhM6klk0Jryh9aPiydWw-HWCd",
     "timestamp": 1756194595386
    }
   ]
  },
  "kernelspec": {
   "display_name": "base",
   "language": "python",
   "name": "python3"
  },
  "language_info": {
   "name": "python",
   "version": "3.13.5"
  }
 },
 "nbformat": 4,
 "nbformat_minor": 0
}
