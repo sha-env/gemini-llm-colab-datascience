{
 "cells": [
  {
   "cell_type": "markdown",
   "metadata": {
    "id": "U2fk0vjajJRa"
   },
   "source": [
    "# Instalasi Library"
   ]
  },
  {
   "cell_type": "code",
   "execution_count": null,
   "metadata": {
    "colab": {
     "base_uri": "https://localhost:8080/"
    },
    "collapsed": true,
    "executionInfo": {
     "elapsed": 32163,
     "status": "ok",
     "timestamp": 1756454776169,
     "user": {
      "displayName": "Yansha",
      "userId": "05921957491757551257"
     },
     "user_tz": -420
    },
    "id": "YaBAFqqyoAGB",
    "outputId": "efd91793-5934-442f-ba7f-c337ad60923f"
   },
   "outputs": [],
   "source": [
    "!pip install -U -q google-generativeai langchain langchain-google-genai langchain_community pypdf chromadb"
   ]
  },
  {
   "cell_type": "code",
   "execution_count": null,
   "metadata": {
    "id": "0GwLF-rp0k_x"
   },
   "outputs": [],
   "source": [
    "from langchain_google_genai import ChatGoogleGenerativeAI\n",
    "from langchain_google_genai import GoogleGenerativeAIEmbeddings\n",
    "\n",
    "from IPython.display import Markdown as md\n",
    "\n",
    "import warnings\n",
    "warnings.filterwarnings('ignore')"
   ]
  },
  {
   "cell_type": "code",
   "execution_count": null,
   "metadata": {
    "id": "lmInVxO_3UOk"
   },
   "outputs": [],
   "source": [
    "from google.colab import userdata"
   ]
  },
  {
   "cell_type": "code",
   "execution_count": null,
   "metadata": {
    "id": "7CiFYWa0zoNl"
   },
   "outputs": [],
   "source": [
    "# import google.generativeai as genai\n",
    "\n",
    "# masukan API key kalian\n",
    "api_key = userdata.get('GEMINI')\n",
    "# genai.configure(api_key=api_key)"
   ]
  },
  {
   "cell_type": "code",
   "execution_count": null,
   "metadata": {
    "id": "A_inEdIozpdS"
   },
   "outputs": [],
   "source": [
    "chat_model = ChatGoogleGenerativeAI(google_api_key=api_key,\n",
    "                                   model=\"gemini-2.5-flash\")"
   ]
  },
  {
   "cell_type": "code",
   "execution_count": null,
   "metadata": {
    "colab": {
     "base_uri": "https://localhost:8080/"
    },
    "executionInfo": {
     "elapsed": 1061,
     "status": "ok",
     "timestamp": 1756454867232,
     "user": {
      "displayName": "Yansha",
      "userId": "05921957491757551257"
     },
     "user_tz": -420
    },
    "id": "j6QOb3Tn1byn",
    "outputId": "57ff06c8-7382-47e8-bc06-c2bbd34f397d"
   },
   "outputs": [],
   "source": [
    "# download pdf dengan curl\n",
    "!curl -o  ai_pv.pdf https://www.pearsonvue.com/content/dam/VUE/vue/en/documents/clients/it-specialist/its-od-307-artificial-intel-pearson.pdf"
   ]
  },
  {
   "cell_type": "code",
   "execution_count": null,
   "metadata": {
    "id": "gYFSOtpg1WvA"
   },
   "outputs": [],
   "source": [
    "from langchain_community.document_loaders import PyPDFLoader\n",
    "\n",
    "loader = PyPDFLoader(\"ai_pv.pdf\")\n",
    "pages = loader.load_and_split()"
   ]
  },
  {
   "cell_type": "code",
   "execution_count": null,
   "metadata": {
    "colab": {
     "base_uri": "https://localhost:8080/"
    },
    "collapsed": true,
    "executionInfo": {
     "elapsed": 28,
     "status": "ok",
     "timestamp": 1756454880944,
     "user": {
      "displayName": "Yansha",
      "userId": "05921957491757551257"
     },
     "user_tz": -420
    },
    "id": "qw24LqIo3oEu",
    "outputId": "6a31af5a-8a48-4c36-8455-8dc44ab9adfb"
   },
   "outputs": [],
   "source": [
    "pages"
   ]
  },
  {
   "cell_type": "code",
   "execution_count": null,
   "metadata": {
    "colab": {
     "base_uri": "https://localhost:8080/",
     "height": 128
    },
    "executionInfo": {
     "elapsed": 52,
     "status": "ok",
     "timestamp": 1756454895078,
     "user": {
      "displayName": "Yansha",
      "userId": "05921957491757551257"
     },
     "user_tz": -420
    },
    "id": "n2O2AzXb25d7",
    "outputId": "bc3c1bf8-1304-43a5-c515-8aa3ad092f22"
   },
   "outputs": [],
   "source": [
    "pages[0].page_content"
   ]
  },
  {
   "cell_type": "code",
   "execution_count": null,
   "metadata": {
    "colab": {
     "base_uri": "https://localhost:8080/"
    },
    "executionInfo": {
     "elapsed": 45,
     "status": "ok",
     "timestamp": 1756454901634,
     "user": {
      "displayName": "Yansha",
      "userId": "05921957491757551257"
     },
     "user_tz": -420
    },
    "id": "iij5ZCd43aJ2",
    "outputId": "0234dd14-33b7-4945-c899-8dc7a2c5a065"
   },
   "outputs": [],
   "source": [
    "len(pages)"
   ]
  },
  {
   "cell_type": "markdown",
   "metadata": {
    "id": "WkGKW3ky3eGV"
   },
   "source": [
    "# Chunk"
   ]
  },
  {
   "cell_type": "code",
   "execution_count": null,
   "metadata": {
    "colab": {
     "base_uri": "https://localhost:8080/"
    },
    "executionInfo": {
     "elapsed": 2881,
     "status": "ok",
     "timestamp": 1756454912475,
     "user": {
      "displayName": "Yansha",
      "userId": "05921957491757551257"
     },
     "user_tz": -420
    },
    "id": "nvjHxw-Y3sex",
    "outputId": "14001b97-c1b7-418d-a2e7-050e983f4b6b"
   },
   "outputs": [],
   "source": [
    "import nltk\n",
    "nltk.download('punkt_tab')"
   ]
  },
  {
   "cell_type": "markdown",
   "metadata": {
    "id": "SDj5KMeAkCRQ"
   },
   "source": [
    "Agar lebih terbanyang tentang penerapan chunk, kita akan uji coba terlebih dahulu dengan text sederhana."
   ]
  },
  {
   "cell_type": "code",
   "execution_count": null,
   "metadata": {
    "colab": {
     "base_uri": "https://localhost:8080/"
    },
    "executionInfo": {
     "elapsed": 42,
     "status": "ok",
     "timestamp": 1756454921924,
     "user": {
      "displayName": "Yansha",
      "userId": "05921957491757551257"
     },
     "user_tz": -420
    },
    "id": "cl8paJLC3yEf",
    "outputId": "a1774b2a-1393-4237-ba64-d783eae58b86"
   },
   "outputs": [],
   "source": [
    "# from langchain_text_splitters import NLTKTextSplitter\n",
    "from langchain_text_splitters import CharacterTextSplitter\n",
    "\n",
    "# Misalkan kamu memiliki dokumen seperti berikut\n",
    "simple_doc = \"\"\"halo nama sayaaaaaa sardi irfansyah, saya lahir di jakarta. Saya irfan. tinggal di Jakarta. saya senang belahjar math 123 456 789\"\"\"\n",
    "print('panjang total karakter:',len(simple_doc),'\\n')"
   ]
  },
  {
   "cell_type": "code",
   "execution_count": null,
   "metadata": {
    "id": "vGK7zT-030XV"
   },
   "outputs": [],
   "source": [
    "# Membuat objek NLTKTextSplitter dengan ukuran chunk dan overlap\n",
    "text_splitter = CharacterTextSplitter(separator= \" \", chunk_size=15, chunk_overlap=10) #default separator='\\n\\n'"
   ]
  },
  {
   "cell_type": "code",
   "execution_count": null,
   "metadata": {
    "colab": {
     "base_uri": "https://localhost:8080/"
    },
    "executionInfo": {
     "elapsed": 31,
     "status": "ok",
     "timestamp": 1756454939726,
     "user": {
      "displayName": "Yansha",
      "userId": "05921957491757551257"
     },
     "user_tz": -420
    },
    "id": "vtQ2xXhA32bo",
    "outputId": "5b845232-6566-4ca3-8de5-b18c921d6422"
   },
   "outputs": [],
   "source": [
    "# Memecah dokumen menjadi beberapa chunk\n",
    "chunks = text_splitter.split_text(simple_doc)\n",
    "print(chunks,'\\n')"
   ]
  },
  {
   "cell_type": "code",
   "execution_count": null,
   "metadata": {
    "colab": {
     "base_uri": "https://localhost:8080/"
    },
    "collapsed": true,
    "executionInfo": {
     "elapsed": 31,
     "status": "ok",
     "timestamp": 1756454952734,
     "user": {
      "displayName": "Yansha",
      "userId": "05921957491757551257"
     },
     "user_tz": -420
    },
    "id": "F7QtYx5135mQ",
    "outputId": "ee67da4c-0ab5-48cc-f365-421b621b19be"
   },
   "outputs": [],
   "source": [
    "# Menampilkan hasil chunk\n",
    "for i, chunk in enumerate(chunks):\n",
    "    #panjang karakter\n",
    "    print(f\"Panjang chunk {i+1}: {len(chunk)} karakter\")\n",
    "    print(f\"Chunk {i+1}:\")\n",
    "    print(chunk)\n",
    "    print(\"-\" * 50)"
   ]
  },
  {
   "cell_type": "markdown",
   "metadata": {
    "id": "JmP5jX-ukUKS"
   },
   "source": [
    "Penjelasan:\n",
    "- Dapat kita lihat bahwa `NLTKTextSplitter` akan mencoba membuat text tersebut dipisahkan berdasarkan kalimat atau tanda `titik`. Jadi setiap ada titik maka akan dibuat chunk.\n",
    "- Ketika panjang karakter lebih dari `chunk_size`, ini akan mengakibatkan peringatan warning.\n",
    "- `chunk_overlap` digunakan untuk menentukan jumlah karakter yang harus tumpang tindih antara chunk yang berdekatan.\n",
    "\n",
    "Jika anda ingin melihat ilustrasi tentang konfigurasi chunk, anda dapat melihatnya [di sini](https://dev.to/peterabel/what-chunk-size-and-chunk-overlap-should-you-use-4338)."
   ]
  },
  {
   "cell_type": "markdown",
   "metadata": {
    "id": "7VczgW8lsyDY"
   },
   "source": [
    "Selanjutnya kita akan coba terapkan proses pemisahan kalimat ke dokumen yang kita gunakan."
   ]
  },
  {
   "cell_type": "code",
   "execution_count": null,
   "metadata": {
    "colab": {
     "base_uri": "https://localhost:8080/"
    },
    "executionInfo": {
     "elapsed": 34,
     "status": "ok",
     "timestamp": 1756454973729,
     "user": {
      "displayName": "Yansha",
      "userId": "05921957491757551257"
     },
     "user_tz": -420
    },
    "id": "213C34UZ3dA3",
    "outputId": "676b7fbc-4d2f-48b7-eef5-c9128270e348"
   },
   "outputs": [],
   "source": [
    "from langchain_text_splitters import NLTKTextSplitter\n",
    "\n",
    "text_splitter = NLTKTextSplitter(chunk_size=500, chunk_overlap=100)\n",
    "\n",
    "chunks = text_splitter.split_documents(pages)\n",
    "\n",
    "print(len(chunks))\n",
    "\n",
    "print(type(chunks[0]))"
   ]
  },
  {
   "cell_type": "code",
   "execution_count": null,
   "metadata": {
    "colab": {
     "base_uri": "https://localhost:8080/"
    },
    "executionInfo": {
     "elapsed": 50,
     "status": "ok",
     "timestamp": 1756454981036,
     "user": {
      "displayName": "Yansha",
      "userId": "05921957491757551257"
     },
     "user_tz": -420
    },
    "id": "2fbVa5yqgdHA",
    "outputId": "e7c97d7a-709e-4976-c68d-2a084e49cb41"
   },
   "outputs": [],
   "source": [
    "# Mengecek hasil pemecahan menjadi chunk\n",
    "print(f\"Jumlah chunks yang dihasilkan: {len(chunks)}\")\n",
    "print(f\"Tipe data chunk pertama: {type(chunks[0])}\")"
   ]
  },
  {
   "cell_type": "code",
   "execution_count": null,
   "metadata": {
    "colab": {
     "base_uri": "https://localhost:8080/"
    },
    "executionInfo": {
     "elapsed": 39,
     "status": "ok",
     "timestamp": 1756454986756,
     "user": {
      "displayName": "Yansha",
      "userId": "05921957491757551257"
     },
     "user_tz": -420
    },
    "id": "3t2_k0m9t4_K",
    "outputId": "5996a7ef-2e4b-42f5-a72b-f69f9f64922b"
   },
   "outputs": [],
   "source": [
    "print(len('and the problem'))"
   ]
  },
  {
   "cell_type": "code",
   "execution_count": null,
   "metadata": {
    "colab": {
     "base_uri": "https://localhost:8080/"
    },
    "executionInfo": {
     "elapsed": 50,
     "status": "ok",
     "timestamp": 1756454992046,
     "user": {
      "displayName": "Yansha",
      "userId": "05921957491757551257"
     },
     "user_tz": -420
    },
    "id": "7uNGIF0ziJaX",
    "outputId": "9b8fe785-ba54-4660-9aaa-349fca3d6c39"
   },
   "outputs": [],
   "source": [
    "# Menampilkan chunk pertama\n",
    "# panjang chunk\n",
    "print(f\"Panjang chunk pertama: {len(chunks[0].page_content)} karakter\")\n",
    "print(\"\\nContoh chunk pertama:\")\n",
    "print(chunks[0].page_content)  # Memastikan bahwa setiap chunk memiliki konten"
   ]
  },
  {
   "cell_type": "markdown",
   "metadata": {
    "id": "3cCRgGgexjnc"
   },
   "source": [
    "# Embedding"
   ]
  },
  {
   "cell_type": "markdown",
   "metadata": {
    "id": "Sf2antgQ489n"
   },
   "source": [
    "Membuat Embedding setelah melakukan Chunking."
   ]
  },
  {
   "cell_type": "code",
   "execution_count": null,
   "metadata": {
    "id": "2XINgy-y3tnn"
   },
   "outputs": [],
   "source": [
    "from langchain_google_genai import GoogleGenerativeAIEmbeddings\n",
    "\n",
    "embedding_model = GoogleGenerativeAIEmbeddings(google_api_key=api_key, model=\"models/embedding-001\")"
   ]
  },
  {
   "cell_type": "markdown",
   "metadata": {
    "id": "0UMmS8_Rxocg"
   },
   "source": [
    "# Vector Databases"
   ]
  },
  {
   "cell_type": "markdown",
   "metadata": {
    "id": "BcSUClmC5HMU"
   },
   "source": [
    "Cek dokumentasi [vector store](https://python.langchain.com/docs/how_to/vectorstore_retriever/)."
   ]
  },
  {
   "cell_type": "code",
   "execution_count": null,
   "metadata": {
    "colab": {
     "base_uri": "https://localhost:8080/"
    },
    "executionInfo": {
     "elapsed": 1046,
     "status": "ok",
     "timestamp": 1756455007614,
     "user": {
      "displayName": "Yansha",
      "userId": "05921957491757551257"
     },
     "user_tz": -420
    },
    "id": "uQXMJt3V5Hn_",
    "outputId": "4be2dd83-21cc-4c5d-cb35-0b2a9f82c5cc"
   },
   "outputs": [],
   "source": [
    "from langchain_community.vectorstores import Chroma\n",
    "\n",
    "# Sematkan setiap chunk dan muat ke dalam chromadb\n",
    "db = Chroma.from_documents(chunks, embedding_model, persist_directory=\"./chroma_db_\")\n",
    "\n",
    "# Menyimpan perubahan ke disk\n",
    "db.persist()"
   ]
  },
  {
   "cell_type": "code",
   "execution_count": null,
   "metadata": {
    "colab": {
     "base_uri": "https://localhost:8080/"
    },
    "executionInfo": {
     "elapsed": 19,
     "status": "ok",
     "timestamp": 1756455016622,
     "user": {
      "displayName": "Yansha",
      "userId": "05921957491757551257"
     },
     "user_tz": -420
    },
    "id": "8jX0NFtX5ezK",
    "outputId": "37d214ef-1458-4a01-ef74-47b67897eb10"
   },
   "outputs": [],
   "source": [
    "# mengatur koneksi untuk menghubungkan ke ChromaDB\n",
    "db_connection = Chroma(persist_directory=\"./chroma_db_\", embedding_function=embedding_model)"
   ]
  },
  {
   "cell_type": "code",
   "execution_count": null,
   "metadata": {
    "colab": {
     "base_uri": "https://localhost:8080/"
    },
    "executionInfo": {
     "elapsed": 20,
     "status": "ok",
     "timestamp": 1756455025938,
     "user": {
      "displayName": "Yansha",
      "userId": "05921957491757551257"
     },
     "user_tz": -420
    },
    "id": "JjLBoS_0DWnj",
    "outputId": "ae58c4e2-14b9-4b6a-bef3-d6b5550c70ad"
   },
   "outputs": [],
   "source": [
    "# Mengonversi koneksi Chroma menjadi objek retriever untuk pencarian dokumen berbasis vektor\n",
    "# RAG --> retrieval augmented generation\n",
    "\n",
    "retriever = db_connection.as_retriever(search_kwargs={\"k\": 5})\n",
    "\n",
    "print(type(retriever))"
   ]
  },
  {
   "cell_type": "markdown",
   "metadata": {
    "id": "8JeHWwPTydZS"
   },
   "source": [
    "`k` adalah parameter yang digunakan dalam fungsi as_retriever() untuk menentukan jumlah hasil pencarian teratas (top-k) yang akan diambil dari basis data vektor (Chroma database).\n",
    "\n",
    "Parameter ini digunakan dalam proses pencarian dokumen relevan yang mengacu pada jumlah dokumen atau chunk yang akan diambil dari kumpulan dokumen yang lebih besar (misalnya, dari Chroma vector store) berdasarkan kesamaan atau kedekatannya dengan pertanyaan yang diajukan.\n",
    "\n",
    "> Nilai k umumnya lebih kecil dari total chunk.\n",
    "\n"
   ]
  },
  {
   "cell_type": "code",
   "execution_count": null,
   "metadata": {
    "colab": {
     "base_uri": "https://localhost:8080/"
    },
    "executionInfo": {
     "elapsed": 325,
     "status": "ok",
     "timestamp": 1756455034558,
     "user": {
      "displayName": "Yansha",
      "userId": "05921957491757551257"
     },
     "user_tz": -420
    },
    "id": "0xgjpoCEyTbh",
    "outputId": "a5b484fc-f2b7-47b0-8d5c-f24d959c3e70"
   },
   "outputs": [],
   "source": [
    "check_response = retriever.invoke(\"jelaskan sikll yang dibutuhkan untuk sertifikasi pearson vue dalam bidang AI?\")\n",
    "len(check_response)"
   ]
  },
  {
   "cell_type": "code",
   "execution_count": null,
   "metadata": {
    "colab": {
     "base_uri": "https://localhost:8080/",
     "height": 168
    },
    "executionInfo": {
     "elapsed": 30,
     "status": "ok",
     "timestamp": 1756455039570,
     "user": {
      "displayName": "Yansha",
      "userId": "05921957491757551257"
     },
     "user_tz": -420
    },
    "id": "vN-KIM46zhLA",
    "outputId": "7a452cc4-cb78-4677-b4b9-242ee4a8be7b"
   },
   "outputs": [],
   "source": [
    "md(check_response[0].page_content)"
   ]
  },
  {
   "cell_type": "markdown",
   "metadata": {
    "id": "ssrSfilNzV90"
   },
   "source": [
    "# Prompt"
   ]
  },
  {
   "cell_type": "markdown",
   "metadata": {
    "id": "yEXuR_L61Zgx"
   },
   "source": [
    "Dokumnetasi [Prompt templates](https://python.langchain.com/docs/concepts/prompt_templates/)."
   ]
  },
  {
   "cell_type": "code",
   "execution_count": null,
   "metadata": {
    "id": "0mXQhAqDDYqM"
   },
   "outputs": [],
   "source": [
    "from langchain_core.messages import SystemMessage\n",
    "from langchain_core.prompts import ChatPromptTemplate, HumanMessagePromptTemplate"
   ]
  },
  {
   "cell_type": "code",
   "execution_count": null,
   "metadata": {
    "id": "kcT1coZUDmsH"
   },
   "outputs": [],
   "source": [
    "# Membuat template pesan untuk sistem dan pesan pengguna\n",
    "chat_template = ChatPromptTemplate.from_messages([\n",
    "    # System Message Prompt Template\n",
    "    SystemMessage(content=\"\"\"Anda adalah AI yang dapat menjawab pertanyaan berdasarkan konteks dan pertanyaan dari user.\n",
    "                 Anda harus menjawab pertanyaan user, berdasarkan konteks. Jawab menggunakan bahasa dari pertanyaan user.\n",
    "                 Jika pertanyaan user dalam bahasa indonesia, jawab pakai bahasa indonesia, jika dalam english jawab english, jika bahasa spanyol, jawab dalam spanyol\"\"\"),\n",
    "\n",
    "    # Human Message Prompt Template\n",
    "    HumanMessagePromptTemplate.from_template(\"\"\"Jawab pertanyaan berikut berdasarkan konteks.\n",
    "    Jawab menggunakan bahasa dari pertanyaan user.\n",
    "    Jika pertanyaan user dalam bahasa indonesia, jawab pakai bahasa indonesia, jika dalam english jawab english, jika bahasa spanyol, jawab dalam spanyol\n",
    "    konteks: {context}\n",
    "    pertanyaan: {question}\n",
    "    jawaban: \"\"\")\n",
    "])"
   ]
  },
  {
   "cell_type": "code",
   "execution_count": null,
   "metadata": {
    "id": "nZVzOLvYDo1n"
   },
   "outputs": [],
   "source": [
    "from langchain_core.output_parsers import StrOutputParser\n",
    "\n",
    "output_parser = StrOutputParser()"
   ]
  },
  {
   "cell_type": "code",
   "execution_count": null,
   "metadata": {
    "id": "hHQpNgNt2cXI"
   },
   "outputs": [],
   "source": [
    "def format_docs(docs):\n",
    "    return \"\\n\\n\".join(doc.page_content for doc in docs)"
   ]
  },
  {
   "cell_type": "code",
   "execution_count": null,
   "metadata": {
    "colab": {
     "base_uri": "https://localhost:8080/"
    },
    "collapsed": true,
    "executionInfo": {
     "elapsed": 46,
     "status": "ok",
     "timestamp": 1756455069397,
     "user": {
      "displayName": "Yansha",
      "userId": "05921957491757551257"
     },
     "user_tz": -420
    },
    "id": "J9F_kjGxhoB0",
    "outputId": "aa94489f-fe14-45c3-d663-26ff0dea4618"
   },
   "outputs": [],
   "source": [
    "# Setelah dokumen diambil oleh retriever dan di-format\n",
    "formatted_docs = format_docs(chunks)  # Format dokumen yang dihasilkan dari text chunks\n",
    "\n",
    "# Cetak hasil format\n",
    "print(\"Hasil Format Docs:\")\n",
    "print(formatted_docs)  # Menampilkan hasil setelah dokumen diformat"
   ]
  },
  {
   "cell_type": "code",
   "execution_count": null,
   "metadata": {
    "id": "-vrZd5wuDqlV"
   },
   "outputs": [],
   "source": [
    "from langchain_core.runnables import RunnablePassthrough\n",
    "\n",
    "#LCEL\n",
    "\n",
    "rag_chain = (\n",
    "    {\"context\": retriever | format_docs, \"question\": RunnablePassthrough()}\n",
    "    | chat_template\n",
    "    | chat_model\n",
    "    | output_parser\n",
    ")"
   ]
  },
  {
   "cell_type": "code",
   "execution_count": null,
   "metadata": {
    "colab": {
     "base_uri": "https://localhost:8080/",
     "height": 55
    },
    "executionInfo": {
     "elapsed": 1865,
     "status": "ok",
     "timestamp": 1756455095043,
     "user": {
      "displayName": "Yansha",
      "userId": "05921957491757551257"
     },
     "user_tz": -420
    },
    "id": "JdJOGcTODs0U",
    "outputId": "b4281195-ccc7-490f-967e-48d1e0df6eb3"
   },
   "outputs": [],
   "source": [
    "response = rag_chain.invoke(\"\"\"beritahu saya pemahaman apa yang dibutuhkan untuk sertifikasi IT spesialis: AI dari pearson vue\"\"\")\n",
    "\n",
    "response"
   ]
  },
  {
   "cell_type": "code",
   "execution_count": null,
   "metadata": {
    "colab": {
     "base_uri": "https://localhost:8080/",
     "height": 64
    },
    "executionInfo": {
     "elapsed": 46,
     "status": "ok",
     "timestamp": 1756455100834,
     "user": {
      "displayName": "Yansha",
      "userId": "05921957491757551257"
     },
     "user_tz": -420
    },
    "id": "8Fxlr1hlD9Ij",
    "outputId": "aedaecb7-d66a-4189-8e35-d37535cac2b6"
   },
   "outputs": [],
   "source": [
    "md(response)"
   ]
  },
  {
   "cell_type": "code",
   "execution_count": null,
   "metadata": {
    "colab": {
     "base_uri": "https://localhost:8080/",
     "height": 544
    },
    "collapsed": true,
    "executionInfo": {
     "elapsed": 7278,
     "status": "ok",
     "timestamp": 1756455120030,
     "user": {
      "displayName": "Yansha",
      "userId": "05921957491757551257"
     },
     "user_tz": -420
    },
    "id": "iIi6ys9s4gqj",
    "outputId": "91207624-d838-4976-bacc-3ff37e7ce238"
   },
   "outputs": [],
   "source": [
    "response = rag_chain.invoke(\"\"\"jelaskan sikll yang dibutuhkan untuk sertifikasi pearson vue dalam bidang AI?\"\"\")\n",
    "md(response)"
   ]
  },
  {
   "cell_type": "code",
   "execution_count": null,
   "metadata": {
    "colab": {
     "base_uri": "https://localhost:8080/",
     "height": 46
    },
    "executionInfo": {
     "elapsed": 2040,
     "status": "ok",
     "timestamp": 1756455131497,
     "user": {
      "displayName": "Yansha",
      "userId": "05921957491757551257"
     },
     "user_tz": -420
    },
    "id": "TN86dd0g4knB",
    "outputId": "0d1afa4b-6080-4bf2-fef8-3088b1782edb"
   },
   "outputs": [],
   "source": [
    "response = rag_chain.invoke(\"\"\"is there any cost we must pay to do the exam test ?\"\"\")\n",
    "md(response)"
   ]
  },
  {
   "cell_type": "markdown",
   "metadata": {
    "id": "eq5k0hFWAiT8"
   },
   "source": [
    "# Contoh lain"
   ]
  },
  {
   "cell_type": "markdown",
   "metadata": {
    "id": "D3kQ307BTu0I"
   },
   "source": [
    "misalkan pada contoh ini kita akan mencoba menerapkan RAG\n",
    "dengan `RecursiveCharacterTextSplitter` dan `PromptTemplate`."
   ]
  },
  {
   "cell_type": "code",
   "execution_count": null,
   "metadata": {
    "colab": {
     "base_uri": "https://localhost:8080/"
    },
    "executionInfo": {
     "elapsed": 6284,
     "status": "ok",
     "timestamp": 1756455150899,
     "user": {
      "displayName": "Yansha",
      "userId": "05921957491757551257"
     },
     "user_tz": -420
    },
    "id": "LcDeiZVWD5jb",
    "outputId": "40ac9f27-b890-4be8-8cc1-4a6d5203b264"
   },
   "outputs": [],
   "source": [
    "# Instalasi dependensi yang dibutuhkan\n",
    "!pip install -q langchain PyPDF2 #python-dotenv"
   ]
  },
  {
   "cell_type": "code",
   "execution_count": null,
   "metadata": {
    "id": "vhPusQHlG4bo"
   },
   "outputs": [],
   "source": [
    "import os\n",
    "import io\n",
    "import PyPDF2\n",
    "from langchain.prompts import PromptTemplate\n",
    "from langchain.chains.question_answering import load_qa_chain\n",
    "from langchain.text_splitter import RecursiveCharacterTextSplitter\n",
    "from langchain.vectorstores import Chroma\n",
    "from langchain_google_genai import GoogleGenerativeAIEmbeddings, ChatGoogleGenerativeAI\n",
    "# from dotenv import load_dotenv\n",
    "from google.colab import files\n",
    "from IPython.display import Markdown as md"
   ]
  },
  {
   "cell_type": "code",
   "execution_count": null,
   "metadata": {
    "id": "isqpnm6MFhxZ"
   },
   "outputs": [],
   "source": [
    "# Membuka dan membaca file PDF\n",
    "with open('/content/ai_pv.pdf', \"rb\") as file:\n",
    "    pdf_reader = PyPDF2.PdfReader(file)\n",
    "    pdf_pages = pdf_reader.pages\n",
    "\n",
    "    # Mengekstrak teks dari semua halaman\n",
    "    context = \"\\n\\n\".join(page.extract_text() for page in pdf_pages)"
   ]
  },
  {
   "cell_type": "code",
   "execution_count": null,
   "metadata": {
    "colab": {
     "base_uri": "https://localhost:8080/",
     "height": 128
    },
    "executionInfo": {
     "elapsed": 52,
     "status": "ok",
     "timestamp": 1756455165341,
     "user": {
      "displayName": "Yansha",
      "userId": "05921957491757551257"
     },
     "user_tz": -420
    },
    "id": "XBwH3dVlFwm4",
    "outputId": "5e72bc6d-c9e2-4c45-f302-f869f4044b75"
   },
   "outputs": [],
   "source": [
    "context"
   ]
  },
  {
   "cell_type": "code",
   "execution_count": null,
   "metadata": {
    "id": "7cAZD_khF0B7"
   },
   "outputs": [],
   "source": [
    "# Memecah teks menjadi potongan-potongan kecil\n",
    "text_splitter = RecursiveCharacterTextSplitter(chunk_size=500, chunk_overlap=100)\n",
    "texts = text_splitter.split_text(context)"
   ]
  },
  {
   "cell_type": "code",
   "execution_count": null,
   "metadata": {
    "colab": {
     "base_uri": "https://localhost:8080/"
    },
    "executionInfo": {
     "elapsed": 42,
     "status": "ok",
     "timestamp": 1756455176591,
     "user": {
      "displayName": "Yansha",
      "userId": "05921957491757551257"
     },
     "user_tz": -420
    },
    "id": "nUyKhi6XOqGr",
    "outputId": "405c8f64-dd76-4e10-959b-c05036a76e6b"
   },
   "outputs": [],
   "source": [
    "print(len(texts))\n",
    "\n",
    "print(type(texts[0]))"
   ]
  },
  {
   "cell_type": "code",
   "execution_count": null,
   "metadata": {
    "colab": {
     "base_uri": "https://localhost:8080/",
     "height": 73
    },
    "executionInfo": {
     "elapsed": 10,
     "status": "ok",
     "timestamp": 1756455183525,
     "user": {
      "displayName": "Yansha",
      "userId": "05921957491757551257"
     },
     "user_tz": -420
    },
    "id": "yLxW6lKZPF1q",
    "outputId": "82006c35-bdf0-4d73-a443-0fb15813ac7d"
   },
   "outputs": [],
   "source": [
    "texts[0]"
   ]
  },
  {
   "cell_type": "code",
   "execution_count": null,
   "metadata": {
    "id": "Uf49bisNF4sr"
   },
   "outputs": [],
   "source": [
    "# Membuat embeddings untuk potongan-potongan teks\n",
    "embeddings = GoogleGenerativeAIEmbeddings(model=\"models/embedding-001\",google_api_key=api_key)\n",
    "\n",
    "vector_index = Chroma.from_texts(texts, embeddings).as_retriever(search_kwargs={\"k\": 20})"
   ]
  },
  {
   "cell_type": "code",
   "execution_count": null,
   "metadata": {
    "colab": {
     "base_uri": "https://localhost:8080/"
    },
    "executionInfo": {
     "elapsed": 47,
     "status": "ok",
     "timestamp": 1756455195755,
     "user": {
      "displayName": "Yansha",
      "userId": "05921957491757551257"
     },
     "user_tz": -420
    },
    "id": "X9iggyFOGH2k",
    "outputId": "0454695d-3365-4aae-fcd2-dd2594706cd2"
   },
   "outputs": [],
   "source": [
    "vector_index"
   ]
  },
  {
   "cell_type": "code",
   "execution_count": null,
   "metadata": {
    "colab": {
     "base_uri": "https://localhost:8080/"
    },
    "executionInfo": {
     "elapsed": 43,
     "status": "ok",
     "timestamp": 1756455196566,
     "user": {
      "displayName": "Yansha",
      "userId": "05921957491757551257"
     },
     "user_tz": -420
    },
    "id": "pNHWABJXQab4",
    "outputId": "6c748527-dad0-475f-8628-2f6561dd6247"
   },
   "outputs": [],
   "source": [
    "print(type(vector_index))"
   ]
  },
  {
   "cell_type": "code",
   "execution_count": null,
   "metadata": {
    "colab": {
     "base_uri": "https://localhost:8080/"
    },
    "executionInfo": {
     "elapsed": 13605,
     "status": "ok",
     "timestamp": 1756455215323,
     "user": {
      "displayName": "Yansha",
      "userId": "05921957491757551257"
     },
     "user_tz": -420
    },
    "id": "sKY_FqH8GLZc",
    "outputId": "bcb1b8ff-f57f-4aaa-c629-1aad2c506749"
   },
   "outputs": [],
   "source": [
    "# Mendapatkan pertanyaan dari pengguna\n",
    "user_question = input(\"Tanyakan pertanyaan: \")\n",
    "\n",
    "# Mendapatkan dokumen relevan untuk pertanyaan pengguna\n",
    "docs = vector_index.get_relevant_documents(user_question)"
   ]
  },
  {
   "cell_type": "code",
   "execution_count": null,
   "metadata": {
    "colab": {
     "base_uri": "https://localhost:8080/",
     "height": 777
    },
    "executionInfo": {
     "elapsed": 5088,
     "status": "ok",
     "timestamp": 1756455265812,
     "user": {
      "displayName": "Yansha",
      "userId": "05921957491757551257"
     },
     "user_tz": -420
    },
    "id": "XN8jNeFYGOKz",
    "outputId": "8e1a6440-0d76-4f3e-9d96-50d7f4bfd7ab"
   },
   "outputs": [],
   "source": [
    "# Mendefinisikan template prompt\n",
    "prompt_template = \"\"\"\n",
    "Jawablah pertanyaan ini dengan se-detail mungkin dari konteks yang diberikan,\n",
    "pastikan untuk memberikan semua detail, jika jawaban tidak ada dalam\n",
    "konteks yang diberikan cukup katakan, \"jawaban tidak tersedia dalam konteks\",\n",
    "jangan memberikan jawaban yang salah\\n\\n\n",
    "Konteks:\\n {context}?\\n\n",
    "Pertanyaan: \\n{question}\\n\n",
    "Jawaban:\n",
    "\"\"\"\n",
    "\n",
    "# Membuat prompt\n",
    "prompt = PromptTemplate(template=prompt_template, input_variables=['context', 'question'])\n",
    "\n",
    "# Memuat QA chain\n",
    "model = ChatGoogleGenerativeAI(model=\"gemini-1.5-flash-latest\", api_key=api_key)\n",
    "chain = load_qa_chain(model, chain_type=\"stuff\", prompt=prompt)\n",
    "\n",
    "# Mendapatkan jawaban dari model\n",
    "response = chain({\"input_documents\": docs, \"question\": user_question}, return_only_outputs=True)\n",
    "\n",
    "# Menampilkan jawaban\n",
    "print(\"\\nJawaban:\")\n",
    "md(response['output_text'])"
   ]
  }
 ],
 "metadata": {
  "accelerator": "GPU",
  "colab": {
   "gpuType": "T4",
   "provenance": [
    {
     "file_id": "1QGcfi3ocdDofXi0WINVDO1s9kD6cmz8t",
     "timestamp": 1756297759973
    }
   ]
  },
  "kernelspec": {
   "display_name": "Python 3",
   "name": "python3"
  },
  "language_info": {
   "name": "python"
  }
 },
 "nbformat": 4,
 "nbformat_minor": 0
}
