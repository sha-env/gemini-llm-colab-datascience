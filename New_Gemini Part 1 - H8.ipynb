{
 "cells": [
  {
   "cell_type": "markdown",
   "metadata": {
    "id": "V-BVS79yh9yj"
   },
   "source": [
    "# Instalasi"
   ]
  },
  {
   "cell_type": "markdown",
   "metadata": {
    "id": "qQRtZKdWhqHy"
   },
   "source": [
    "Sebelum memulai penggunakan Google Gemini, kita harus menginstalasi python package terlebih dahulu.\n",
    "\n",
    "Menggunakan `Python 3.9+` , instal google-genai paket menggunakan perintah pip berikut:"
   ]
  },
  {
   "cell_type": "code",
   "execution_count": null,
   "metadata": {
    "colab": {
     "base_uri": "https://localhost:8080/"
    },
    "executionInfo": {
     "elapsed": 8931,
     "status": "ok",
     "timestamp": 1755698422944,
     "user": {
      "displayName": "Yansha",
      "userId": "05921957491757551257"
     },
     "user_tz": -420
    },
    "id": "6BrEBv2ehkHP",
    "outputId": "89a1a55c-fcca-4bc7-d928-4566f829a615"
   },
   "outputs": [],
   "source": [
    "!pip install -q -U \"google-genai>=1.0.0\""
   ]
  },
  {
   "cell_type": "markdown",
   "metadata": {
    "id": "P7RGAmvhiOcd"
   },
   "source": [
    "Gunakan metode `generateContent` untuk mengirim permintaan ke API Gemini."
   ]
  },
  {
   "cell_type": "code",
   "execution_count": 20,
   "metadata": {
    "executionInfo": {
     "elapsed": 672,
     "status": "ok",
     "timestamp": 1755699492282,
     "user": {
      "displayName": "Yansha",
      "userId": "05921957491757551257"
     },
     "user_tz": -420
    },
    "id": "9BK95tc32CwE"
   },
   "outputs": [],
   "source": [
    "from google.colab import userdata\n",
    "API_KEY = userdata.get('GEMINI')"
   ]
  },
  {
   "cell_type": "code",
   "execution_count": null,
   "metadata": {
    "colab": {
     "base_uri": "https://localhost:8080/"
    },
    "executionInfo": {
     "elapsed": 17502,
     "status": "ok",
     "timestamp": 1755699511763,
     "user": {
      "displayName": "Yansha",
      "userId": "05921957491757551257"
     },
     "user_tz": -420
    },
    "id": "2PXO6RgeiYhM",
    "outputId": "5bc74a14-e975-4c87-9b21-d860b6420cf6"
   },
   "outputs": [],
   "source": [
    "from google import genai\n",
    "\n",
    "# masukan API key kalian\n",
    "client = genai.Client(api_key=API_KEY)\n",
    "\n",
    "MODEL_ID= 'gemini-2.5-flash'\n",
    "response= client.models.generate_content(\n",
    "  model=MODEL_ID,\n",
    "  contents=[\n",
    "    'Explain how AI works.',\n",
    "  ]\n",
    ")\n",
    "\n",
    "print(response.text)"
   ]
  },
  {
   "cell_type": "markdown",
   "metadata": {
    "id": "IeLYwnAui0J4"
   },
   "source": [
    "Agar tampilannya lebih rapi, kalian dapat menggunakan fungsi `Markdown`"
   ]
  },
  {
   "cell_type": "code",
   "execution_count": null,
   "metadata": {
    "colab": {
     "base_uri": "https://localhost:8080/",
     "height": 157
    },
    "executionInfo": {
     "elapsed": 28,
     "status": "ok",
     "timestamp": 1755699910580,
     "user": {
      "displayName": "Yansha",
      "userId": "05921957491757551257"
     },
     "user_tz": -420
    },
    "id": "cPfrd-aViyA-",
    "outputId": "c2693099-c594-4a7f-ab29-5f20cfdfa62b"
   },
   "outputs": [],
   "source": [
    "from IPython.display import Markdown\n",
    "\n",
    "Markdown(response.text)"
   ]
  },
  {
   "cell_type": "markdown",
   "metadata": {
    "id": "jx2bHlARjIpI"
   },
   "source": [
    "Untuk mengecek list model yang ada pada Gemini, kita bisa menggunakan perintah berikut"
   ]
  },
  {
   "cell_type": "code",
   "execution_count": null,
   "metadata": {
    "colab": {
     "base_uri": "https://localhost:8080/"
    },
    "executionInfo": {
     "elapsed": 1485,
     "status": "ok",
     "timestamp": 1755699466841,
     "user": {
      "displayName": "Yansha",
      "userId": "05921957491757551257"
     },
     "user_tz": -420
    },
    "id": "oAw0PrpAiy_E",
    "outputId": "e38f2225-6d70-474c-aa6b-0c76e1d133c2"
   },
   "outputs": [],
   "source": [
    "#cek list model dari gemini\n",
    "for m in client.models.list():\n",
    "  print(m.name)"
   ]
  },
  {
   "cell_type": "markdown",
   "metadata": {
    "id": "VXq79xvqnvfL"
   },
   "source": [
    "Secara default, model mengembalikan respons setelah menyelesaikan seluruh proses pembuatan teks. Anda dapat memperoleh interaksi yang lebih cepat dengan tidak menunggu seluruh hasil, dan sebagai gantinya menggunakan streaming untuk menangani hasil parsial.\n",
    "\n",
    "```python\n",
    "from google import genai\n",
    "\n",
    "client = genai.Client()\n",
    "response = client.models.generate_content_stream(\n",
    "    model=\"gemini-2.0-flash\", contents=\"Write a story about a magic backpack.\"\n",
    ")\n",
    "for chunk in response:\n",
    "    print(chunk.text)\n",
    "    print(\"_\" * 80)\n",
    "```"
   ]
  },
  {
   "cell_type": "code",
   "execution_count": null,
   "metadata": {
    "colab": {
     "base_uri": "https://localhost:8080/"
    },
    "executionInfo": {
     "elapsed": 16858,
     "status": "ok",
     "timestamp": 1755699600918,
     "user": {
      "displayName": "Yansha",
      "userId": "05921957491757551257"
     },
     "user_tz": -420
    },
    "id": "45ho_41E55U5",
    "outputId": "ab97f72c-f490-4b2e-bdf9-e4b63da32fc4"
   },
   "outputs": [],
   "source": [
    "response = client.models.generate_content_stream(\n",
    "    model=\"gemini-2.5-flash\", contents=\"Write a story about a magic backpack.\"\n",
    ")\n",
    "for chunk in response:\n",
    "    print(chunk.text)\n",
    "    print(\"_\" * 80)"
   ]
  },
  {
   "cell_type": "markdown",
   "metadata": {
    "id": "dAwdmDnzleeZ"
   },
   "source": [
    "# Generate text from text-and-image input"
   ]
  },
  {
   "cell_type": "markdown",
   "metadata": {
    "id": "DbWpQdEIlkCa"
   },
   "source": [
    "Kita akan menggunkan PIL untuk membaca gambar kemudian menambahkan prompt untuk menghasilkan text."
   ]
  },
  {
   "cell_type": "code",
   "execution_count": null,
   "metadata": {
    "colab": {
     "base_uri": "https://localhost:8080/"
    },
    "executionInfo": {
     "elapsed": 494,
     "status": "ok",
     "timestamp": 1755699850443,
     "user": {
      "displayName": "Yansha",
      "userId": "05921957491757551257"
     },
     "user_tz": -420
    },
    "id": "i2x1gsc3mBfi",
    "outputId": "124e82ab-a264-4b09-e3b9-3a2f1676b3a2"
   },
   "outputs": [],
   "source": [
    "!curl -o salon_price_list.jpg https://marketplace.canva.com/EAFhLHB9S8g/1/0/900w/canva-pink-putih-minimalist-salon-price-list-28N6AZMRZKI.jpg"
   ]
  },
  {
   "cell_type": "code",
   "execution_count": null,
   "metadata": {
    "colab": {
     "base_uri": "https://localhost:8080/",
     "height": 1000
    },
    "executionInfo": {
     "elapsed": 2276,
     "status": "ok",
     "timestamp": 1755700326644,
     "user": {
      "displayName": "Yansha",
      "userId": "05921957491757551257"
     },
     "user_tz": -420
    },
    "id": "8QvRbqPg5Nay",
    "outputId": "374c5c47-e96a-4c23-d91c-f2f727ccfb1a"
   },
   "outputs": [],
   "source": [
    "img"
   ]
  },
  {
   "cell_type": "code",
   "execution_count": null,
   "metadata": {
    "colab": {
     "base_uri": "https://localhost:8080/",
     "height": 483
    },
    "executionInfo": {
     "elapsed": 5376,
     "status": "ok",
     "timestamp": 1755699923961,
     "user": {
      "displayName": "Yansha",
      "userId": "05921957491757551257"
     },
     "user_tz": -420
    },
    "id": "jPBoG2F4kRnc",
    "outputId": "59d1d011-ecce-4e41-9e22-9316fe4ac153"
   },
   "outputs": [],
   "source": [
    "import PIL\n",
    "\n",
    "\n",
    "img = PIL.Image.open(\"salon_price_list.jpg\")\n",
    "prompt= '' # tanpa prompt\n",
    "model_id='gemini-2.5-flash'\n",
    "response = client.models.generate_content(\n",
    "    model=model_id,\n",
    "    contents=[img, prompt]\n",
    ")\n",
    "\n",
    "Markdown(response.text)"
   ]
  },
  {
   "cell_type": "code",
   "execution_count": null,
   "metadata": {
    "colab": {
     "base_uri": "https://localhost:8080/",
     "height": 653
    },
    "executionInfo": {
     "elapsed": 5596,
     "status": "ok",
     "timestamp": 1755700001578,
     "user": {
      "displayName": "Yansha",
      "userId": "05921957491757551257"
     },
     "user_tz": -420
    },
    "id": "SlUCVGjRmKMP",
    "outputId": "783026ea-d713-4891-a672-ba4276bc18a8"
   },
   "outputs": [],
   "source": [
    "prompt= 'buatlah table dari response tersebut' # dengan prompt\n",
    "response = client.models.generate_content(\n",
    "  model=model_id,\n",
    "  contents=[img, prompt]\n",
    ")\n",
    "\n",
    "Markdown(response.text)"
   ]
  },
  {
   "cell_type": "code",
   "execution_count": null,
   "metadata": {
    "colab": {
     "base_uri": "https://localhost:8080/",
     "height": 1000
    },
    "executionInfo": {
     "elapsed": 20227,
     "status": "ok",
     "timestamp": 1755700236475,
     "user": {
      "displayName": "Yansha",
      "userId": "05921957491757551257"
     },
     "user_tz": -420
    },
    "id": "qXngUFC3C1MS",
    "outputId": "3a0f7f75-4415-4878-e659-e8089e09210a"
   },
   "outputs": [],
   "source": [
    "prompt= '''buatlah tabel dari response tersebut,\n",
    "buatlah code python untuk membuat dataframe dari tabel tersebut'''\n",
    "response = client.models.generate_content(\n",
    "  model=model_id,\n",
    "  contents=[img, prompt]\n",
    ")\n",
    "\n",
    "Markdown(response.text)"
   ]
  },
  {
   "cell_type": "markdown",
   "metadata": {
    "id": "p-6gRHabpWNs"
   },
   "source": [
    "Untuk mempelajari lebih detail berkaitan dengan pengolahan Image dengan Gemini, Anda dapat melihat pada referensi berikut:\n",
    "- [Explore vision capabilities with the Gemini API](https://ai.google.dev/gemini-api/docs/vision?lang=python)"
   ]
  },
  {
   "cell_type": "markdown",
   "metadata": {
    "id": "STpbVFZOqJ3o"
   },
   "source": [
    "# Document Understanding"
   ]
  },
  {
   "cell_type": "markdown",
   "metadata": {
    "id": "XykeFZUpqMgF"
   },
   "source": [
    "Google Gemini juga dapat kita gunakan untuk mengelolah file atau dokumen dalam berbagai macam format, misalkan format pdf.\n",
    "\n",
    "Untuk mempelajari lebih detail berkaitan dengan pengolahan Dokumen dengan Gemini, Anda dapat melihat pada referensi berikut:\n",
    "- [Explore document processing capabilities with the Gemini API](https://ai.google.dev/gemini-api/docs/document-processing?hl=id&lang=python)"
   ]
  },
  {
   "cell_type": "code",
   "execution_count": null,
   "metadata": {
    "colab": {
     "base_uri": "https://localhost:8080/"
    },
    "executionInfo": {
     "elapsed": 5435,
     "status": "ok",
     "timestamp": 1755700671129,
     "user": {
      "displayName": "Yansha",
      "userId": "05921957491757551257"
     },
     "user_tz": -420
    },
    "id": "uz3vucsuqaIV",
    "outputId": "0e1769be-91f6-43d4-85c5-4c295edbb373"
   },
   "outputs": [],
   "source": [
    "from google.genai import types\n",
    "import httpx\n",
    "import base64\n",
    "\n",
    "doc_url = \"https://discovery.ucl.ac.uk/id/eprint/10089234/1/343019_3_art_0_py4t4l_convrt.pdf\"  # Replace with the actual URL of your PDF\n",
    "\n",
    "# Retrieve and encode the PDF\n",
    "doc_data = httpx.get(doc_url).content\n",
    "\n",
    "prompt = \"Summarize this document\"\n",
    "response = client.models.generate_content(\n",
    "  model=\"gemini-2.5-flash\",\n",
    "  contents=[\n",
    "      types.Part.from_bytes(\n",
    "        data=doc_data,\n",
    "        mime_type='application/pdf',\n",
    "      ),\n",
    "      prompt])\n",
    "print(response.text)\n"
   ]
  },
  {
   "cell_type": "markdown",
   "metadata": {
    "id": "DUx2CaQmrCEL"
   },
   "source": [
    "# Audio Understanding"
   ]
  },
  {
   "cell_type": "markdown",
   "metadata": {
    "id": "V15LdvCirEL2"
   },
   "source": [
    "Google Gemini juga dapat kita gunakan untuk mengelolah Audio dalam berbagai macam format, misalkan format MP3,WAV dan format lainnya. Berikut adalah contoh codenya:\n",
    "\n",
    "```python\n",
    "your_audio_file = client.files.upload(file='sample.mp3')\n",
    "response = client.models.generate_content(\n",
    "  model=MODEL_ID,\n",
    "  contents=[\n",
    "    'Describe this audio clip.',\n",
    "    your_audio_file,\n",
    "  ]\n",
    ")\n",
    "\n",
    "print(response.text)\n",
    "```\n",
    "\n",
    "Untuk mempelajari lebih detail berkaitan dengan pengolahan Audio dengan Gemini, Anda dapat melihat pada referensi berikut:\n",
    "- [Explore audio capabilities with the Gemini API](https://ai.google.dev/gemini-api/docs/audio?lang=python)"
   ]
  },
  {
   "cell_type": "code",
   "execution_count": 32,
   "metadata": {
    "executionInfo": {
     "elapsed": 3512,
     "status": "ok",
     "timestamp": 1755700708501,
     "user": {
      "displayName": "Yansha",
      "userId": "05921957491757551257"
     },
     "user_tz": -420
    },
    "id": "vjTLZ7nM8j2v"
   },
   "outputs": [],
   "source": [
    "URL = \"https://storage.googleapis.com/generativeai-downloads/data/State_of_the_Union_Address_30_January_1961.mp3\"\n",
    "!wget -q $URL -O sample.mp3"
   ]
  },
  {
   "cell_type": "code",
   "execution_count": null,
   "metadata": {
    "colab": {
     "base_uri": "https://localhost:8080/"
    },
    "executionInfo": {
     "elapsed": 4366,
     "status": "ok",
     "timestamp": 1755700722061,
     "user": {
      "displayName": "Yansha",
      "userId": "05921957491757551257"
     },
     "user_tz": -420
    },
    "id": "bxTc-A9W87EU",
    "outputId": "a6349cc5-9f6b-4f46-c887-168a2246a137"
   },
   "outputs": [],
   "source": [
    "your_audio_file= client.files.upload(file='sample.mp3')\n",
    "your_audio_file"
   ]
  },
  {
   "cell_type": "code",
   "execution_count": null,
   "metadata": {
    "colab": {
     "background_save": true,
     "base_uri": "https://localhost:8080/"
    },
    "executionInfo": {
     "elapsed": 23123,
     "status": "ok",
     "timestamp": 1750737151000,
     "user": {
      "displayName": "Sardi Irfansyah",
      "userId": "12642105089008583998"
     },
     "user_tz": -420
    },
    "id": "RtxrSU7UEDfI"
   },
   "outputs": [],
   "source": [
    "response = client.models.generate_content(\n",
    "  model=model_id,\n",
    "  contents=[\n",
    "    'Listen carefully to the following audio file. Provide a brief summary.',\n",
    "    your_audio_file,\n",
    "  ]\n",
    ")\n",
    "\n",
    "print(response.text)"
   ]
  },
  {
   "cell_type": "markdown",
   "metadata": {
    "id": "BSVt51SrspCv"
   },
   "source": [
    "# Chat Conversation"
   ]
  },
  {
   "cell_type": "markdown",
   "metadata": {
    "id": "kBMiaHIqtRL8"
   },
   "source": [
    "Gemini SDK memungkinkan Anda mengumpulkan beberapa putaran pertanyaan dan respons, yang memungkinkan pengguna untuk melangkah secara bertahap menuju jawaban atau mendapatkan bantuan untuk masalah yang terdiri dari beberapa bagian. Fitur SDK ini menyediakan antarmuka untuk melacak **riwayat percakapan**, tetapi di balik layar menggunakan metode `generateContent`."
   ]
  },
  {
   "cell_type": "code",
   "execution_count": null,
   "metadata": {
    "colab": {
     "background_save": true,
     "base_uri": "https://localhost:8080/",
     "height": 46
    },
    "executionInfo": {
     "elapsed": 6859,
     "status": "ok",
     "timestamp": 1750737601007,
     "user": {
      "displayName": "Sardi Irfansyah",
      "userId": "12642105089008583998"
     },
     "user_tz": -420
    },
    "id": "heIkReKLFjq0"
   },
   "outputs": [
    {
     "data": {
      "text/markdown": [
       "Komputer itu seperti otak pintar yang sangat cepat; ia menerima apa yang kamu suruh (misalnya, klik atau ketik), memikirkannya, lalu menunjukkan hasilnya padamu di layar."
      ],
      "text/plain": [
       "<IPython.core.display.Markdown object>"
      ]
     },
     "execution_count": 36,
     "metadata": {},
     "output_type": "execute_result"
    }
   ],
   "source": [
    "chat = client.chats.create(model=\"gemini-2.5-flash\")\n",
    "\n",
    "response = chat.send_message(\"Dalam satu kalimat, jelaskan cara kerja komputer kepada anak kecil.\")\n",
    "Markdown(response.text)"
   ]
  },
  {
   "cell_type": "code",
   "execution_count": null,
   "metadata": {
    "colab": {
     "base_uri": "https://localhost:8080/",
     "height": 731
    },
    "executionInfo": {
     "elapsed": 12177,
     "status": "ok",
     "timestamp": 1750737617102,
     "user": {
      "displayName": "Sardi Irfansyah",
      "userId": "12642105089008583998"
     },
     "user_tz": -420
    },
    "id": "0rxdebQ5tyDx",
    "outputId": "666d8eee-a182-4bcd-85ec-50ce7a82c009"
   },
   "outputs": [],
   "source": [
    "response = chat.send_message(\"Jelaskan cara membuat otomatisasi email\")\n",
    "Markdown(response.text)"
   ]
  },
  {
   "cell_type": "markdown",
   "metadata": {
    "id": "d13oYxAMuFal"
   },
   "source": [
    "Kita dapat mengecek history atau riwayat chat dengan perintah berikut."
   ]
  },
  {
   "cell_type": "code",
   "execution_count": null,
   "metadata": {
    "colab": {
     "background_save": true,
     "base_uri": "https://localhost:8080/"
    },
    "executionInfo": {
     "elapsed": 12,
     "status": "ok",
     "timestamp": 1750737657427,
     "user": {
      "displayName": "Sardi Irfansyah",
      "userId": "12642105089008583998"
     },
     "user_tz": -420
    },
    "id": "MQ1lhT5Ht1h8"
   },
   "outputs": [],
   "source": [
    "for message in chat.get_history():\n",
    "    print(f'role - {message.role}',end=\": \")\n",
    "    print(message.parts[0].text)"
   ]
  },
  {
   "cell_type": "markdown",
   "metadata": {
    "id": "LQ1JciiYH3FD"
   },
   "source": [
    "# Generate Images"
   ]
  },
  {
   "cell_type": "markdown",
   "metadata": {
    "id": "RWr3MMKkI5hO"
   },
   "source": [
    "Pastikan Anda menggunakan model dan versi yang didukung untuk pembuatan gambar:\n",
    "\n",
    "- Untuk **Gemini**, gunakan Pembuatan Gambar Pratinjau Flash Gemini 2.0.\n",
    "- Untuk **Imagen**, gunakan Imagen 3. Perhatikan bahwa model ini hanya tersedia di Paket berbayar.\n",
    "\n"
   ]
  },
  {
   "cell_type": "markdown",
   "metadata": {
    "id": "1OMuxYkPJBIa"
   },
   "source": [
    "Lebih detailnya Anda dapat lihat pada referensi berikut:\n",
    "[Generate Images](https://ai.google.dev/gemini-api/docs/image-generation?hl=id)"
   ]
  },
  {
   "cell_type": "code",
   "execution_count": null,
   "metadata": {
    "colab": {
     "background_save": true,
     "base_uri": "https://localhost:8080/",
     "height": 1000
    },
    "executionInfo": {
     "elapsed": 4912,
     "status": "ok",
     "timestamp": 1750738143606,
     "user": {
      "displayName": "Sardi Irfansyah",
      "userId": "12642105089008583998"
     },
     "user_tz": -420
    },
    "id": "VtMMrjZbH343"
   },
   "outputs": [],
   "source": [
    "from IPython.display import Image, Markdown\n",
    "\n",
    "response = client.models.generate_content(\n",
    "    model=\"gemini-2.0-flash-preview-image-generation\",\n",
    "    contents='Hi, can create a 3d rendered image of a cat with wings and a top hat flying over a happy futuristic scifi city with lots of greenery?',\n",
    "    config=types.GenerateContentConfig(\n",
    "        response_modalities=['Text', 'Image']\n",
    "    )\n",
    ")\n",
    "\n",
    "for part in response.candidates[0].content.parts:\n",
    "  if part.text is not None:\n",
    "    display(Markdown(part.text))\n",
    "  elif part.inline_data is not None:\n",
    "    mime = part.inline_data.mime_type\n",
    "    print(mime)\n",
    "    data = part.inline_data.data\n",
    "    display(Image(data=data))"
   ]
  }
 ],
 "metadata": {
  "accelerator": "GPU",
  "colab": {
   "gpuType": "T4",
   "name": "",
   "provenance": [
    {
     "file_id": "1JE3Tuv86wfyetNpN4QZL61Bb6z7ghVfN",
     "timestamp": 1755698068626
    },
    {
     "file_id": "1_bFz4PRlgiNhcoIrpuaR3ynnWuQ8YKVq",
     "timestamp": 1750735693771
    }
   ],
   "version": ""
  },
  "kernelspec": {
   "display_name": "Python 3",
   "name": "python3"
  },
  "language_info": {
   "name": "python"
  }
 },
 "nbformat": 4,
 "nbformat_minor": 0
}
