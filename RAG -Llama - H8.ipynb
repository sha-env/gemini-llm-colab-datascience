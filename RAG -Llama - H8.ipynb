{
 "cells": [
  {
   "cell_type": "code",
   "execution_count": null,
   "metadata": {
    "colab": {
     "base_uri": "https://localhost:8080/"
    },
    "executionInfo": {
     "elapsed": 21108,
     "status": "ok",
     "timestamp": 1756304136852,
     "user": {
      "displayName": "Yansha",
      "userId": "05921957491757551257"
     },
     "user_tz": -420
    },
    "id": "WjN4TrDdXqBw",
    "outputId": "e54b4bd0-382c-466d-f06d-5a4a5bc3518f"
   },
   "outputs": [],
   "source": [
    "!pip install -qU langchain-community faiss-cpu langchain-google-genai PyMuPDF langchain-groq langgraph"
   ]
  },
  {
   "cell_type": "markdown",
   "metadata": {
    "id": "fJm1svW1X0DH"
   },
   "source": [
    "# Vector Database with Faiss"
   ]
  },
  {
   "cell_type": "code",
   "execution_count": 31,
   "metadata": {
    "executionInfo": {
     "elapsed": 603,
     "status": "ok",
     "timestamp": 1756305558583,
     "user": {
      "displayName": "Yansha",
      "userId": "05921957491757551257"
     },
     "user_tz": -420
    },
    "id": "tVIssyKp4zV4"
   },
   "outputs": [],
   "source": [
    "from google.colab import userdata\n",
    "GEMINI = userdata.get('GEMINI')"
   ]
  },
  {
   "cell_type": "code",
   "execution_count": 32,
   "metadata": {
    "executionInfo": {
     "elapsed": 26,
     "status": "ok",
     "timestamp": 1756305559196,
     "user": {
      "displayName": "Yansha",
      "userId": "05921957491757551257"
     },
     "user_tz": -420
    },
    "id": "DHrXY1NHQAiI"
   },
   "outputs": [],
   "source": [
    "from langchain_google_genai import GoogleGenerativeAIEmbeddings\n",
    "import os\n",
    "\n",
    "os.environ[\"GOOGLE_API_KEY\"] = GEMINI\n",
    "\n",
    "embeddings = GoogleGenerativeAIEmbeddings(model=\"models/text-embedding-004\")"
   ]
  },
  {
   "cell_type": "code",
   "execution_count": 33,
   "metadata": {
    "executionInfo": {
     "elapsed": 1407,
     "status": "ok",
     "timestamp": 1756305561949,
     "user": {
      "displayName": "Yansha",
      "userId": "05921957491757551257"
     },
     "user_tz": -420
    },
    "id": "LEEh80NMX4bf"
   },
   "outputs": [],
   "source": [
    "import faiss\n",
    "from langchain_community.docstore.in_memory import InMemoryDocstore\n",
    "from langchain_community.vectorstores import FAISS\n",
    "\n",
    "index = faiss.IndexFlatL2(len(embeddings.embed_query(\"hello world\"))) #untuk mendapatkan length vectornya\n",
    "\n",
    "# initiate Faiss VectorDB\n",
    "vector_store = FAISS(\n",
    "    embedding_function=embeddings,\n",
    "    index=index,\n",
    "    docstore=InMemoryDocstore(),\n",
    "    index_to_docstore_id={},\n",
    ")"
   ]
  },
  {
   "cell_type": "code",
   "execution_count": null,
   "metadata": {
    "colab": {
     "base_uri": "https://localhost:8080/"
    },
    "executionInfo": {
     "elapsed": 526,
     "status": "ok",
     "timestamp": 1756305564363,
     "user": {
      "displayName": "Yansha",
      "userId": "05921957491757551257"
     },
     "user_tz": -420
    },
    "id": "GWGb06gAYLBm",
    "outputId": "7dbe30af-cba5-4fae-9181-2ab5de617cae"
   },
   "outputs": [],
   "source": [
    "# store document to the vector database\n",
    "\n",
    "from uuid import uuid4\n",
    "\n",
    "from langchain_core.documents import Document\n",
    "\n",
    "document_1 = Document(\n",
    "    page_content=\"I had chocalate chip pancakes and scrambled eggs for breakfast this morning.\",\n",
    "    metadata={\"source\": \"tweet\"},\n",
    ")\n",
    "\n",
    "document_2 = Document(\n",
    "    page_content=\"The weather forecast for tomorrow is cloudy and overcast, with a high of 62 degrees.\",\n",
    "    metadata={\"source\": \"news\"},\n",
    ")\n",
    "\n",
    "document_3 = Document(\n",
    "    page_content=\"Building an exciting new project with LangChain - come check it out!\",\n",
    "    metadata={\"source\": \"tweet\"},\n",
    ")\n",
    "\n",
    "document_4 = Document(\n",
    "    page_content=\"Robbers broke into the city bank and stole $1 million in cash.\",\n",
    "    metadata={\"source\": \"news\"},\n",
    ")\n",
    "\n",
    "document_5 = Document(\n",
    "    page_content=\"Wow! That was an amazing movie. I can't wait to see it again.\",\n",
    "    metadata={\"source\": \"tweet\"},\n",
    ")\n",
    "\n",
    "document_6 = Document(\n",
    "    page_content=\"Is the new iPhone worth the price? Read this review to find out.\",\n",
    "    metadata={\"source\": \"website\"},\n",
    ")\n",
    "\n",
    "document_7 = Document(\n",
    "    page_content=\"The top 10 soccer players in the world right now.\",\n",
    "    metadata={\"source\": \"website\"},\n",
    ")\n",
    "\n",
    "document_8 = Document(\n",
    "    page_content=\"LangGraph is the best framework for building stateful, agentic applications!\",\n",
    "    metadata={\"source\": \"tweet\"},\n",
    ")\n",
    "\n",
    "document_9 = Document(\n",
    "    page_content=\"The stock market is down 500 points today due to fears of a recession.\",\n",
    "    metadata={\"source\": \"news\"},\n",
    ")\n",
    "\n",
    "document_10 = Document(\n",
    "    page_content=\"I have a bad feeling I am going to get deleted :(\",\n",
    "    metadata={\"source\": \"tweet\"},\n",
    ")\n",
    "\n",
    "documents = [\n",
    "    document_1,\n",
    "    document_2,\n",
    "    document_3,\n",
    "    document_4,\n",
    "    document_5,\n",
    "    document_6,\n",
    "    document_7,\n",
    "    document_8,\n",
    "    document_9,\n",
    "    document_10,\n",
    "]\n",
    "uuids = [str(uuid4()) for _ in range(len(documents))]\n",
    "\n",
    "vector_store.add_documents(documents=documents, ids=uuids)"
   ]
  },
  {
   "cell_type": "markdown",
   "metadata": {
    "id": "xzEWf64mbmuD"
   },
   "source": [
    "## Melakukan pencarian di FaissDB\n",
    "\n",
    "Operator yang didukung untuk melakukan filtering adalah sebagai berikut:\n",
    "\n",
    "- $eq (equals)\n",
    "\n",
    "- $neq (not equals)\n",
    "\n",
    "- $gt (greater than)\n",
    "\n",
    "- $lt (less than)\n",
    "\n",
    "- $gte (greater than or equal)\n",
    "\n",
    "- $lte (less than or equal)\n",
    "\n",
    "- $in (membership in list)\n",
    "\n",
    "- $nin (not in list)\n",
    "\n",
    "- $and (all conditions must match)\n",
    "\n",
    "- $or (any condition must match)\n",
    "\n",
    "- $not (negation of condition)"
   ]
  },
  {
   "cell_type": "code",
   "execution_count": null,
   "metadata": {
    "colab": {
     "base_uri": "https://localhost:8080/"
    },
    "executionInfo": {
     "elapsed": 395,
     "status": "ok",
     "timestamp": 1756305567619,
     "user": {
      "displayName": "Yansha",
      "userId": "05921957491757551257"
     },
     "user_tz": -420
    },
    "id": "o7SQg0w-by2h",
    "outputId": "43749067-e1be-49f9-8464-2c00b8691422"
   },
   "outputs": [],
   "source": [
    "results = vector_store.similarity_search(\n",
    "    \"LangChain provides abstractions to make working with LLMs easy\",\n",
    "    k=2,\n",
    "    filter={\"source\": {\"$eq\": \"tweet\"}},\n",
    ")\n",
    "for res in results:\n",
    "    print(f\"* {res.page_content} [{res.metadata}]\")"
   ]
  },
  {
   "cell_type": "code",
   "execution_count": null,
   "metadata": {
    "colab": {
     "base_uri": "https://localhost:8080/"
    },
    "executionInfo": {
     "elapsed": 410,
     "status": "ok",
     "timestamp": 1756305568756,
     "user": {
      "displayName": "Yansha",
      "userId": "05921957491757551257"
     },
     "user_tz": -420
    },
    "id": "IawzHExwbzoA",
    "outputId": "d3dc342e-81d2-49c1-9194-c99bc3eabd8e"
   },
   "outputs": [],
   "source": [
    "results = vector_store.similarity_search(\n",
    "    \"The new iPhone\",\n",
    "    k=2,\n",
    ")\n",
    "for res in results:\n",
    "    print(f\"* {res.page_content} [{res.metadata}]\")"
   ]
  },
  {
   "cell_type": "markdown",
   "metadata": {
    "id": "dnLUB4xRcWxa"
   },
   "source": [
    "## Save the DB\n"
   ]
  },
  {
   "cell_type": "code",
   "execution_count": 37,
   "metadata": {
    "executionInfo": {
     "elapsed": 15,
     "status": "ok",
     "timestamp": 1756305570071,
     "user": {
      "displayName": "Yansha",
      "userId": "05921957491757551257"
     },
     "user_tz": -420
    },
    "id": "W6LPoa8EccVq"
   },
   "outputs": [],
   "source": [
    "vector_store.save_local(\"faiss_index\")"
   ]
  },
  {
   "cell_type": "markdown",
   "metadata": {
    "id": "51tw49oXcgfQ"
   },
   "source": [
    "## Load the DB"
   ]
  },
  {
   "cell_type": "code",
   "execution_count": 38,
   "metadata": {
    "executionInfo": {
     "elapsed": 377,
     "status": "ok",
     "timestamp": 1756305571561,
     "user": {
      "displayName": "Yansha",
      "userId": "05921957491757551257"
     },
     "user_tz": -420
    },
    "id": "Pb19I6uAcf5N"
   },
   "outputs": [],
   "source": [
    "new_vector_store = FAISS.load_local(\n",
    "    \"faiss_index\", embeddings, allow_dangerous_deserialization=True\n",
    ")\n",
    "\n",
    "docs = new_vector_store.similarity_search(\"qux\")"
   ]
  },
  {
   "cell_type": "code",
   "execution_count": null,
   "metadata": {
    "colab": {
     "base_uri": "https://localhost:8080/"
    },
    "executionInfo": {
     "elapsed": 52,
     "status": "ok",
     "timestamp": 1756305572235,
     "user": {
      "displayName": "Yansha",
      "userId": "05921957491757551257"
     },
     "user_tz": -420
    },
    "id": "y0nb6Y97cug1",
    "outputId": "6bbeebef-660f-4b91-ca54-fe4a8e761a5a"
   },
   "outputs": [],
   "source": [
    "for res in docs:\n",
    "    print(f\"* {res.page_content} [{res.metadata}]\")"
   ]
  },
  {
   "cell_type": "markdown",
   "metadata": {
    "id": "-J5wRk0oc4eL"
   },
   "source": [
    "# RAG dengan LangChain"
   ]
  },
  {
   "cell_type": "code",
   "execution_count": 40,
   "metadata": {
    "executionInfo": {
     "elapsed": 27,
     "status": "ok",
     "timestamp": 1756305573197,
     "user": {
      "displayName": "Yansha",
      "userId": "05921957491757551257"
     },
     "user_tz": -420
    },
    "id": "Zoziix8UeP-J"
   },
   "outputs": [],
   "source": [
    "from langchain.text_splitter import CharacterTextSplitter\n",
    "from langchain_core.documents import Document\n",
    "import fitz\n"
   ]
  },
  {
   "cell_type": "markdown",
   "metadata": {
    "id": "LO_U41Zgf2A3"
   },
   "source": [
    "### Langkah 1: Extract document dan chunk dokumen\n",
    "Chunk ini dilakukan untuk mengubah dokumen yang panjang menjadi bagian bagian kecil sehingga text yang diterima LLM lebih sedikit. Tujuannya adalah karena adanya batasan token yang diberikan oleh LLM, selain itu semakin panjang text yang diterima oleh LLM semakin lama pula respons yang diberikan oleh LLM."
   ]
  },
  {
   "cell_type": "code",
   "execution_count": 41,
   "metadata": {
    "executionInfo": {
     "elapsed": 51,
     "status": "ok",
     "timestamp": 1756305574407,
     "user": {
      "displayName": "Yansha",
      "userId": "05921957491757551257"
     },
     "user_tz": -420
    },
    "id": "DJmiMIQQc6Ih"
   },
   "outputs": [],
   "source": [
    "def extract_text_from_pdf(pdf_path):\n",
    "    \"\"\"Mengekstrak teks dari PDF\"\"\"\n",
    "    doc = fitz.open(pdf_path)\n",
    "    text = \"\\n\".join([page.get_text() for page in doc])\n",
    "    return text\n",
    "\n",
    "pdf_text = extract_text_from_pdf(\"/content/Cryptography_Recent_Advances_and_Research_Perspect.pdf\")"
   ]
  },
  {
   "cell_type": "code",
   "execution_count": 42,
   "metadata": {
    "executionInfo": {
     "elapsed": 36,
     "status": "ok",
     "timestamp": 1756305575359,
     "user": {
      "displayName": "Yansha",
      "userId": "05921957491757551257"
     },
     "user_tz": -420
    },
    "id": "YELF5ywbe-Hc"
   },
   "outputs": [],
   "source": [
    "document = Document(\n",
    "    page_content=pdf_text\n",
    ")"
   ]
  },
  {
   "cell_type": "code",
   "execution_count": 43,
   "metadata": {
    "executionInfo": {
     "elapsed": 37,
     "status": "ok",
     "timestamp": 1756305576757,
     "user": {
      "displayName": "Yansha",
      "userId": "05921957491757551257"
     },
     "user_tz": -420
    },
    "id": "XvqF0UkPd7kd"
   },
   "outputs": [],
   "source": [
    "splitter = CharacterTextSplitter(\n",
    "    separator=\"\\n\",\n",
    "    chunk_size=100,\n",
    "    chunk_overlap=50\n",
    ")\n",
    "\n",
    "chunks = splitter.split_text(pdf_text) #you can also split documents using split_documents"
   ]
  },
  {
   "cell_type": "code",
   "execution_count": null,
   "metadata": {
    "colab": {
     "base_uri": "https://localhost:8080/"
    },
    "collapsed": true,
    "executionInfo": {
     "elapsed": 433,
     "status": "ok",
     "timestamp": 1756305578232,
     "user": {
      "displayName": "Yansha",
      "userId": "05921957491757551257"
     },
     "user_tz": -420
    },
    "id": "A0R-QUjReTpW",
    "outputId": "da88d69c-7472-41d8-aae2-5c5f280a55d1"
   },
   "outputs": [],
   "source": [
    "# hasil chunk document\n",
    "\n",
    "[chunk[:100] + '...' for chunk in chunks]"
   ]
  },
  {
   "cell_type": "markdown",
   "metadata": {
    "id": "tPhbvlOXg_Y7"
   },
   "source": [
    "### Langkah 2: Upload Chunked Documents ke Database"
   ]
  },
  {
   "cell_type": "code",
   "execution_count": 45,
   "metadata": {
    "executionInfo": {
     "elapsed": 387,
     "status": "ok",
     "timestamp": 1756305589401,
     "user": {
      "displayName": "Yansha",
      "userId": "05921957491757551257"
     },
     "user_tz": -420
    },
    "id": "uiR20cm7fnB3"
   },
   "outputs": [],
   "source": [
    "# inisialisasi faissdb\n",
    "\n",
    "index = faiss.IndexFlatL2(len(embeddings.embed_query(\"hello world\"))) #untuk mendapatkan length vectornya\n",
    "\n",
    "# initiate Faiss VectorDB\n",
    "vector_store = FAISS(\n",
    "    embedding_function=embeddings,\n",
    "    index=index,\n",
    "    docstore=InMemoryDocstore(),\n",
    "    index_to_docstore_id={},\n",
    ")"
   ]
  },
  {
   "cell_type": "code",
   "execution_count": 46,
   "metadata": {
    "executionInfo": {
     "elapsed": 11,
     "status": "ok",
     "timestamp": 1756305590621,
     "user": {
      "displayName": "Yansha",
      "userId": "05921957491757551257"
     },
     "user_tz": -420
    },
    "id": "IlwxDfR4hIeo"
   },
   "outputs": [],
   "source": [
    "documents = [Document(page_content=chunk) for chunk in chunks]"
   ]
  },
  {
   "cell_type": "code",
   "execution_count": null,
   "metadata": {
    "colab": {
     "base_uri": "https://localhost:8080/"
    },
    "collapsed": true,
    "executionInfo": {
     "elapsed": 15182,
     "status": "ok",
     "timestamp": 1756305606480,
     "user": {
      "displayName": "Yansha",
      "userId": "05921957491757551257"
     },
     "user_tz": -420
    },
    "id": "XtOGarqThQWf",
    "outputId": "53f53d00-d491-487c-b92d-ea228abec707"
   },
   "outputs": [],
   "source": [
    "uuids = [str(uuid4()) for _ in range(len(documents))]\n",
    "\n",
    "vector_store.add_documents(documents=documents, ids=uuids)"
   ]
  },
  {
   "cell_type": "code",
   "execution_count": 48,
   "metadata": {
    "executionInfo": {
     "elapsed": 41,
     "status": "ok",
     "timestamp": 1756305613041,
     "user": {
      "displayName": "Yansha",
      "userId": "05921957491757551257"
     },
     "user_tz": -420
    },
    "id": "8F_HW03Yh_VR"
   },
   "outputs": [],
   "source": [
    "vector_store.save_local(\"faiss_cv_index\")"
   ]
  },
  {
   "cell_type": "markdown",
   "metadata": {
    "id": "blFwkLK5iFM9"
   },
   "source": [
    "### Langkah 3: Develop RAG"
   ]
  },
  {
   "cell_type": "code",
   "execution_count": 49,
   "metadata": {
    "executionInfo": {
     "elapsed": 15,
     "status": "ok",
     "timestamp": 1756305619599,
     "user": {
      "displayName": "Yansha",
      "userId": "05921957491757551257"
     },
     "user_tz": -420
    },
    "id": "Xd0kNzdQiDxJ"
   },
   "outputs": [],
   "source": [
    "# Initialize State\n",
    "\n",
    "from langchain_core.documents import Document\n",
    "from typing_extensions import List, TypedDict\n",
    "from langchain_groq import ChatGroq\n",
    "\n",
    "\n",
    "class State(TypedDict):\n",
    "    question: str\n",
    "    context: List[Document]\n",
    "    answer: str"
   ]
  },
  {
   "cell_type": "code",
   "execution_count": null,
   "metadata": {
    "colab": {
     "base_uri": "https://localhost:8080/"
    },
    "executionInfo": {
     "elapsed": 339,
     "status": "ok",
     "timestamp": 1756305411505,
     "user": {
      "displayName": "Yansha",
      "userId": "05921957491757551257"
     },
     "user_tz": -420
    },
    "id": "7XfiYcbclCJp",
    "outputId": "0b1f7297-5c06-4b61-95f1-312c09039853"
   },
   "outputs": [],
   "source": [
    "#initialize prompt\n",
    "\n",
    "from langchain import hub\n",
    "\n",
    "prompt = hub.pull(\"rlm/rag-prompt\")\n",
    "\n",
    "example_messages = prompt.invoke(\n",
    "    {\"context\": \"(context goes here)\", \"question\": \"(question goes here)\"}\n",
    ").to_messages()\n",
    "\n",
    "assert len(example_messages) == 1\n",
    "print(example_messages[0].content)"
   ]
  },
  {
   "cell_type": "code",
   "execution_count": 65,
   "metadata": {
    "executionInfo": {
     "elapsed": 530,
     "status": "ok",
     "timestamp": 1756306001754,
     "user": {
      "displayName": "Yansha",
      "userId": "05921957491757551257"
     },
     "user_tz": -420
    },
    "id": "ibuHq7uV-9em"
   },
   "outputs": [],
   "source": [
    "from google.colab import userdata\n",
    "GROQ = userdata.get('GROQ')"
   ]
  },
  {
   "cell_type": "code",
   "execution_count": 66,
   "metadata": {
    "executionInfo": {
     "elapsed": 111,
     "status": "ok",
     "timestamp": 1756306002481,
     "user": {
      "displayName": "Yansha",
      "userId": "05921957491757551257"
     },
     "user_tz": -420
    },
    "id": "_l_CdtifkenD"
   },
   "outputs": [],
   "source": [
    "# Initialize LLM\n",
    "\n",
    "os.environ[\"GROQ_API_KEY\"] = GROQ\n",
    "\n",
    "MODEL = 'llama-3.3-70b-versatile'\n",
    "\n",
    "llm = ChatGroq(\n",
    "    temperature=0,\n",
    "    model_name=MODEL\n",
    ") # kamu bisa mengganti model menjadi gemini atau LLM lainnya"
   ]
  },
  {
   "cell_type": "code",
   "execution_count": 60,
   "metadata": {
    "executionInfo": {
     "elapsed": 34,
     "status": "ok",
     "timestamp": 1756305973421,
     "user": {
      "displayName": "Yansha",
      "userId": "05921957491757551257"
     },
     "user_tz": -420
    },
    "id": "BUqWQ_sziYax"
   },
   "outputs": [],
   "source": [
    "# buat logic untuk mengambil informasi dari faissdb dan men-generate jawaban\n",
    "\n",
    "def retrieve(state: State):\n",
    "    retrieved_docs = vector_store.similarity_search(state[\"question\"])\n",
    "    return {\"context\": retrieved_docs}\n",
    "\n",
    "\n",
    "def generate(state: State):\n",
    "    docs_content = \"\\n\\n\".join(doc.page_content for doc in state[\"context\"])\n",
    "    messages = prompt.invoke({\"question\": state[\"question\"], \"context\": docs_content})\n",
    "    response = llm.invoke(messages)\n",
    "    return {\"answer\": response.content}"
   ]
  },
  {
   "cell_type": "code",
   "execution_count": 61,
   "metadata": {
    "executionInfo": {
     "elapsed": 29,
     "status": "ok",
     "timestamp": 1756305974603,
     "user": {
      "displayName": "Yansha",
      "userId": "05921957491757551257"
     },
     "user_tz": -420
    },
    "id": "sQC9f1lfkdLk"
   },
   "outputs": [],
   "source": [
    "# intialize flow\n",
    "from langgraph.graph import START, StateGraph\n",
    "\n",
    "graph_builder = StateGraph(State).add_sequence([retrieve, generate])\n",
    "graph_builder.add_edge(START, \"retrieve\")\n",
    "graph = graph_builder.compile()"
   ]
  },
  {
   "cell_type": "code",
   "execution_count": null,
   "metadata": {
    "colab": {
     "base_uri": "https://localhost:8080/",
     "height": 350
    },
    "executionInfo": {
     "elapsed": 676,
     "status": "ok",
     "timestamp": 1756305975882,
     "user": {
      "displayName": "Yansha",
      "userId": "05921957491757551257"
     },
     "user_tz": -420
    },
    "id": "EbLFQZvblJKM",
    "outputId": "8af1161f-a1d1-46e5-8898-299072ad41aa"
   },
   "outputs": [],
   "source": [
    "from IPython.display import Image, display\n",
    "\n",
    "display(Image(graph.get_graph().draw_mermaid_png()))"
   ]
  },
  {
   "cell_type": "code",
   "execution_count": null,
   "metadata": {
    "colab": {
     "base_uri": "https://localhost:8080/"
    },
    "executionInfo": {
     "elapsed": 769,
     "status": "ok",
     "timestamp": 1756306008017,
     "user": {
      "displayName": "Yansha",
      "userId": "05921957491757551257"
     },
     "user_tz": -420
    },
    "id": "6Hya9OielLGN",
    "outputId": "34b2a543-af30-47b5-82a8-c35a695d857a"
   },
   "outputs": [],
   "source": [
    "result = graph.invoke({\"question\": \"What is Crypto?\"})\n",
    "\n",
    "print(f'Context: {result[\"context\"]}\\n\\n')\n",
    "print(f'Answer: {result[\"answer\"]}')"
   ]
  },
  {
   "cell_type": "code",
   "execution_count": null,
   "metadata": {
    "colab": {
     "base_uri": "https://localhost:8080/"
    },
    "executionInfo": {
     "elapsed": 858,
     "status": "ok",
     "timestamp": 1756306038379,
     "user": {
      "displayName": "Yansha",
      "userId": "05921957491757551257"
     },
     "user_tz": -420
    },
    "id": "4p-3eIlalgjS",
    "outputId": "58f71ab0-fc7f-4a7e-a22d-9daaa21f84b7"
   },
   "outputs": [],
   "source": [
    "result = graph.invoke({\"question\": \"What the point of Cryptocurrency?\"})\n",
    "print(f'Answer: {result[\"answer\"]}')"
   ]
  },
  {
   "cell_type": "code",
   "execution_count": null,
   "metadata": {
    "id": "_6XTh_dplpYN"
   },
   "outputs": [],
   "source": []
  }
 ],
 "metadata": {
  "accelerator": "GPU",
  "colab": {
   "gpuType": "T4",
   "provenance": [
    {
     "file_id": "1b4xHmOBmDvG78tIQEfBKH94ddPURRm_N",
     "timestamp": 1756297050057
    },
    {
     "file_id": "1u5u-22ELsYYVn4LOxAeMm90WcyY_VBNE",
     "timestamp": 1739933701145
    }
   ]
  },
  "kernelspec": {
   "display_name": "Python 3",
   "name": "python3"
  },
  "language_info": {
   "name": "python"
  }
 },
 "nbformat": 4,
 "nbformat_minor": 0
}
